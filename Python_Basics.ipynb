{
  "nbformat": 4,
  "nbformat_minor": 0,
  "metadata": {
    "colab": {
      "provenance": [],
      "authorship_tag": "ABX9TyMPDrBoL2/Gqg1XQHedpYUZ",
      "include_colab_link": true
    },
    "kernelspec": {
      "name": "python3",
      "display_name": "Python 3"
    },
    "language_info": {
      "name": "python"
    }
  },
  "cells": [
    {
      "cell_type": "markdown",
      "metadata": {
        "id": "view-in-github",
        "colab_type": "text"
      },
      "source": [
        "<a href=\"https://colab.research.google.com/github/kalingts/Python_Basics/blob/main/Python_Basics.ipynb\" target=\"_parent\"><img src=\"https://colab.research.google.com/assets/colab-badge.svg\" alt=\"Open In Colab\"/></a>"
      ]
    },
    {
      "cell_type": "markdown",
      "source": [
        "#**Python**"
      ],
      "metadata": {
        "id": "I35U-CW2_Gdr"
      }
    },
    {
      "cell_type": "code",
      "execution_count": null,
      "metadata": {
        "id": "5dEkVYN5_FXx"
      },
      "outputs": [],
      "source": [
        "# to print Hello World\n",
        "print(\"Hello World!\")"
      ]
    },
    {
      "cell_type": "code",
      "source": [
        "#Comments\n",
        "#This is a comment\n",
        "\"\"\"\n",
        "This is a comment\n",
        "written in\n",
        "more than just one line\n",
        "\"\"\""
      ],
      "metadata": {
        "id": "YpuHpILJaCbY"
      },
      "execution_count": null,
      "outputs": []
    },
    {
      "cell_type": "markdown",
      "source": [
        "## **Variables**"
      ],
      "metadata": {
        "id": "axq5KYZDaSfl"
      }
    },
    {
      "cell_type": "code",
      "source": [
        "#Variables do not need to be declared with any particular type, and can even change type after they have been set.\n",
        "x = 4       # x is of type int\n",
        "x = \"Welcome\" # x is now of type str\n",
        "print(x)"
      ],
      "metadata": {
        "colab": {
          "base_uri": "https://localhost:8080/"
        },
        "id": "rF32W5NFaWhc",
        "outputId": "dceffa7f-13a1-4795-fe75-91f334741b7a"
      },
      "execution_count": 4,
      "outputs": [
        {
          "output_type": "stream",
          "name": "stdout",
          "text": [
            "Welcome\n"
          ]
        }
      ]
    },
    {
      "cell_type": "code",
      "source": [
        "#Many Values to Multiple Variables\n",
        "x, y, z = \"Orange\", \"Banana\", \"Cherry\"\n",
        "print(x)\n",
        "print(y)\n",
        "print(z)"
      ],
      "metadata": {
        "colab": {
          "base_uri": "https://localhost:8080/"
        },
        "id": "TcrVB1Hwbknn",
        "outputId": "08e45838-0db9-4399-9a96-0ae69824c7f4"
      },
      "execution_count": 7,
      "outputs": [
        {
          "output_type": "stream",
          "name": "stdout",
          "text": [
            "Orange\n",
            "Banana\n",
            "Cherry\n"
          ]
        }
      ]
    },
    {
      "cell_type": "code",
      "source": [
        "#One Value to Multiple Variables\n",
        "x = y = z = \"Orange\"\n",
        "print(x)\n",
        "print(y)\n",
        "print(z)"
      ],
      "metadata": {
        "colab": {
          "base_uri": "https://localhost:8080/"
        },
        "id": "d9UqUCgXbvOJ",
        "outputId": "ff521d6a-da7c-4d8a-f5c1-179621b6486b"
      },
      "execution_count": 8,
      "outputs": [
        {
          "output_type": "stream",
          "name": "stdout",
          "text": [
            "Orange\n",
            "Orange\n",
            "Orange\n"
          ]
        }
      ]
    },
    {
      "cell_type": "code",
      "source": [
        "#Global Variables\n",
        "x = \"awesome\"\n",
        "\n",
        "def myfunc():\n",
        "  print(\"Python is \" + x)\n",
        "\n",
        "myfunc()"
      ],
      "metadata": {
        "id": "TsPp6ZcXcIE6"
      },
      "execution_count": null,
      "outputs": []
    },
    {
      "cell_type": "code",
      "source": [
        "#Unpack a Collection\n",
        "fruits = [\"apple\", \"banana\", \"cherry\"]\n",
        "x, y, z = fruits\n",
        "print(x)\n",
        "print(y)\n",
        "print(z)"
      ],
      "metadata": {
        "colab": {
          "base_uri": "https://localhost:8080/"
        },
        "id": "Zmurjnvdb9hv",
        "outputId": "2773b4ef-5ec2-4b30-a087-f42f59532550"
      },
      "execution_count": 9,
      "outputs": [
        {
          "output_type": "stream",
          "name": "stdout",
          "text": [
            "apple\n",
            "banana\n",
            "cherry\n"
          ]
        }
      ]
    },
    {
      "cell_type": "code",
      "source": [
        "#Legal variable names:\n",
        "myvar = \"John\"\n",
        "my_var = \"John\"\n",
        "_my_var = \"John\"\n",
        "myVar = \"John\"\n",
        "MYVAR = \"John\"\n",
        "myvar2 = \"John\"\n",
        "\n",
        "#Illegal variable names:\n",
        "2myvar = \"John\"\n",
        "my-var = \"John\"\n",
        "my var = \"John\""
      ],
      "metadata": {
        "id": "WJbku-OKbATh"
      },
      "execution_count": null,
      "outputs": []
    },
    {
      "cell_type": "code",
      "source": [
        "#Camel Case\n",
        "myVariableName = \"John\"\n",
        "\n",
        "#Pascal Case\n",
        "MyVariableName = \"John\"\n",
        "\n",
        "#Snake Case\n",
        "#Each word is separated by an underscore character:\n",
        "my_variable_name = \"John\""
      ],
      "metadata": {
        "id": "1w7KwC3XbPxY"
      },
      "execution_count": 6,
      "outputs": []
    },
    {
      "cell_type": "markdown",
      "source": [
        "## **Casting**"
      ],
      "metadata": {
        "id": "HeibZbQAajiv"
      }
    },
    {
      "cell_type": "code",
      "source": [
        "#If you want to specify the data type of a variable, this can be done with casting.\n",
        "x = str(3)    # x will be '3'\n",
        "y = int(3)    # y will be 3\n",
        "z = float(3)  # z will be 3.0\n",
        "z"
      ],
      "metadata": {
        "colab": {
          "base_uri": "https://localhost:8080/"
        },
        "id": "9UF0KB8caeCm",
        "outputId": "4acf4541-6b9a-44f8-e046-248946ae0a9a"
      },
      "execution_count": 3,
      "outputs": [
        {
          "output_type": "execute_result",
          "data": {
            "text/plain": [
              "3.0"
            ]
          },
          "metadata": {},
          "execution_count": 3
        }
      ]
    },
    {
      "cell_type": "code",
      "source": [
        "#to check type\n",
        "print(type(x))"
      ],
      "metadata": {
        "colab": {
          "base_uri": "https://localhost:8080/"
        },
        "id": "RMTOPavZax7-",
        "outputId": "3876d143-2e69-461a-a679-7b5a39475452"
      },
      "execution_count": 5,
      "outputs": [
        {
          "output_type": "stream",
          "name": "stdout",
          "text": [
            "<class 'str'>\n"
          ]
        }
      ]
    },
    {
      "cell_type": "markdown",
      "source": [
        "## **Python Data Types**"
      ],
      "metadata": {
        "id": "FxvTi-khCCvA"
      }
    },
    {
      "cell_type": "markdown",
      "source": [
        "![image.png](data:image/png;base64,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)"
      ],
      "metadata": {
        "id": "OOCFF6LDAw40"
      }
    },
    {
      "cell_type": "markdown",
      "source": [
        "![image.png](data:image/png;base64,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)"
      ],
      "metadata": {
        "id": "7QH-J3k3caBu"
      }
    },
    {
      "cell_type": "markdown",
      "source": [
        "## **String**"
      ],
      "metadata": {
        "id": "E5KtmR0XCNyi"
      }
    },
    {
      "cell_type": "code",
      "source": [
        "string = \"GEEKSFORGEEKS\"\n",
        "print(string)\n",
        "print(type(string))"
      ],
      "metadata": {
        "colab": {
          "base_uri": "https://localhost:8080/"
        },
        "id": "0RPCtVLZAwpt",
        "outputId": "d3484665-7cc4-475e-e936-3ac3e3d98d45"
      },
      "execution_count": 10,
      "outputs": [
        {
          "output_type": "stream",
          "name": "stdout",
          "text": [
            "GEEKSFORGEEKS\n",
            "<class 'str'>\n"
          ]
        }
      ]
    },
    {
      "cell_type": "markdown",
      "source": [
        "![image.png](data:image/png;base64,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)"
      ],
      "metadata": {
        "id": "IqpDv5K4CLHF"
      }
    },
    {
      "cell_type": "code",
      "source": [
        "#Strings are Arrays\n",
        "len(string)"
      ],
      "metadata": {
        "colab": {
          "base_uri": "https://localhost:8080/"
        },
        "id": "0WY9q3SvdTye",
        "outputId": "0a8c30dd-14ce-4b47-c4db-ee9606c248f1"
      },
      "execution_count": 12,
      "outputs": [
        {
          "output_type": "execute_result",
          "data": {
            "text/plain": [
              "13"
            ]
          },
          "metadata": {},
          "execution_count": 12
        }
      ]
    },
    {
      "cell_type": "code",
      "source": [
        "for i in string:\n",
        "  print(i)"
      ],
      "metadata": {
        "colab": {
          "base_uri": "https://localhost:8080/"
        },
        "id": "ZgQv6OhgdcDY",
        "outputId": "822c3cdd-1243-4cb8-9420-6b462bf525a3"
      },
      "execution_count": 13,
      "outputs": [
        {
          "output_type": "stream",
          "name": "stdout",
          "text": [
            "G\n",
            "E\n",
            "E\n",
            "K\n",
            "S\n",
            "F\n",
            "O\n",
            "R\n",
            "G\n",
            "E\n",
            "E\n",
            "K\n",
            "S\n"
          ]
        }
      ]
    },
    {
      "cell_type": "code",
      "source": [
        "# Printing First character\n",
        "print(\"First character of String is: \", string[0])\n",
        "\n",
        "# Printing Last character\n",
        "print(\"Last character of String is: \", string[-3])\n",
        "\n",
        "# Printing 3rd to 12th character\n",
        "print(\"\\nSlicing characters from 3-12: \")\n",
        "print(string[3:12])\n",
        "\n",
        "# Printing characters between\n",
        "# 3rd and 2nd last character\n",
        "print(\"\\nSlicing characters between \" +\n",
        "      \"3rd and 2nd last character: \")\n",
        "print(string[3:-2])"
      ],
      "metadata": {
        "colab": {
          "base_uri": "https://localhost:8080/"
        },
        "id": "jLOGX369DE0N",
        "outputId": "fcd21e0d-ed84-470e-d215-3446f0cbaaf2"
      },
      "execution_count": null,
      "outputs": [
        {
          "output_type": "stream",
          "name": "stdout",
          "text": [
            "First character of String is:  G\n",
            "Last character of String is:  E\n",
            "\n",
            "Slicing characters from 3-12: \n",
            "KSFORGEEK\n",
            "\n",
            "Slicing characters between 3rd and 2nd last character: \n",
            "KSFORGEE\n"
          ]
        }
      ]
    },
    {
      "cell_type": "code",
      "source": [
        "#Program to reverse a string\n",
        "gfg = \"geeksforgeeks\"\n",
        "print(gfg[::-1])"
      ],
      "metadata": {
        "colab": {
          "base_uri": "https://localhost:8080/"
        },
        "id": "y5gxcoUSDeHD",
        "outputId": "b9131825-063c-4d3b-897b-1b44cb14e937"
      },
      "execution_count": null,
      "outputs": [
        {
          "output_type": "stream",
          "name": "stdout",
          "text": [
            "skeegrofskeeg\n"
          ]
        }
      ]
    },
    {
      "cell_type": "code",
      "source": [
        "s='Machine Learning'"
      ],
      "metadata": {
        "id": "nr455_gMdrWn"
      },
      "execution_count": 21,
      "outputs": []
    },
    {
      "cell_type": "code",
      "source": [
        "s.replace('ne','a')"
      ],
      "metadata": {
        "colab": {
          "base_uri": "https://localhost:8080/",
          "height": 36
        },
        "id": "-OYiOApreVDK",
        "outputId": "c59bab15-0ba2-4f60-f1bf-8cf515fb0bd8"
      },
      "execution_count": 20,
      "outputs": [
        {
          "output_type": "execute_result",
          "data": {
            "text/plain": [
              "'Machia Learning'"
            ],
            "application/vnd.google.colaboratory.intrinsic+json": {
              "type": "string"
            }
          },
          "metadata": {},
          "execution_count": 20
        }
      ]
    },
    {
      "cell_type": "markdown",
      "source": [
        " string.upper, string.lower, String.len, string.capitalize, string.split, string.strip(), len(string)\n",
        "\n",
        "*    Single quotes: 'Hii'\n",
        "*   Double quotes: \"Geeks\"\n",
        "*   Triple quotes: '''Welcome'''  \"\"\"Greeks\"\"\"\n",
        "\n",
        "\n",
        "\n",
        "\n"
      ],
      "metadata": {
        "id": "jlLaV-8DEM_v"
      }
    },
    {
      "cell_type": "code",
      "source": [
        "a = \"\"\"Lorem ipsum dolor sit amet,\n",
        "consectetur adipiscing elit,\n",
        "sed do eiusmod tempor incididunt\n",
        "ut labore et dolore magna aliqua.\"\"\"\n",
        "print(a)\n",
        "\n",
        "b= '''Lorem ipsum dolor sit amet,\n",
        "consectetur adipiscing elit,\n",
        "sed do eiusmod tempor incididunt\n",
        "ut labore et dolore magna aliqua.'''\n",
        "print(b)"
      ],
      "metadata": {
        "colab": {
          "base_uri": "https://localhost:8080/"
        },
        "id": "syYN82opdER_",
        "outputId": "4d26febd-77f3-460e-83ac-6ecf05892db7"
      },
      "execution_count": 11,
      "outputs": [
        {
          "output_type": "stream",
          "name": "stdout",
          "text": [
            "Lorem ipsum dolor sit amet,\n",
            "consectetur adipiscing elit,\n",
            "sed do eiusmod tempor incididunt\n",
            "ut labore et dolore magna aliqua.\n",
            "Lorem ipsum dolor sit amet,\n",
            "consectetur adipiscing elit,\n",
            "sed do eiusmod tempor incididunt\n",
            "ut labore et dolore magna aliqua.\n"
          ]
        }
      ]
    },
    {
      "cell_type": "markdown",
      "source": [
        "## **Numbers**"
      ],
      "metadata": {
        "id": "NdiBhe_0F1cC"
      }
    },
    {
      "cell_type": "code",
      "source": [
        "a = 5\n",
        "b = 6\n",
        "\n",
        "# Addition\n",
        "c = a + b\n",
        "print(\"Addition:\",c)\n",
        "\n",
        "d = 9\n",
        "e = 6\n",
        "\n",
        "# Subtraction\n",
        "f = d - e\n",
        "print(\"Subtraction:\",f)\n",
        "\n",
        "g = 8\n",
        "h = 2\n",
        "\n",
        "# Division\n",
        "i = g // h\n",
        "print(\"Division:\",i)\n",
        "\n",
        "j = 3\n",
        "k = 5\n",
        "\n",
        "# Multiplication\n",
        "l = j * k\n",
        "print(\"Multiplication:\",l)\n",
        "\n",
        "m = 25\n",
        "n = 5\n",
        "\n",
        "# Modulus\n",
        "o = m % n\n",
        "\n",
        "print(\"Modulus:\",o)\n",
        "\n",
        "p = 6\n",
        "q = 2\n",
        "\n",
        "# Exponent(power)\n",
        "r = p ** q\n",
        "print(\"Exponent:\",r)"
      ],
      "metadata": {
        "colab": {
          "base_uri": "https://localhost:8080/"
        },
        "id": "oKB6aI15F6Jm",
        "outputId": "b38cf7e9-7962-4157-ae7e-f7de16746e19"
      },
      "execution_count": null,
      "outputs": [
        {
          "output_type": "stream",
          "name": "stdout",
          "text": [
            "Addition: 11\n",
            "Subtraction: 3\n",
            "Division: 4\n",
            "Multiplication: 15\n",
            "Modulus: 0\n",
            "Exponent: 36\n"
          ]
        }
      ]
    },
    {
      "cell_type": "code",
      "source": [
        "a = 1 + 5j\n",
        "b = 2 + 3j\n",
        "\n",
        "# Addition\n",
        "c = a + b\n",
        "print(\"Addition:\",c)\n",
        "print(type(c))"
      ],
      "metadata": {
        "colab": {
          "base_uri": "https://localhost:8080/"
        },
        "id": "L4hRS41kGpj_",
        "outputId": "46305b25-e400-475c-9c2f-dfc49224bb9e"
      },
      "execution_count": null,
      "outputs": [
        {
          "output_type": "stream",
          "name": "stdout",
          "text": [
            "Addition: (3+8j)\n",
            "<class 'complex'>\n"
          ]
        }
      ]
    },
    {
      "cell_type": "code",
      "source": [
        "#Type conversion\n",
        "a = 2\n",
        "print(float(a))\n",
        "\n",
        "b = 5.6\n",
        "print(int(b))"
      ],
      "metadata": {
        "colab": {
          "base_uri": "https://localhost:8080/"
        },
        "id": "VGETiTqlG7dg",
        "outputId": "353b1b8a-eacc-40a1-e723-da6cb802e744"
      },
      "execution_count": null,
      "outputs": [
        {
          "output_type": "stream",
          "name": "stdout",
          "text": [
            "2.0\n",
            "5\n"
          ]
        }
      ]
    },
    {
      "cell_type": "markdown",
      "source": [
        "## **Boolean**"
      ],
      "metadata": {
        "id": "DehdoyirHTqn"
      }
    },
    {
      "cell_type": "code",
      "source": [
        "a = True\n",
        "type(a)\n",
        "\n",
        "b = False\n",
        "type(b)"
      ],
      "metadata": {
        "colab": {
          "base_uri": "https://localhost:8080/"
        },
        "id": "T3fMcSWKHS9f",
        "outputId": "bcc3eb02-a054-4ffd-ef63-b1c9c2ef7752"
      },
      "execution_count": null,
      "outputs": [
        {
          "output_type": "execute_result",
          "data": {
            "text/plain": [
              "bool"
            ]
          },
          "metadata": {},
          "execution_count": 10
        }
      ]
    },
    {
      "cell_type": "markdown",
      "source": [
        "## **Operators**"
      ],
      "metadata": {
        "id": "xjWcOliTjbFq"
      }
    },
    {
      "cell_type": "markdown",
      "source": [
        "\n",
        "*   Arithmetic operators + - * / % **\n",
        "*   Comparison Operators == != > < >= <=\n",
        "*   Logical Operators and or not\n",
        "*   Bitwise Operators & | (used to compare (binary) numbers)\n",
        "*   Assignment Operators = += -= *= ..\n",
        "*   membership operators “in” “ not in”\n",
        "*   identity operators “is”  “is not”\n",
        "\n"
      ],
      "metadata": {
        "id": "VH-MZ-ZYjeuI"
      }
    },
    {
      "cell_type": "code",
      "source": [
        "# and\n",
        "a = 10\n",
        "b = 20\n",
        "c = 40\n",
        "\n",
        "if a > b and b<c:\n",
        "    print(True)\n",
        "else:\n",
        "    print(False)"
      ],
      "metadata": {
        "colab": {
          "base_uri": "https://localhost:8080/"
        },
        "id": "BjeKD9OYHhsO",
        "outputId": "876d476a-f4ff-4222-e1c9-557ce6500bb9"
      },
      "execution_count": null,
      "outputs": [
        {
          "output_type": "stream",
          "name": "stdout",
          "text": [
            "False\n"
          ]
        }
      ]
    },
    {
      "cell_type": "code",
      "source": [
        "# not operator\n",
        "\n",
        "a = 0\n",
        "#0 implies false\n",
        "if not a:\n",
        "    print(\"Boolean value of a is False\")\n",
        "else:\n",
        "    print(\"Boolean value of a is True\")"
      ],
      "metadata": {
        "colab": {
          "base_uri": "https://localhost:8080/"
        },
        "id": "EbwqX7JHIouG",
        "outputId": "9116fde6-398a-408d-9340-f65558d6de15"
      },
      "execution_count": null,
      "outputs": [
        {
          "output_type": "stream",
          "name": "stdout",
          "text": [
            "Boolean value of a is True\n"
          ]
        }
      ]
    },
    {
      "cell_type": "code",
      "source": [
        "# equivalent an not equivalent\n",
        "\n",
        "a = 0\n",
        "b = 1\n",
        "\n",
        "if a == 0:\n",
        "    print(True)\n",
        "\n",
        "if a == b:\n",
        "    print(True)\n",
        "\n",
        "if a != b:\n",
        "    print(True)"
      ],
      "metadata": {
        "colab": {
          "base_uri": "https://localhost:8080/"
        },
        "id": "gZgTpqyyJVr9",
        "outputId": "1a53d913-7de3-4364-f780-56a63dc922ed"
      },
      "execution_count": null,
      "outputs": [
        {
          "output_type": "stream",
          "name": "stdout",
          "text": [
            "True\n",
            "True\n"
          ]
        }
      ]
    },
    {
      "cell_type": "code",
      "source": [
        "# is keyword\n",
        "\n",
        "\n",
        "x = 10\n",
        "y = 10\n",
        "\n",
        "if x is y:\n",
        "    print(True)\n",
        "else:\n",
        "    print(False)"
      ],
      "metadata": {
        "colab": {
          "base_uri": "https://localhost:8080/"
        },
        "id": "KftsMwzgJjn0",
        "outputId": "026ba4ca-1deb-4f27-cc0d-071d2c0a11c1"
      },
      "execution_count": null,
      "outputs": [
        {
          "output_type": "stream",
          "name": "stdout",
          "text": [
            "True\n"
          ]
        }
      ]
    },
    {
      "cell_type": "code",
      "source": [
        "# in keyword\n",
        "\n",
        "# Create a list\n",
        "animals = [\"dog\", \"lion\", \"cat\"]\n",
        "\n",
        "# Check if lion in list or not\n",
        "if \"lion\" in animals:\n",
        "    print(True)"
      ],
      "metadata": {
        "colab": {
          "base_uri": "https://localhost:8080/"
        },
        "id": "GYhD1FSVKHX9",
        "outputId": "7faddd55-8b54-4c0f-8774-1c41703469e3"
      },
      "execution_count": null,
      "outputs": [
        {
          "output_type": "stream",
          "name": "stdout",
          "text": [
            "True\n"
          ]
        }
      ]
    },
    {
      "cell_type": "markdown",
      "source": [
        "## **Statements**"
      ],
      "metadata": {
        "id": "GIIbC2bklQGS"
      }
    },
    {
      "cell_type": "markdown",
      "source": [
        "\n",
        "\n",
        "*   if\n",
        "*   if else\n",
        "*   Nested if (elif)\n",
        "*   ternary '[on_true] if [expression] else [on_false]'\n",
        "\n",
        "\n",
        "\n"
      ],
      "metadata": {
        "id": "3sT8SCltlTJv"
      }
    },
    {
      "cell_type": "code",
      "source": [
        "# if statement example\n",
        "if 10 > 5:\n",
        "    print(\"10 greater than 5\")\n",
        "\n",
        "print(\"Program ended\")"
      ],
      "metadata": {
        "colab": {
          "base_uri": "https://localhost:8080/"
        },
        "id": "5m-U_ECVmfYf",
        "outputId": "904786ae-eeff-4aea-ef5c-e165572d0138"
      },
      "execution_count": null,
      "outputs": [
        {
          "output_type": "stream",
          "name": "stdout",
          "text": [
            "10 greater than 5\n",
            "Program ended\n"
          ]
        }
      ]
    },
    {
      "cell_type": "code",
      "source": [
        "# if..else statement example\n",
        "x = 3\n",
        "if x == 4:\n",
        "    print(\"Yes\")\n",
        "else:\n",
        "    print(\"No\")"
      ],
      "metadata": {
        "colab": {
          "base_uri": "https://localhost:8080/"
        },
        "id": "Qa6XlTInmZk1",
        "outputId": "8e47bbdc-954a-4aa6-929a-b9e03b978498"
      },
      "execution_count": null,
      "outputs": [
        {
          "output_type": "stream",
          "name": "stdout",
          "text": [
            "No\n"
          ]
        }
      ]
    },
    {
      "cell_type": "code",
      "source": [
        "# if-elif statement example\n",
        "letter = \"A\"\n",
        "\n",
        "if letter == \"B\":\n",
        "    print(\"letter is B\")\n",
        "\n",
        "elif letter == \"C\":\n",
        "    print(\"letter is C\")\n",
        "\n",
        "elif letter == \"A\":\n",
        "    print(\"letter is A\")\n",
        "\n",
        "else:\n",
        "    print(\"letter isn't A, B or C\")"
      ],
      "metadata": {
        "colab": {
          "base_uri": "https://localhost:8080/"
        },
        "id": "AShf9EEomT2t",
        "outputId": "bda10d9b-10bb-493b-8f7a-29605ad866c4"
      },
      "execution_count": null,
      "outputs": [
        {
          "output_type": "stream",
          "name": "stdout",
          "text": [
            "letter is A\n"
          ]
        }
      ]
    },
    {
      "cell_type": "code",
      "source": [
        "# Python program to demonstrate nested ternary operator\n",
        "a, b = 10, 20\n",
        "\n",
        "print (True if a == b else False)"
      ],
      "metadata": {
        "colab": {
          "base_uri": "https://localhost:8080/"
        },
        "id": "p3vnfyKojWM_",
        "outputId": "a6eba634-b31b-48d2-af24-7a382cf28d91"
      },
      "execution_count": null,
      "outputs": [
        {
          "output_type": "stream",
          "name": "stdout",
          "text": [
            "False\n"
          ]
        }
      ]
    },
    {
      "cell_type": "markdown",
      "source": [
        "## **Loops**"
      ],
      "metadata": {
        "id": "eLsBYJYYmpk_"
      }
    },
    {
      "cell_type": "markdown",
      "source": [
        "*   While Loop\n",
        "*   for loop"
      ],
      "metadata": {
        "id": "vyurXqYTmr-o"
      }
    },
    {
      "cell_type": "code",
      "source": [
        "count = 0\n",
        "while (count < 3):\n",
        "    count = count + 1\n",
        "    print(\"Hello\")"
      ],
      "metadata": {
        "id": "WsBKn7d6mrVd"
      },
      "execution_count": null,
      "outputs": []
    },
    {
      "cell_type": "code",
      "source": [
        "n = 4\n",
        "for i in range(0, n):\n",
        "    print(i)"
      ],
      "metadata": {
        "id": "zII6xXS8m3v1"
      },
      "execution_count": null,
      "outputs": []
    },
    {
      "cell_type": "markdown",
      "source": [
        "Break, Pass"
      ],
      "metadata": {
        "id": "jezA1AyEnJk7"
      }
    },
    {
      "cell_type": "markdown",
      "source": [
        "## **Lists**"
      ],
      "metadata": {
        "id": "aXHug1nvKS9z"
      }
    },
    {
      "cell_type": "code",
      "source": [
        "l=['a',1,False]\n",
        "print(l)\n",
        "print(type(l))"
      ],
      "metadata": {
        "colab": {
          "base_uri": "https://localhost:8080/"
        },
        "id": "QGeAJ3icKR6s",
        "outputId": "4a8265f6-4f4f-4363-fbfe-b7b99588fd8c"
      },
      "execution_count": null,
      "outputs": [
        {
          "output_type": "stream",
          "name": "stdout",
          "text": [
            "['a', 1, False]\n",
            "<class 'list'>\n"
          ]
        }
      ]
    },
    {
      "cell_type": "code",
      "source": [
        "# using index\n",
        "List = [\"Apple\", \"Orange\", \"Pineapple\"]\n",
        "print(\"\\nList Items: \")\n",
        "print(List[0])\n",
        "print(List[2])"
      ],
      "metadata": {
        "colab": {
          "base_uri": "https://localhost:8080/"
        },
        "id": "ilk8KplwLA-8",
        "outputId": "04bd58ba-905d-46e6-e8bb-365f52c5e3e6"
      },
      "execution_count": null,
      "outputs": [
        {
          "output_type": "stream",
          "name": "stdout",
          "text": [
            "\n",
            "List Items: \n",
            "Apple\n",
            "Pineapple\n"
          ]
        }
      ]
    },
    {
      "cell_type": "code",
      "source": [
        "# Creating a Multi-Dimensional List\n",
        "# (By Nesting a list inside a List)\n",
        "List = [[\"Apple\", \"Orange\"], [\"Pineapple\"]]\n",
        "\n",
        "# accessing an element from the\n",
        "# Multi-Dimensional List using\n",
        "# index number\n",
        "print(\"Accessing a element from a Multi-Dimensional list\")\n",
        "print(List[0][1])\n",
        "print(List[1][0])"
      ],
      "metadata": {
        "colab": {
          "base_uri": "https://localhost:8080/"
        },
        "id": "Gv0Dwj6wLdX8",
        "outputId": "8b2ba46b-4adf-4c32-e6bf-f70a2183be17"
      },
      "execution_count": null,
      "outputs": [
        {
          "output_type": "stream",
          "name": "stdout",
          "text": [
            "Accessing a element from a Multi-Dimensional list\n",
            "Orange\n",
            "Pineapple\n"
          ]
        }
      ]
    },
    {
      "cell_type": "code",
      "source": [
        "print(len(List))\n",
        "len(List[1])"
      ],
      "metadata": {
        "colab": {
          "base_uri": "https://localhost:8080/"
        },
        "id": "lnUd80D5Lviq",
        "outputId": "551948a6-ef11-4556-ad57-ec36c6a77af9"
      },
      "execution_count": null,
      "outputs": [
        {
          "output_type": "stream",
          "name": "stdout",
          "text": [
            "2\n"
          ]
        },
        {
          "output_type": "execute_result",
          "data": {
            "text/plain": [
              "1"
            ]
          },
          "metadata": {},
          "execution_count": 33
        }
      ]
    },
    {
      "cell_type": "code",
      "source": [
        "l=[1,2,3,4,5]\n",
        "l.extend([6,7,8])\n",
        "print(l)"
      ],
      "metadata": {
        "id": "iF2UZvZM7BRF"
      },
      "execution_count": null,
      "outputs": []
    },
    {
      "cell_type": "code",
      "source": [
        "# input the list as string\n",
        "string = input(\"Enter elements (Space-Separated): \")\n",
        "\n",
        "# split the strings and store it to a list\n",
        "lst = string.split()\n",
        "print('The list is:', lst)   # printing the list"
      ],
      "metadata": {
        "colab": {
          "base_uri": "https://localhost:8080/"
        },
        "id": "UsjtGR08MFLj",
        "outputId": "eee72962-95f1-4f90-ee65-43b58cbe28ef"
      },
      "execution_count": null,
      "outputs": [
        {
          "output_type": "stream",
          "name": "stdout",
          "text": [
            "Enter elements (Space-Separated): I am groot\n",
            "The list is: ['I', 'am', 'groot']\n"
          ]
        }
      ]
    },
    {
      "cell_type": "code",
      "source": [
        "a=int(input())\n",
        "a"
      ],
      "metadata": {
        "colab": {
          "base_uri": "https://localhost:8080/"
        },
        "collapsed": true,
        "id": "DwMWAKvK4SS8",
        "outputId": "dc79157d-ed32-4e10-f09a-0a35fde4f288"
      },
      "execution_count": null,
      "outputs": [
        {
          "output_type": "error",
          "ename": "KeyboardInterrupt",
          "evalue": "Interrupted by user",
          "traceback": [
            "\u001b[0;31m---------------------------------------------------------------------------\u001b[0m",
            "\u001b[0;31mKeyboardInterrupt\u001b[0m                         Traceback (most recent call last)",
            "\u001b[0;32m<ipython-input-92-a758da8b882f>\u001b[0m in \u001b[0;36m<cell line: 1>\u001b[0;34m()\u001b[0m\n\u001b[0;32m----> 1\u001b[0;31m \u001b[0ma\u001b[0m\u001b[0;34m=\u001b[0m\u001b[0mint\u001b[0m\u001b[0;34m(\u001b[0m\u001b[0minput\u001b[0m\u001b[0;34m(\u001b[0m\u001b[0;34m)\u001b[0m\u001b[0;34m)\u001b[0m\u001b[0;34m\u001b[0m\u001b[0;34m\u001b[0m\u001b[0m\n\u001b[0m\u001b[1;32m      2\u001b[0m \u001b[0ma\u001b[0m\u001b[0;34m\u001b[0m\u001b[0;34m\u001b[0m\u001b[0m\n",
            "\u001b[0;32m/usr/local/lib/python3.10/dist-packages/ipykernel/kernelbase.py\u001b[0m in \u001b[0;36mraw_input\u001b[0;34m(self, prompt)\u001b[0m\n\u001b[1;32m    849\u001b[0m                 \u001b[0;34m\"raw_input was called, but this frontend does not support input requests.\"\u001b[0m\u001b[0;34m\u001b[0m\u001b[0;34m\u001b[0m\u001b[0m\n\u001b[1;32m    850\u001b[0m             )\n\u001b[0;32m--> 851\u001b[0;31m         return self._input_request(str(prompt),\n\u001b[0m\u001b[1;32m    852\u001b[0m             \u001b[0mself\u001b[0m\u001b[0;34m.\u001b[0m\u001b[0m_parent_ident\u001b[0m\u001b[0;34m,\u001b[0m\u001b[0;34m\u001b[0m\u001b[0;34m\u001b[0m\u001b[0m\n\u001b[1;32m    853\u001b[0m             \u001b[0mself\u001b[0m\u001b[0;34m.\u001b[0m\u001b[0m_parent_header\u001b[0m\u001b[0;34m,\u001b[0m\u001b[0;34m\u001b[0m\u001b[0;34m\u001b[0m\u001b[0m\n",
            "\u001b[0;32m/usr/local/lib/python3.10/dist-packages/ipykernel/kernelbase.py\u001b[0m in \u001b[0;36m_input_request\u001b[0;34m(self, prompt, ident, parent, password)\u001b[0m\n\u001b[1;32m    893\u001b[0m             \u001b[0;32mexcept\u001b[0m \u001b[0mKeyboardInterrupt\u001b[0m\u001b[0;34m:\u001b[0m\u001b[0;34m\u001b[0m\u001b[0;34m\u001b[0m\u001b[0m\n\u001b[1;32m    894\u001b[0m                 \u001b[0;31m# re-raise KeyboardInterrupt, to truncate traceback\u001b[0m\u001b[0;34m\u001b[0m\u001b[0;34m\u001b[0m\u001b[0m\n\u001b[0;32m--> 895\u001b[0;31m                 \u001b[0;32mraise\u001b[0m \u001b[0mKeyboardInterrupt\u001b[0m\u001b[0;34m(\u001b[0m\u001b[0;34m\"Interrupted by user\"\u001b[0m\u001b[0;34m)\u001b[0m \u001b[0;32mfrom\u001b[0m \u001b[0;32mNone\u001b[0m\u001b[0;34m\u001b[0m\u001b[0;34m\u001b[0m\u001b[0m\n\u001b[0m\u001b[1;32m    896\u001b[0m             \u001b[0;32mexcept\u001b[0m \u001b[0mException\u001b[0m \u001b[0;32mas\u001b[0m \u001b[0me\u001b[0m\u001b[0;34m:\u001b[0m\u001b[0;34m\u001b[0m\u001b[0;34m\u001b[0m\u001b[0m\n\u001b[1;32m    897\u001b[0m                 \u001b[0mself\u001b[0m\u001b[0;34m.\u001b[0m\u001b[0mlog\u001b[0m\u001b[0;34m.\u001b[0m\u001b[0mwarning\u001b[0m\u001b[0;34m(\u001b[0m\u001b[0;34m\"Invalid Message:\"\u001b[0m\u001b[0;34m,\u001b[0m \u001b[0mexc_info\u001b[0m\u001b[0;34m=\u001b[0m\u001b[0;32mTrue\u001b[0m\u001b[0;34m)\u001b[0m\u001b[0;34m\u001b[0m\u001b[0;34m\u001b[0m\u001b[0m\n",
            "\u001b[0;31mKeyboardInterrupt\u001b[0m: Interrupted by user"
          ]
        }
      ]
    },
    {
      "cell_type": "code",
      "source": [
        "# input size of the list\n",
        "#n = int(input(\"Enter the size of list : \"))\n",
        "\n",
        "# store integers in a list using map,\n",
        "# split and strip functions\n",
        "lst = list(map(int, input().strip().split()))\n",
        "\n",
        "# printing the list\n",
        "print('The list is:', lst)"
      ],
      "metadata": {
        "colab": {
          "base_uri": "https://localhost:8080/",
          "height": 245
        },
        "id": "V0lVG46VMe4J",
        "outputId": "b1db2ffc-00ea-46ba-89a3-b4b2c807c475"
      },
      "execution_count": null,
      "outputs": [
        {
          "name": "stdout",
          "output_type": "stream",
          "text": [
            "Enter the size of list : 2\n",
            "1 2\n"
          ]
        },
        {
          "output_type": "error",
          "ename": "TypeError",
          "evalue": "'list' object is not callable",
          "traceback": [
            "\u001b[0;31m---------------------------------------------------------------------------\u001b[0m",
            "\u001b[0;31mTypeError\u001b[0m                                 Traceback (most recent call last)",
            "\u001b[0;32m<ipython-input-39-6c1921ab806d>\u001b[0m in \u001b[0;36m<cell line: 6>\u001b[0;34m()\u001b[0m\n\u001b[1;32m      4\u001b[0m \u001b[0;31m# store integers in a list using map,\u001b[0m\u001b[0;34m\u001b[0m\u001b[0;34m\u001b[0m\u001b[0m\n\u001b[1;32m      5\u001b[0m \u001b[0;31m# split and strip functions\u001b[0m\u001b[0;34m\u001b[0m\u001b[0;34m\u001b[0m\u001b[0m\n\u001b[0;32m----> 6\u001b[0;31m \u001b[0mlst\u001b[0m \u001b[0;34m=\u001b[0m \u001b[0mlist\u001b[0m\u001b[0;34m(\u001b[0m\u001b[0mmap\u001b[0m\u001b[0;34m(\u001b[0m\u001b[0mint\u001b[0m\u001b[0;34m,\u001b[0m \u001b[0minput\u001b[0m\u001b[0;34m(\u001b[0m\u001b[0;34m)\u001b[0m\u001b[0;34m.\u001b[0m\u001b[0mstrip\u001b[0m\u001b[0;34m(\u001b[0m\u001b[0;34m)\u001b[0m\u001b[0;34m.\u001b[0m\u001b[0msplit\u001b[0m\u001b[0;34m(\u001b[0m\u001b[0;34m)\u001b[0m\u001b[0;34m)\u001b[0m\u001b[0;34m)\u001b[0m\u001b[0;34m\u001b[0m\u001b[0;34m\u001b[0m\u001b[0m\n\u001b[0m\u001b[1;32m      7\u001b[0m \u001b[0;34m\u001b[0m\u001b[0m\n\u001b[1;32m      8\u001b[0m \u001b[0;31m# printing the list\u001b[0m\u001b[0;34m\u001b[0m\u001b[0;34m\u001b[0m\u001b[0m\n",
            "\u001b[0;31mTypeError\u001b[0m: 'list' object is not callable"
          ]
        }
      ]
    },
    {
      "cell_type": "code",
      "source": [
        "l=[11,22,33]\n",
        "print(*l,sep=\" \")"
      ],
      "metadata": {
        "colab": {
          "base_uri": "https://localhost:8080/"
        },
        "id": "kaHCFPTB5-cQ",
        "outputId": "ae09c321-0116-4c85-9ddb-cffdf770dd88"
      },
      "execution_count": null,
      "outputs": [
        {
          "output_type": "stream",
          "name": "stdout",
          "text": [
            "11 22 33\n"
          ]
        }
      ]
    },
    {
      "cell_type": "markdown",
      "source": [
        "*   input(): Reads a line of input from the user as a string.\n",
        "*   .strip(): Removes any leading and trailing whitespace characters from the input string.\n",
        "*   .split(): Splits the cleaned input string into a list of substrings (words) based on whitespace (by default, it splits by any whitespace including spaces, tabs, and newlines).\n",
        "*   map(int, ...): Applies the int function to each substring, converting each one to an integer.\n",
        "*   list(...): Converts the map object to a list of integers.\n",
        "\n",
        "\n",
        "\n",
        "\n",
        "\n",
        "\n",
        "\n",
        "\n",
        "\n",
        "\n"
      ],
      "metadata": {
        "id": "D_loHQd6Om7x"
      }
    },
    {
      "cell_type": "code",
      "source": [
        "List = []\n",
        "List.append(1)\n",
        "List.append(2)\n",
        "List.append(4)\n",
        "print(List)"
      ],
      "metadata": {
        "colab": {
          "base_uri": "https://localhost:8080/"
        },
        "id": "PeHJM9iWPKOQ",
        "outputId": "39be2de0-bcc3-451d-b5b3-7d1a507baaf4"
      },
      "execution_count": null,
      "outputs": [
        {
          "output_type": "stream",
          "name": "stdout",
          "text": [
            "[1, 2, 4]\n"
          ]
        }
      ]
    },
    {
      "cell_type": "code",
      "source": [
        "List = []\n",
        "for i in range(1, 4):\n",
        "    List.append(i)\n",
        "print(List)"
      ],
      "metadata": {
        "colab": {
          "base_uri": "https://localhost:8080/"
        },
        "id": "_bM7mAIfPY2n",
        "outputId": "6cde1557-05c4-4191-f3c7-007ee2892fa4"
      },
      "execution_count": null,
      "outputs": [
        {
          "output_type": "stream",
          "name": "stdout",
          "text": [
            "[1, 2, 3]\n"
          ]
        }
      ]
    },
    {
      "cell_type": "code",
      "source": [
        "List.insert(0, 0)\n",
        "print(List)"
      ],
      "metadata": {
        "colab": {
          "base_uri": "https://localhost:8080/"
        },
        "id": "l5oOVmPdPm3_",
        "outputId": "03cc80a8-bde0-48a0-bdf7-75e6f43d75bf"
      },
      "execution_count": null,
      "outputs": [
        {
          "output_type": "stream",
          "name": "stdout",
          "text": [
            "[0, 1, 2, 3]\n"
          ]
        }
      ]
    },
    {
      "cell_type": "code",
      "source": [
        "List.extend([4, 5, 6])\n",
        "print(List)"
      ],
      "metadata": {
        "colab": {
          "base_uri": "https://localhost:8080/"
        },
        "id": "RHa0_AsUP0En",
        "outputId": "ae4a4629-df10-4f86-8361-6c5ece23cb20"
      },
      "execution_count": null,
      "outputs": [
        {
          "output_type": "stream",
          "name": "stdout",
          "text": [
            "[0, 1, 2, 3, 4, 5, 6]\n"
          ]
        }
      ]
    },
    {
      "cell_type": "code",
      "source": [
        "List.reverse()\n",
        "print(List)"
      ],
      "metadata": {
        "colab": {
          "base_uri": "https://localhost:8080/"
        },
        "id": "Hub8ODAbP_8I",
        "outputId": "7e588d52-89d5-4e12-abdc-9b158592300f"
      },
      "execution_count": null,
      "outputs": [
        {
          "output_type": "stream",
          "name": "stdout",
          "text": [
            "[6, 5, 4, 3, 2, 1, 0]\n"
          ]
        }
      ]
    },
    {
      "cell_type": "code",
      "source": [
        "print(List[::-1])"
      ],
      "metadata": {
        "colab": {
          "base_uri": "https://localhost:8080/"
        },
        "id": "NOptKrE4QIE_",
        "outputId": "ded8d471-641d-4b39-9e44-bf98d7f0b6fb"
      },
      "execution_count": null,
      "outputs": [
        {
          "output_type": "stream",
          "name": "stdout",
          "text": [
            "[0, 1, 2, 3, 4, 5, 6]\n"
          ]
        }
      ]
    },
    {
      "cell_type": "code",
      "source": [
        "List.remove(5)\n",
        "print(List)\n",
        "#pop() alternative with index"
      ],
      "metadata": {
        "colab": {
          "base_uri": "https://localhost:8080/"
        },
        "id": "lym8EYBwQimW",
        "outputId": "a75c5cb8-bb0a-4ac8-81a6-621bf66994fa"
      },
      "execution_count": null,
      "outputs": [
        {
          "output_type": "stream",
          "name": "stdout",
          "text": [
            "[6, 4, 3, 2, 1, 0]\n"
          ]
        }
      ]
    },
    {
      "cell_type": "code",
      "source": [
        "l=['A','2']\n",
        "l.pop(0)\n",
        "l"
      ],
      "metadata": {
        "colab": {
          "base_uri": "https://localhost:8080/"
        },
        "id": "4k40GYUf78o8",
        "outputId": "635f41e8-14f9-474d-ef0d-8caa4717488a"
      },
      "execution_count": null,
      "outputs": [
        {
          "output_type": "execute_result",
          "data": {
            "text/plain": [
              "['2']"
            ]
          },
          "metadata": {},
          "execution_count": 95
        }
      ]
    },
    {
      "cell_type": "markdown",
      "source": [
        "Slicing\n",
        "\n",
        "![image.png](data:image/png;base64,iVBORw0KGgoAAAANSUhEUgAAAkYAAAIRCAIAAAAgNOV0AAAgAElEQVR4AexdB1wUx/e/o4h0sMbYRY0dNUWNxp6iMebvz5JmYotGTVFsiVEkFmxIExs2RI0xltiiWKKxi4KgWFABEekiCBxc2TLzd+bdDXsHKCIYxL0Pnnt7szPvfefN+857M7unwPJLRkBGQEZARkBGoFIgoKgUWshKyAjICMgIyAjICGCZ0mQjkBGQEZARkBGoJAjIlFZJOlJWQ0ZARkBGQEZApjTZBmQEZARkBGQEKgkCMqVVko6U1ZARkBGQEZARkClNtgEZARkBGQEZgUqCgExplaQjZTVkBGQEZARkBGRKk21ARkBGQEZARqCSICBTWiXpSFkNGQEZARkBGQGZ0mQbkBGQEZARkBGoJAjIlFZJOlJWQ0ZARkBGQEZApjTZBmQEZARkBGQEKgkCMqVVko6U1ZARkBGQEZARkClNtgEZARkBGQEZgUqCgExplaQjZTVkBGQEZARkBGRKk21ARkBGQEZARqCSICBTWiXpSFkNGQEZARkBGQGZ0mQbkBGQEZARkBGoJAjIlFZJOvI/UQMhJIoiQigwMPDtt99+8803169fjzG+d+/ekSNHkOEFZaTvN27ciI2Nhe8xxkeOHHFxcWncuHGjRo0aNmx47NgxQRAwxqIosneEEM/znp6eAQEBGGNBEKB1jDHUA/Xv2rVrxIgReXl5J0+eTE1NjYyM/OKLL9RqtUEWIrBGo/n222/37NkjrUSkL6jTzc3thx9+gNZZW/CViUiiKAqCYHKSibR79+6kpCQmHvQRlEcISVVjSGKMvby8vvnmG5BNesn58+ejo6NZW61atWpEX506ddqxYwc7jzHmeV6KNoAJzUHrUBhkYOKxk3D+P7EouVEZgedEQKa05wTwlb4cfF9SUlKDBg02b94cFBTUu3fv1NTUn3766cMPP4yOjk5KSgoJCfnnn39yc3MfPny4f//+iIiIU6dO9erV65dfftFqtSdPnszMzDxw4ED9+vV37969h76Sk5P/+eefsLCwo0ePnj17Vkdfp0+fPnr06IQJE+bNmwcEEBoaeu3aNa1Wu2/fvrS0NI1Gc+bMmYsXL27YsOHEiRNt2rRZvnz5xYsXe/TocerUqcOHD2dlZYFD12g0AwcOXL9+fUxMzOXLl//999/jx4/zPK9Wq+F48ODBQ4cOFUUxJibm77//Dg0NBVFjY2MzMjL279//kL6OHDly7NgxjUYjCMKVK1cOHjx46tQpjUYDJBEWFmZvbx8QEKBSqW7durVv376jR49mZ2czcj106FBoaOi+ffuioqKghsuXLx85cmTPnj0bN27MyckJCQmJjo4+ePDgnTt3YmJiXF1dp06dmpOTA1rY2Nh8//33e/bsmT59evXq1dPS0tLT04/QV1ZWVm5u7tGjR2/fvn3o0KEbN26Ionjv3r2QkJCrV6/+/fffGRkZKpXq2LFjR44cyc7OBv5jgr3SNi0r/5IjIFPaS96B/6n4oijyPJ+RkVGjRo05c+aEhYWlpaXl5+cPHDjwvffeO3Xq1IABA7744ov333/fw8Pj0qVL1tbWw4cP37RpU/369SdOnKhSqYYNGxYVFbV///7mzZun0ldSUpIoiq6urr179/7tt9/q1KkDZNahQwcfH59mzZotWLCA4ziE0JIlS0aOHHn+/Plq1aoFBwcfP378yy+/DAwM7Nev3x9//OHg4ODp6Xnx4sXXX3992rRpHTt2XLx4sUBfGo1mwIABmzdv9vf3b9Gihbe3d4cOHfbRV4MGDRYsWNCiRYuhQ4fGxsa6uLjMmjWrc+fOhw4d+u2337p27erh4dGlS5e0tLRhw4Z98cUX//vf/3799dcrV640adLE29u7Z8+eW7duBcbdv3+/lZUVyABs1Llz57lz52q1WiCPmjVrDh8+3Nvbu2vXrhkZGZMmTXrrrbeWLl06efLknj173rx5s169euPGjRs8eHCnTp1Onjxpa2s7ceLER48eAQPZ2tr6+PikpKQEBQXVqlXr3r17P/3006BBg4YNG/bdd9/FxMS88cYbY8aM+eqrrxo1apSQkNCtW7f+/fuPGzfO2dn5woULX3755Wefffb1119PmDBBSmlw/J+aldy4jEDpEZAprfTYyVeCa9bpdNu2bXvzzTdr1qzZt2/frKwsd3f3UaNGabXaS5cuRUdHu7m5tWvX7tKlS7a2tidOnBBFsWPHjrt372ZhAXj/mvRVq1atx7Fdp06dvv/+e4RQq1atNm/ePHjw4B9++EEQhFGjRs2fPx8449q1a3369Pn111+HDRvm4eGxePHiefPmrVu3rl+/fqmpqdWrVz9//vylS5c6dOiQl5cXGBj4v//9D1KCGo1m0KBB69evX7Vq1f/93//pdLqxY8f+8MMPv/zyy7hx40RRHDp06LBhwwIDA83NzWNiYsaOHTt8+PDHajZv3tzJyenOnTtXr159/fXX9+7dGxwc7ODgcPz48erVq3t6el6/fl2tVvP0FR0dbWdnd+bMmTlz5rRt21ar1YaFhXXq1CkzMxPEqFu37ubNmxFCLVq0iIuLmzx5spubG0Jo5syZffr0uXXrVr169U6dOnXu3LmaNWtGREQ4Ojpu3rwZEpKPGd3a2tre3r5mzZp2dnY+Pj6CIERFRd24ccPT07N58+ZxcXHNmzc/cuTI+fPnFQrF77//XrNmzTNnzoSHhzs5OW3fvl2hUAQFBZ04caJly5b37t2DvmApU9m2ZQReUgRkSntJO65CiA3rTzExMSdPnlSr1eHh4W3btg0MDJw5c+bYsWPj4+O7des2ffr0Dz74oEOHDqGhoTY2NtevXxcEoWPHjnv27OF5HlKXe/bseeONN2JiYu7cuRMXF6fT6d56663Zs2cjhDp06BAUFPTpp5/+9NNPgiCMHj16/vz5sFbE83yfPn1atGjx119/DR8+vG/fvrt27dqwYUP//v0hcLxw4UJoaGivXr3UavUff/wxYMAAhJAgCHl5eQMHDgwODg4ICBg9ejTHcRMnTvz++++nTJny/fffC4IwbNiwL7/8cs2aNebm5nPmzPHw8AgKClKpVF26dGnYsGFUVNS1a9fq1q07fvz4OXPmzJ07NzMz8++//549e3abNm3mzp0Lrdy6dcvOzu7cuXOzZ89u3749UFqXLl0ePnwIWtepU2fr1q2iKLZp0yY6OnrKlCkLFy4UBOHXX3/t27cvRGlXrlwJDQ2tVatWWFiYk5NTcHAwW/Ozs7NbuHDh7du3O3bsuH379qysrCFDhkyZMmXo0KGNGzcGSouMjIyIiDA3N1+7dm21atUuX75848YNJyenHTt2PGbrr776yt3d3dvbOyMjAxYFYb1NXkurEKNLFqJUCMiUVirY5IsoAuD7Tpw4YW9vP3369BkzZjg6Op47d27OnDnt27fftGlTzZo1g4ODe/XqVb9+/aNHj9rZ2d24cQNj3KFDh8mTJ6tUqrFjx968eXPfvn21a9deaniFh4e//fbb7u7uoii2b98+KCho7dq1EK7VqlULOAOaHjRokK2trUql+uijj2xtbe/cuRMUFNSvX7+srCxra2svL6/w8PDevXsDpX388cfQb2q1Giht5cqV3377rSAIEydOHD169IYNG6pVqxYYGOji4jJkyJDIyEgzM7M1a9YMHTrUz89v3rx5rq6u8+fPb9as2aNHjzp27Dhx4sTZs2cPHDjwr7/+cnFxOXXq1CeffDJ8+HDI3cXGxtrb28+bN+/MmTPVq1dfsWLFe++9N3bsWCByhFCtWrUGDBgQHBzctGnTxwnb6dOnL1iw4DGpuLu79+zZMzo6ul69elevXg0PD69Ro0ZUVJSzs/PYsWNzc3NBC3t7+8DAQITQihUrGjVqdP/+/ccbRjZt2jR48GBHR8fQ0NDmzZtHRERERkYqFIp//vmnbt2639CXk5PTuXPnWrVqNW7cOG9v7y+++AJW+GB7CM/zsnXLCLy8CMiU9vL23X8vOWSrBEE4dOjQzJkzZ8+effjwYYRQVFTUjBkz9u/fHxgYOHv27MebJn7++ee9e/dOnTo1NTUVIXTo0KGff/45KyvLz8/v/v37165dc3NzmzRp0uTJkydNmnT8+PFly5YdOnRIFEUvL6/Q0FCe5729vR+n1LZt2xYSEgKRyuME5v79+/39/UVR3LJly4wZM3Q63fnz59esWaPVajds2ODp6RkfH79ixQqO48LDw9etWwdko9Pp1q1bFxoaevr06W3btgmCsHPnTgh0ltFXQEDAhg0bEELHjh2bNWuWt7d3cnKyl5fXlStXHjx4MGPGjMjIyLi4uPnz58+dOzcmJkatVq9fv3769OleXl4s4uE4buXKlZ6eng8fPjx69CjUk56ezjY31qtX75dffpk2bVpISAjP83v27Dl27BhC6O+//w4ICEhNTfXw8EhKSoqPj3d3d09OTt61a9ecOXMePHgAWvz888/nzp3DGCckJHh4eISFhe3cufOXX345duyYh4fH9u3bPT09ExISEhMT3dzcEhISTp48OX369A0bNjg7O4eHh6enpy9atGjOnDmRkZH/vSXJEsgIlBECMqWVEZCvZDWQYWM+Gg4EQYCZPhAe+F9pGbabnK2lwRY+KMNyX+xCCMhYwg3Os/33rBLWHFttYgEHBEbsPBMbzrN3Vie0JS3P5NfpdHAMV0GjcMwEhgN4Z8VYDMSqqlu37u7du9nylbQ5OAmbWaTnmY6sCVZ/YRxATYyxVqvVaDSdO3eeNm3azJkzGzZsmJqaKhXvlTReWenKiYBMaZWzX1+MVsyNMg8rPSOKImxNlHpP2CTJSIURFZwBJw5OH74Cl81xHFQC5Adraexaxojg/aV3kkG1UBKWi6AwnJGyBTAxtMKYA2PMmoZLpIwL0sJ5xmpwExjDgVUlbRcuGTNmzLlz50AqdjmUB9wY+Ul1ZzWzuwVAC3iHklA/vLM7/MLDw0eOHPndd9+FhYWxmqG2F2MtcisyAi8AAZnSXgDIlbYJcMdS2mAOlzlNFkYAZxQmM/C5zCMDZzDXDJEWfMuYjJGW1Juzk+DKmQBFMhljQZAHrmWiwrVMO6lSUvmlTbAyEGCxYI4pAgfsEnZgIgnUA5QGXzESlV6CEGLTBaiZ3V7NirEphVQv1gtwFVRSaQ1UVuzVQ0CmtFevz8tOYxM/DgTDvC087wM8LItdCifTmNM3YQt4CgY4dCldQeQkddwgBtTDZABSgXdWMxOYFQN3D+8sByiVmRGktBLgD1YJE4CFR6whaZ2gEZMcykAlUkJiWLFK4Ex+fj5cy7hWegBoAwiFkTcRFT4y5MvOIuSaZAT+YwRkSvuPO+Clbh58LqgAK16Fz8AakkkZFnnAeemjmNjKGZCB9B0cuglJML8v/ZY5a/gW6mfunjUqvRZOMtcvbReOpZVIZWDVMt2l6jDFQS+muLRpdiH7Vlq/9Nsijxny0rak9RfWRVoPXCW/ywhUDgRkSqsc/ShrISMgIyAjICOAZUqTjUBGQEZARkBGoJIgIFNaJelIWQ0ZARkBGQEZAZnSZBuQEZARkBGQEagkCMiUVkk6UlZDRkBGQEZARkCmtFfUBtg+b9goqNVq7927t3jx4hEjRvTo0QOez9tQfhWPAPxgaePGjRs2bNitWzcXF5fiyxZ806VLl+bNm8PnJk2aFHxRkY7gl0UbN248aNCgxw/M/Omnn3bv3p2VlWWyi/IVHTmy2hUbAZnSKnb/lJt04J7gfiyNRuPp6ent7X3u3Lk7d+7k5OTAxvRya7wyVCy9BY3d1vZkxeA2Mumm/yeX/6++BQnhOS8pKSmRkZF79+718PDYsWMHmA3cpfBfiSe3KyPwBARkSnsCOJX8K7iBF2PcpUuX0NBQ9hHuKa7kypeFeoAYo6iSV8nCnZJf8iJLsrvLgYOhaa1Wu3jx4r///vtFSiK3JSPwrAjIlPasiFWS8my6HRgY+Pvvv8NH9lAJ9syOSqJtOagBTMYQK2Hgwp73wW4MLwfRnrdK6U3ljN4QQikpKb/88ksJNX1eIeTrZQRKhYBMaaWC7eW/CDjs8S+huLu7s0dmMP8F/vrl17IcNWDPxwLQWIz7hCZZcMYe3viEwv/hV1KehvQji0TXrl27Z8+e/1A2uWkZgScjIFPak/GpzN8KgnDv3r0FCxYw78weyFQSB12ZoSmBbuzBXYyoSnARlgZnFTncAQ5jTMZ+IeHEiROTJ0+uyJKXpBfkMpUYAZnSKnHnPkk1iC2io6OXL18OfpY9hPBJl8nfvZIIgIXwPB8fH9+1a1fZVF5JK3g5lJYp7eXopzKXEiGk1Wpv37594MABeT9ImcNbySqELZ0wDfrwww/lKK2S9W9lUkemtMrUm8+gC8y7IyIiNm3a9Eyps2doQy5aWRBgeUhRFKtVqyZHaZWlYyuhHjKlVcJOLaFKoihevnx548aNbMmkhBfKxV41BNjCoSAITk5OcpT2qhnAS6SvTGkvUWeVpagQmUVERAQFBclRWlkiWxnrYlEaQsjR0VGO0ipjJ1cSnWRKqyQd+axqlCulMY68fv36559//u67744ePfr+/fvx8fGDBg1KTk7u16/f2bNnQWZ250C/fv2OHTtW+Pc2RVHkOA7cKNQsiuLevXu7d+++ZcsW1hZbEYQYQnoevmLBqFarnT59+qFDh6RlmBhwwPZ8Mm8Ov0ktimJSUlJoaChCaMCAAREREVu2bPHw8IiPj//ss88yMjJYnWwrPNtHKj3AGKtUqnHjxkFVFTzuYUrJlPasA00u/4IRkCntBQNesZqDKK0MZWK+TxCEvLw8V1fXYcOG7du37/333/fy8oqNjW3ZsmV8fLyfn9+dO3cEQbhx48a///579+5djuN8fX1v3ryZkJBw5cqVy5cvX7x4MS8vT6fTRUVFnTt37jE73rp1C3giJydnwIAB/fr1u3HjBjzEKyEhIT8//9KlS6dPn05KShIEISYm5ubNm+fPn79582ZsbOzZs2czMzPhcq1WO2zYsC1btoSGhkZHRyOE8vLywsLCzp07l5OTo1KpQkND4+PjY2Nj8/LyLl26dOHCBXhImCiKaWlpw+krOzvbz8/v/v37S5cuHTNmzLVr1zp27JiSksKauHbt2smTJ5OSkkRRPHfuXHR09KlTp2JjYzmOy8nJOXfu3JkzZ7p37/7vv/8CaMCdZdgX5VSVo6NjOdUsVysj8PwIyJT2/Bi+xDWUE6XBrcS5ubnt27fv3bv30aNHExMTMzMzY2JiWrRoER8f36BBg5CQkDNnzrz33nu//vprt27dYmNjmzRpsmPHDn9//1atWi1evNjV1XXHjh1XrlxxdXWdN2/eO++8891330G89eDBgzfffLNHjx7BwcH16tX74osv/vnnn4kTJ37yySc//PDDRx99lJ6ePm3atJ49e86dO7d58+Y///zzp59+OmvWLCAPlUo1dOjQfv36ffnll82aNUtOTl6yZEnv3r3Hjx8/efLkO3futG3b9n//+9+ePXtGjhz52WefffXVV1OnTgWlbt++3axZs969eycnJz8+OH36tI+Pz+jRo69fv96+ffuUlBTYd3Ps2LH3339/4cKFn376aXp6eo0aNUaOHDljxoxevXo9ePBg2bJl3bt3X7BgQZ06dU6dOgUsCLJVfGOSKa3i99GrLKFMaa9y7+OypTR4uj/L1ImiePv27c8++6xevXo1a9bcvn379evX27RpExsb27hx45CQkE8++eT777/neT40NDQrK6tu3bp//fXXmjVrBgwYkJeXN3Xq1BkzZsyfP3/UqFGiKP7www/jxo0D76/T6UaPHj116tSbN2/Wr1//yJEjSUlJVlZWBw8eRAi1b98+LCzM3d190qRJubm5TZs2TUlJ2blzZ58+fSCpCFGaj49PQkJCixYttm3b1q1bt99//z0kJMTJyenxU3rbt29/4MCBxMREMzOzjRs3nj59umXLlgkJCTqdDiHUq1cvYEcXF5ezZ88+rmfUqFG3bt3q0KFDamqqIAg8z/fr1+/HH3+8d+9e9+7dz54926hRo7179yKEWrRokZyc3Llz58OHD2dmZnbp0uXw4cMstH0p1qhkSnulXUaFV16mtArfReUpYJlTmjSH9ujRo5CQkEePHqWmpnp4ePTv3//69euQeGzQoMHhw4c//PDDH3/8URCEmzdv5uTkNGjQYNeuXatXrx46dKhGo5k1a9aUKVPc3d3Hjx+PMXZzcxs/fjzUr9Vqx4wZM23atJs3bzZo0ODq1auxsbFWVlbHjh0TBKFjx47nz593d3efOXOmSqVydXXNyso6cOBAjx49IMjTarVDhw7dsWNHcnJyu3btgoODu3fvPmTIkKlTp/7000+XLl1ydXW9ePFiQkKCQqEYPHiwm5vb/Pnz09PTIQLr0aPHzJkzEUKNGjU6e/bssmXLIEpjlIYQev/997t06TJ16lQ3N7eYmJj69euHhISIoti2bdv79+936tTp6NGj2dnZ3bp1O3nyJFvkkymtPI1drvuVQECmtFeim4tTsjwoDW7L1el0ycnJLVq0+OCDDwICAjp27Dhq1Khr1661aNHi7t27DRs2PHz48Lp169q3b79v3742bdpERkY2bNhw586dUkqbOnXqkSNHGjdufOzYscfxzdixY2EbBcdxo0aNmjZt2o0bNxo2bHj16lVRFN95551Ro0atW7eudevWcXFxs+hLpVK1a9cuKytr3759ffv2BU7Ky8sbMmTIrl27UlJS2rZtu3///rFjxw4ePBgCxJiYmHbt2oWFhQmC4OrqOn78+MdrZqNHj87JyYEYsW/fvgMHDkxPT3dxcTl16pS3t/eoUaOio6M7dOiQlpYGgeDGjRt79ux5/PjxIUOGxMbGAqVhjNu0aZOYmAjNbdq0ydnZ+ejRo8DTUHlxPVVxzstRWsXpC1mSwgjIlFYYk1foTNlSWmHgoqKiZs+ePWHChHnz5iUmJqalpc2cOTMjI8PNze3atWscxwUGBo4bN2737t0cx02dOjUsLOyff/5ZsWKFTqfbuXPn9u3b8/LyPD09J02a9PXXX//444/M+69fv3779u0pKSlubm73798XRTE9Pd3d3f3HH388ffq0IAi7du3asWMHRHsqlSoiImLRokUQD+l0uhUrVly4cCErK2vWrFlRUVFJSUm//vorhGjp6emzZ8+OjY0VRTE1NXXWrFlwnq14nT17dvz48bdv3546deqtW7cOHz68fv36lJQUDw+P7OxsWHLTarUBAQHjxo3bvn27TqebMmXKtWvXEEKPW8nKynr8o3Rubm6enp7z58+/fv26HKUVthz5jIxA6RCQKa10uFWSq8qb0oCBWD4NgiT2AyvgynmexxgzwmAb7qHY412LH3zwQVRU1Lvvvrtt2zaIgWBPP0RsJrVBEyxSZBQIT5Rn8sAB1GZyDFIxeeCmAqgW3jmOg/sKoGloi+M4jDG8MzXZc6RYE+zARAU4z4CqyOYlR2kVuXdk2WRKe6VtoLwpTRp/MJKQnmT8AexS+JYytVq9YMGC999/f9GiRbm5uYxaWG2MJOArdp7RFZxhH4GHWDG4HO5CAwZi7MJkY4UhAgPSZZIwzoPLTZqDS6Q1sMulDQHDyZT2So9GWfmyQECmtLJA8aWto7wpjd1cDJENYx1GHkAbjG9gzyS725rxHCsPB1qtljEHoxbGlBCQsaalv/hVmGBYqMdIRSoMoyImABMYdjYyMaStS0+yGkA1oDGQDS7heR4OQICKb0pylFbx++hVllCmtFe598t4E39hKFkgwsjMJNABhw4swsId+HUuRi2MRaA2xj3wUZp4ZLwCzcHHo0ePqtVqxihSvoGoCOphgrFqTQ4er4RJm2ZtsQPWBFwIhU20kNbJOAxOgmCFMaxoZ2RKq2g9IssjRUCmNCkar9zxC4jSwF+zd4BYmmBkC2mM0oCQWJjF4jD2kCpWm/RAejmchxo8PDyysrKkJdm3rEImD6sE5JRynkkNUJLxGXyUnmSaSi9k1UpzjC8LmYHwMqUBDvJ7xURAprSK2S8vSKoXQGkvSJNimnnMHB4eHo8ePSrme/n0MyMgU9ozQyZf8AIRkCntBYJd8ZqSKa3i9UlFl0imtIreQ6+2fDKlvdL9L1PaK939pVJeprRSwSZf9IIQkCntBQFdMZuRKa1i9ktFlkqmtIrcO7JsMqW90jYgU9or3f2lUl6mtFLBJl/0ghCQKe0FAV0xm5EprWL2S0WWSqa0itw7smwypb3SNiBT2ivd/aVSXqa0UsEmX/SCEJAp7QUBXTGbkSmtYvZLRZZKprSK3DuybDKlvdI2IFPaK939pVJeprRSwSZf9IIQkCntBQFdMZuRKa1i9ktFlkqmtIrcO7JsMqW9WjbAnsMET2mKiIjYuHEje2JT5cAC1GGPtoKnhzAdGQKVQ9kXo4UUPUdHR/aRgfxixJBbkRF4KgIypT0VokpSgD2NUPrLYZcvXw4KCmKP1q0cqrJnQsIBUBo8Sh80hSc6Vg5lX4wWjMNEUaxWrRr7fRz2gOkXI4bciozAUxGQKe2pEFWSAszRw0Ny4T0yMrLyRWmMvDmOe/xgYg8PjwcPHoBTZj80U0k69UWpwX7uQBAEJycnABNMCOzqRQkityMj8BQEZEp7CkCV5mtwQOyHmE+dOvXvv/+Gh4cHBQVdvHhxx44d8IvMlUBfiCG0Wu22bduioqI8PDwyMzNDQkLOnj3LeL0SqPkiVRBFMTExcdWqVQ8fPnRyckpOTl68eHFaWhpALUe9L7Iv5LaejIBMaU/Gp/J8y7wPTLF3797t6OjYsGHDGjVqvPbaa25ubpVmkYllyUaOHFmtWrXq1as3adLEycnpxIkTOp0Ovq08/fpCNIHfirO3t69fv75SqXzttddsbW11Oh38Fiv7jZ4XIovciIzAkxCQKe1J6FSm75ijh4PExMQOHToo6MvBwSEyMrLSKMtWegr9lPgAACAASURBVMLCwqytrZVKpUKh6Ny5c3p6OkRpclTxrH0NNvPbb79ZWFiYmZlZWFhs2LABTsLy5LNWKJeXESgnBGRKKydgK1y1EISxd4SQj4+Pubm5paXlDz/8UOHEfT6B2HLayJEjQcdVq1YBn8khRSmgBTxv3brVsmVLhULxzjvv5OfnSydJpahTvkRGoDwQkCmtPFB9OepECNWpU6d69erMN70ccj9NSsZnCKHs7GwnJ6c6deoghGDTIyj7tDrk740QYGuQ06dPNzMz8/b2hlAY5geVJmVtpLP84eVEQKa0l7PfykJqhND+/ftXr15dySiNqSOKIsdxCxcuPH/+POMzOVFWCtuBWYIoivHx8X379k1OTgYY2abHUtQpXyIjUB4IyJRWHqi+BHWCS5J6/0oz1walpDeiwRkIKeTEYymsE7aHsEVKxnAIIdhxU4o65UtkBMoDAZnSygPVl6NOQRAq5VybZcnYgZS/QeuXo4cqjJSMw9gBuycEQK4wksqCvOoIyJT2iloAeCK4Fw2eAVFpojSMMYRi4H8hRGO+GD6+or1eWrUZkizTCDCyuK20FcvXyQiUMQIVlNLYgIExExkZ2bdv3ypVqjRs2NDLyys/P7+c9mFnZGQsXrzY0tKyVatWaWlpZQx2MdUxbxsdHT1w4EAbG5saNWp8/vnn9+7dY+FFMZc+w2moirWVnZ3t6enZqFGjKlWqtG7devXq1Tqd7hmqK1lRFic9fpDH7NmzzczM3n333aysLNa/Javm2UoxP+vj46NQKKpUqVK1alVra+u2bduCPGVlPAxMjuN2797drl27qlWrtmvX7siRI+VEnCD/qlWr4O4LhUJhZmamVCpXrVrF8zzI82xglax0ZmbmrFmzGjVq5Ozs3KRJk5UrV3IcxzqxDCdDoKBGo9m0aZOLi4uVlVWrVq22bNmi1WpLJunTS4mimJaWtnTp0urVqyuVysTERMANRp+dnV21atXmzp2rUqlK3Yls2D58+HD9+vWvvfaaQqG4e/cuNPTw4cNNmza9/vrrSqUyNja21K08VdXs7Ow///yzYcOGSqXy1q1b0HpcXNwXX3wBar7//vvh4eFskJZuXIiiqFKp/vrrLxcXF6VSee3aNajw7t27I0eOdHZ2trGxee+9906cOMFgearkz1OgolMarIgMGDCgTp0627dvHzhwoKWl5b59+8ppReTzzz9v3bp1gwYNWrRokZaWVro+LkV/gBG0bdu2du3a69evnzNnjo2NzZAhQxgPlaJOk0ukDkgQhD/++MPa2nrEiBG///77YydVs2bNpKSkMh9doBfP83FxcY0bN35hlAaKuLu7W1tb+/j4nDt37syZM5cvXwZ5ysp4GKTnz59/fCt39+7d//jjjxYtWgB3lqGjZ10JLcbFxf3111+76Ounn36qWrXqwYMHOY4rP0rbunVrlSpVxo4de/78+e7duzs6Oj58+JCpXybDhJm6IAiRkZFOTk6dOnXasWPHm2++Wa9evdDQ0LLqtezs7OHDh9etW7dx48YKhSIhIQFjrFarhw0bZmVlFRAQ8OOPP9ra2p44cQJ2yTLwS34AsWx+fr6bm1v16tVbtWrFKE2j0UyaNMnR0bFNmzZKpTI+Pr5M0CtSNk9Pz5o1a77zzjvm5uaM0iZOnGhubu7l5eXp6alUKocNGwaroYB/kfU8+aQoimvWrKlbt27v3r0VCsXVq1fBDkeMGGFvb7969WovLy8rK6u+ffs+evQI/PmTK3zObysupbGn6+bn51taWv7888+CIBw5ckShUEyaNKmc7GD27NlJSUlt2rRp2bLli4zSRFHMysr67rvv1q9fr9Vqb9682ahRo7feegsipzJxjhC7gLnwPH/16tUdO3bk5uZqtdqxY8daW1vfu3ePNQTe6jltC2MM4yQ3N7ddu3bjx4+3tbV9YVEaxnjatGlWVlY7d+68cuXK7du3NRpNGYYywI6gINyDHBISghCKpa+yAtCkC8DJwnIgQujBgwcuLi4ff/xxRkYGlCyncbF69WqlUrlt2zZBEH777TdLS0sIL8r2scWMI9esWaNUKv/55x+E0K5duxQKRUBAgAkUpfsoCEJOTs6yZcsSEhI+/fRThUKRmJiIEIqLi2vWrFmbNm0AW1tb24kTJ4K1lKIheOycRqNZs2ZNenr62LFjFQpFXFycIAharXbt2rUPHjyYPHmymZlZTExMOZkKxjg4ODgqKmrRokVKpfLGjRuwx2fhwoVz5swBQ6patWq3bt1UKlWpf1EB7H/Pnj2nT59ev369Uqm8fv06ZP4PHDhw8uRJQRAyMzNr1KjRuXNn9qjVUkBa8ksqNKWB14iKigKbRghdv37dzMzsyy+/LMNEhBQsmF+0a9eudevWKSkp0q/K75j5BZYxW7VqlY2NzYQJEwABxjTPIwOrBIYQ+L6dO3cOHjy4fv36M2fOVKvVrP6yGmYwhufPn1+/fv2oqCgHB4cXQ2kwYseMGWNubl63bl0LC4saNWq4u7szHmKaPs8BjGeO40aPHm1hYfHnn39OmDDhl19+AT9VHuwCerEe9PT0tLCwOHz4MNhtWfVaYUxu3Ljh6ur69ttvT506tXHjxp9//rlarWbPMmamVfjCkp9hqgmCcPDgQTMzMw8PD41Gs2jRIoVCMWPGjLLCE2xApVJJKS0yMrJ27dqDBg0CJN94440+ffrArLrkKrCSoAtbd/z2229ZlMYesjplyhSFQhEfH18m6LGmpQegy8KFCxUKRXR0NJgrCCAIQlBQkJmZ2bfffsuitFJLAvOADRs2KBQKSDyCKSKEJkyY0Ldv3+bNm2/duvXFPI6u4lIazCkEQTh58qRCoVi/fj3GOD4+XqFQDB06FGYW0v4rk2Mw944dO77xxhvp6elllet4qmzM1SKE9u7dW6VKlQYNGmg0GrbT4ak1PLWAIAjSqB/M/ddffzUzM3N0dFyyZEk5GVxcXFy9evUOHDigUqmcnJxeAKWxQfvdd985OTn5+PiAR4aZMs/zT8WqJAUYr+h0umHDhikUChsbG3t7e6VS2alTJwCzJPU8UxnwlRhjjuNUKlXz5s07d+4MxsPen6nCEhbOzs6ePHmyhYWFUqm0trb29fWFOSXzXCWs5wnFoCoYcWlpae3atVMqlVWrVnVwcFAoFN99990Tri35V4CSIAj5+fmDBg2CxCNCKCIiokaNGkOGDAEx2rVr5+rqCrFLyStnJdl+KzA2iNLu3LkjHeaTJk1SKBR37twpK6pmrbMDURS1Wu3SpUuVSmVMTAwMf1Dw9OnTNWrUsLW1hWw8XFIKdwe1QTJp3bp15ubmUVFRcBKGYY0aNZRKZdOmTQ8fPlxqPJlGJTmo0JQGbjcqKkqpVPr7+0OUplAohg8fXh57GSBRJgiCq6sr2x7CuqfUsXlJugEmdBzH+fn52dnZ9ezZE2ZVGOOydcFssLHRlZqaOnLkSBsbm3PnzrGMVqnna4WVHT16tIuLy9q1awMCAqytrV1cXODZVOXnglnNMC2FHgwICFAqlfBkwrKCFFwAx3HffPONmZnZzp07dTrdzz//rFQqw8LCyhBDE1TBWoKCgszNzS9cuADDpPw8I8bYx8fH0tJy8+bN2dnZixcvfrw0cvbsWRaFlEnTbKBBtTdu3Jg9e/bcuXP37dtnbm7u7u5eJq3AGEcI5efnDxw4ELaHIISioqJee+21gQMHgs00a9asT58+pe5BEBXsEGM8ZswYpVJ59+5dUA2agMQj2zNi0sVl8hEgXbBgAURpIA/P85s3b65Zs2bnzp3Pnz/PhCwFn4GQbLht2LABtodAVeBMNBrN1atXXVxcWrVqdf/+/TLR68mVVFBKY/wBxlelShU3NzfISCgUiunTp5eVfZugA97B1dW1devW7Cm30l4vtZWbNCT9CI0ihA4cOGBtbf3JJ59I197BLqXlS3fMspoQ/s6dO7d58+Z5eXmiKO7bt0+hUKxbtw4kgc1sZYXw22+/bWFhUaVKFXP6epxDhkdwMYdYOnWecBWEMrBrbtq0abB1DXY/7t69u6zwZCbK8/yMGTMUCsXp06cRQps3bzYzM9u3b98TJHzOryAh1rx589atW+fm5kKvPWedT7583LhxLEt29uxZpVLp4+PDElllYirQL/CenZ194MCBuLg4hNDq1astLCyCgoKeLGEJv2VTupycnIEDByoUipSUFFhLa9myZatWrXieFwTBzs5uypQpoGAJa5YWYzYGgw4Sj5COhlBJFEU3NzfGc2UCoFQAOAb5582bp1Qqb9++DVIdPXrU2dm5W7dusHbOMjelkwFCMRhxa9euhbU0hJBGo+nevfu4cePgq379+jk7O0dHR8OoLyxqGZ6poJTG7BuG65dfflm7du3ly5d/8MEHlpaWx48fL10HPBW4EydOHDp0qGnTpvXr1//jjz9Onz7NHs9afi4YsoupqalOTk7Ozs6+vr7BwcEbNmzYuXMnuOOnil2SAow4QZHAwEBra+sPP/xw1apVrVu3dnBwgMCCzbnKhLxZoxzH5ebmOjo6du3a1YSwSyL8M5UBFXQ63Y8//lilSpUJEyasWLGiXr16Li4umZmZpfZTJjKAagDm8ePH7e3t+/btu3HjxpYtW9auXTs7O7tMADRpFEwFHkz1eN1i8ODBWq22nBqSNu3v7w+Ptz506NDQoUPt7OxCQ0PZIC0TAaA26J2UlJQGDRq89dZbK1eubNy4cZs2ba5duyaVp9THCCG1Wn369Ol9+/Z17txZqVRu3rz50KFDWq3266+/rlKlyty5c0eMGOHg4HD+/HmIM0rRFtgGx3FhYWFHjhzp37+/QqEIDg4OCQnhef7SpUsHDx6EtGdQUNChQ4fKBMDCckZGRh46dGj06NGwcBMSEpKfn9+3b1+FQvH4loxNmzZt3Lhxx44dzMWVQgwYa9euXQsJCQGSXrVq1aFDh7Kzs4cMGWJmZubu7r5gwQJra+s333wT9lQXlrNsz1RcSmMUghC6devWxx9/bGtr27RpU7hJpZwoDW6FgXt9rKys2rZtC1NF6GwYdWXbAWxbIEx+4ZdQQIDGjRvHx8dDgedvFJwFqCAIQnZ2toeHR7169SwtLZs2bRoYGAjOkVHa87fIkjzQlTk5OQ4ODkBpUmHKpCFpJUyF1NTUKVOm1KhRo0qVKh9++OGlS5dgzlgmxsNaQQhptdodO3a0adPG0tLS1dV1//79bPIrFez5j8FX8jx/5swZWGEqdb7omYRJT0+fNWtW/fr17e3tmzdvvnr1aohmIOIvKzwBUthStH379gYNGtjY2PTo0ePUqVMQXT2TzEUWRgilpaV17tzZxsbG3Nwcblu0trbWarWJiYmfffaZg4ND7dq1/fz8NBoNyFNkPU8+CaNMpVJ98sknVatWZQ1VrVr14cOHAwYMsLa2hpNWVlZVq1Ytp1/fHTVqFDSkVCrh7szMzMyaNWsqDS+FQvH666/n5OSwqeeT9Sr8LWg6bdo0a2trWGq1tLSsWrVqWFhYTEzM119/bW9vb2tr27Vr13///besOrGwGNIzFZTSYDbKvAZLF8DggQ6QqlFWx6x+yO2A5wWPXOpef6psYBbSxVvW92WoKbRi8g4OEU6yOUTZNsoyLQxAlgItJ3fMdGT3gUgVBDWf2ilPLQB1Mm6WmijT9KmVlKIAVC61yVJU8qyXMLIBNUEGpnspZveFBWB4QlsMw7JtBWpjoxsaZSbKHA6b+pSOrZnMEOcxuNhwY/k6aLEwGmVyhonBsGXdx4YGG/Wlk4QByHafAXRSJEEMaUNlol1xlVRQSmNIwQHrEkY5ZTKKCoMCDbGEA2sXbBFMs/BVz3kGup/ZH5g7G9JlpWnhVlgT0oEnBfw59WIBKLNmWH8CBRnIz99K4RqYaqxDmY6Ac+FLnvUMEDOoBpWzYcxaf9Y6S1KetQWqleSS5y8DyjK9Ch+USRPQNVA5AMsaKkNlpQPNpMtYbzKzKd3ok6rAjJ/RGHzLlC0rgyzcBUw7kIGNPiYAFGBQF66hJGektUGFUvWhUUalTJKS1Fy6MhWU0kqnjHyVjICMgIyAjMCrjIBMaa9y78u6ywjICMgIVCoEZEqrVN0pKyMjICMgI/AqIyBT2qvc+7LuMgIyAjIClQoBmdIqVXfKysgIyAjICLzKCJQLpcF+IZPNQuxkCTcvQTHpzzLB5hl4N6m86C5EGMMf+Zp9QBgJhj9kciGTjUlrUqCoj6RmfTtwKCIMfwhBs4b/QQoiAMICKYQwFslJ1hwToIiG9G2Qb+CQXqpvgVVNKqN/+lKsbVNdSaOmkBoEgvoLvUsk0MsHCghEDQMGJpKXSLWCa6S9U1g/g+YF5Ys+YjCy1qXlmF4FRmGoWKIhor0oYEytRaSdxLClH6V1MrNkLRJ4WUt6cAo+Gxo0qYN9ZCXZGf3Bk1UzLU0kEDExNr2hYSSSP2KfBSKwxugB2I9RTU9vlFxp+GeoGBql7QkEC1KxaBh65Az9CmCiJkSkNXqZmKgBT2YkBQPNUJuhCqofqKjHQP/BqP4ie42KqteBqoBELNA/0uvwhdEoA70KRv3TmzAtYfIZGjGYnEELaoFUAjrYYPAaKaeHDy4nHWI0wE0aIR9ZSb1h60+I1Fqgd2ghQ68Z7F8vBS6i11ijzGaKaLc8T5UvpUm1gp2dcAbUfrJeCKG8vLxx48bt3bsXrmK726GqJ19OvtWbHxRkH0SMePIn8mR0Gb/YhlS209f4+6I+UQ+gtw3yHwwzEYtgB6J+LFMroAYoYMQLmBeA0ojDJPpJmy6qGYM1GdQijopYnn4kgRGykUZao4LRd8M1knqlt4/ou0bvpnlM6qSSGio1DGW9lhJgEZWCp34fWE3SBv1xmZKoJrmGeStKJMTv0j9omb1LLih8yGxMuqVYWqygmoIjLPWOREHqxQRCBtRaBNKhtFMpGHRCIq2T3UnJ9CVGzuonzoXpwshE74JoPZICrCQ5MHo9VTWj0uQDwpjHmBfpf9QWeYw4YpxMCoN1GITV24G+KnpWFPUtFzsuSDGigr4Sg/UJpF2RI9YuUAqjYCIOI17EIkwtKUx06kBxZypIb/UDVA14khFEhzAZQ+SPYC3SIU0hA5lJz9GPDHgYg6wBegCKsdGHEGV7vRqkQRELPOZ4zImYZ8PKoB8tR6YIAoUUhDFugFIL2ygPzZmWMPmstwWY+xInReyATMR5oieFlPQfCEG/FQydSCGiZER/2cnIGk1aYR6SXKvvdNCb9hrmKKT6BgFwggCMAhCkaEpjVgqoFm62XM+UC6Ux+2CiMwfK7mpkXxV3IIqiTqcbOnSohYVF27ZtExISlEol3HIP7+yHfYs9UCoU8KcwUyjMFQoL+memUCrJeTP6rfHF5ubmhjvrlcbfFPtJSas2lDZTKM0UZoYmaOtVaKvker0wtCp960QOUMfMzIwUURpqMmkQBDY3VFKgGlFMctpMqbAwV1iaKyyUCnMlUbXYF7QIrRe0a7gA6jQzoEbxslCSapXmCkWBUnooDdgat1Yi1YwuUSqUFoY/2k1MUz16BKUnv9gTWOBHn4ssLK1V3y9UcYO+tBX4QA9BPVoVOatUWFFAjOoGPKETqQzQZ7RbDfZHO0up1JuihUJhBpKAgZqzStlZoxb05gENseaMixT3iSrDJDL0Mm3QzPBe+FqQy8zM7JnGhVKpMDNXWFgoLC3Iu96yia6mvQcQWyoUlhQhIwFgJCoUChiV+m5iSBEViD7UJpkKlkpq/BbUSlkvQ0lyrkBxo7bAVAik7BoydKBavfugfWdmRvrOkg4L6C4qEBitmRkRp5gmnqm/9A3rqyJ2Iq1WigEd4wRZM4K5oRTITn/03FTP4j9TV2ZOuwx6jbVTgAq5mvhPwyAlvqeIl1KphHt5y+lxCsWxBsa4XCgNpiRsjhwZGXn48OFNmzZt3rzZl778/PzgoLh3H8Nr4MCBZDzRl4uLCzzLuYT365EJF40HYeoBYY1hAoI5mPsYYwMyP+4GDw+Pu3fvGn9Z9CcWC8GkiczqEamcRi4kwUgmxeSP5C7oTJVMpGBSCiktmAHDb+V5eHgUEcLSaaCIBAGJZDYFcQuZMYpkJipyWOQQiSroBIqUIZoXpAKJiEXM93v06FEwRaXRHEBkmHnSZAsJIQU6n4b5mSCS+ukbEnms1xTRGTFPp4pSmKD+J6kmLc1CXKqYSLAj8MHsm+Kpz3QYX2T6iTUqiqKzs3MReJKugrQKvENESLPBiGJMVCRokn6kc2EyNybYk8CCQFlUFmvjxo0RERHQuuGd9DWZDZOXKCKB/umjPdoCyCHSvBZP4wCwGZKUJiGP8Quqhbuti1HN+AKYvEOPUkWobQgQU0DoBhN808vYZ/21JIsgCMKIESOKwtMQI5Dv6B8YoF5RgpmIEJnh0zgJxiONJ8iF5IJClgNRLzQHWkM8BoNLh7GO2h4JE6CDoFnarmEEQLYQAmoS6xSpKQz5Xr16GSbiBTroRYOeYLrQiJXaDzEbOir0CwlsOcGk30B+9uSBSZMmPXr0iAFc+IC2K4iY44j1kRyOXnhqtsT0SAmCBzEhRNJBAA5gAKldREYuje5oBig2NtbPz8+0LcBd70lIeXKJxDz1qhvsneiltwcCux5Z40oBxvbt24PWRVuL8SVl+6lcKA2sBCGkUqm++uqrOXPmrFy58tSpU8nJybGxsXdL9oqLi7t79+6MGTPM6KtKlSqtW7dmP8Baot8HkQwUQ9/pB4/BLEzBhP54/Mg1oLSSPA7HQAM0Eic2Qa2dWiU4Zdr1HMIcITvy0o9heqEoYF4UyXme57Oysjw8PIpoFHgY3Cgc05QK5F+gRkppgoh5vuBP1DteCQ5MYYRQjx49wE9RQwW5YLSQdzYDIIse5EvKnYgMM458T5DUUs8CYPKU1UwGM+D5JNWYQHBAUi76lR7SJnVDJHFG/yCBZNKESQUG/tC7YCcnJ5BBWowIT3tBbw0G44CkJ09TjsT/8QXER0sigUxKCPHo+1haKcZAadCc3otRWWkaiaaN9MkygSeVcPSP5N8gCQ4pOX0qxyCScQtAjQgyckWqZlLe4IIMySmYI1CAKaTEgRVFnabVsHExYsSIwniS0oa+AcMHoGh2nWhKJicwGEi2TP9nOIIsGcxYjPoWIQTNwYjQ2xydqdGpnN4q9Hk5IgHhOxhodPpImFuAriYWbBDRWDlQB6Z3+l+503sHg9GBrZB3gdIoVYfMduCPpy0YtCLFTKeP0CA8NBIhVAJKIzM5HUZaIA5EJ1KGaRhnsF44YZjz6ddRCIKgKB387EmV8fHxvr6+xqobSuopjRcwZ/ijVArjnvaoAQuqJqkf0sawdmPaawghV1dX+LU2AvyLfZULpcGejtjY2M8++4w9sZuthAHhPVlNcPEqlapPnz6NGzf+9ttvU1JSOnToIH0421NqwKIO81r9TEdqdsRPUpohs0aTSsATiaL422+/3b179+n9YRig1C9w1MPriDXSoQRzHHoW8WS2xZPzsPCkn5nCwh5dTEMIKK2IRqmN6tdAyEIILEUI1Ojp0j/jOTq+9WOQjTJ6YKIpxrhXr16gL0kO6NP3dP0P2Iw0Ss2Z0rBAHT2i45hYKXhEmHcXLNQUbkTvhYtVzfgK6jb0rEy9rQHfgmGqXx8xvs70E+iFEIJQxgRS4GeerJEItEvo93oEGGrgD0EKUgA4jrKRFmM1ZVujdjdt2hQZGWkwbzAzOo8xuAa9EjDlJu+w7cDgWSBi1BsGiXtptG/qEZ6smpFA5ANoZehfYviEbsj4Is2KCGkJzxKLYYobDmhd+tO0VVEUR44cWTSlGS6H/wvmQ9T/UsVJugLRyF7fhaSoSBIYhIe0RSo7cuRIpi8dsxqENYS6SCBGesTA0YYeNKhLvoBNFPqUCJ05EBIyXT6HZ32xsQC2bHDjJE6W6qKfI0pOUn1hLqQfhGwJj/UFUwGgmzx58tOiNCIlQQkBQVOgMBn1iLoY0nk6WgIgoGJB3FYwYo2X5+/evevv789E0h8Y9RrQFCBHLIIckUCMI0E2/USDPn2vIawTsZbOV4xMFJTt0KEDe3KbaaPl/LlcKA1j/PDhwxkzZiQkJEAvgp6gi4l/KVJBKK9WqwMDA9kvf7u6urJr2UGRl0PYwYtk0VaggRMpr+8/SBXoU2cmlzPj8/DwKNFvqDN+JCE7pAJ0AlYj8qejGz/IhIYTyZDlsYiIu6azfEqnRCaYgdG5TLF+n05ARYx0InFIxLoQmYFqCXlS3qGtkySEgERONFgleCqS1KLbHEx0xSzxSL4gPpuQpkgok3oPJPBIq8X5AlmUJmlT4n+AkZEgkGwnJEKpJnSxXyRDzci+acXkTLGqGQtFuohm/nhDQEvdLvFPBF59brWgCQN/GNdCtCFlEEKOjo5S24Ny5IyARIGYBwS1sNhewJukswQd1nJYI2AtJ2ppTobiSS4WEdZRj2rUblBQEEs8UkBF6pBgsx/1ghCK0DwRTY4JiGakCazQS3rfROZCIjGUIlJlT1bNSCDygcw+aBqAZL6RqEMoHyENHRc0XUVMg6e5K1qW5iX1I4XWRV2kYXMIDZsK4wntkAyFYWMjnamJPBY4OiooeXICzuexTo04A6WB+yWjhqfTfjpEjTRgiUeqCU3q67Ei8BODpMwFOXY6Smh7JGNAewxCJsIPZKCJxEMXGA+0BOr07NkTDmAaSo4JJYLvIA0RWyGjgCRCyB8SaZ4OZmz66I3G9WS6YKSD4YOh/hJFaSSoJ+3pEM8jjjTHI42INJRhMPkkaOnAJAkDkaNjlspMJSXxFiRNWKN3794tHKWRKwysRqM7xNFJHqSICcKIE1C+gHVakddHw3S+TJwdiRlIx5lACi1C4rGIhJMBjfL7v1woDSF0+PDhffv2wQyouD5+glbgqtg7pBnhp9OfcJXRVzDLgJCIDEmRI7lHCgAAIABJREFUFzkB8YLIEak4AfYZGl0i+QCUJjlR9CEdMnRtSU80EItxPNbyhNJIbAbzKZ5SHA/ug06TKUcYzYgfz908PDwKt0SshC6ikeaozRrW7agSlIIMI40sfZHCBRl/6qVg9BtX3aNHD3aCKqITyMxLoEZLXKoaazWI0yEd2Z4GSR0tGWgc4nik45CWRxwHXkvgdVyeiDgT+2b1F6caK6A/oB6FVEOlJm90ZYCIBEdUPzCMkgwYR0dH0yZg7PIUJ+IbOA7peEIt4B1p3cTNIw7cCVITYqO8rk91GeYMJjUHBQVFRkYaFDH0LBWdzhEIgVGIOERnJDqR4xEvkj+OtEbUJrNiciVzNEW7R9JI0aoZy0TiUVFHVmV4uiQjakWkFhD52RSBps3IqiinIYuj5I+8kTmgxE0BpbFaR4wYwY7ZASBHShoiWURyZTwxJ4IbsSlR5AViNjzhJVEQRMiUQH6Cqk1bYnXCgbQ5anjUrCELRiIu6j8pUcER9cUk9kU8JyIShZPJHKUnXDh6MjSGEAJKozZAbQ96AETiEYlGeIEYC9n6qOOxjq45wdySLGuRr8kIIVZa1DzE0BKdZj018UiXesnaoyCoRZ2G4CcgraARyKyEkjXO43GeGmu0SEscGhktZHxQYEQ6/g2Eb2i5MKXRIaVfVYBJMEnWEz052mvEGEVCaaTXeDJbJk2AJVMmL7bXEEJAaYbGX+j/5UJpoijOnTv35s2b4Hqeh9J4nmdxXqkoDZFBRKIKHUdskRMwz4kcHcNkFBQHdgkpTcBiHtaqsZb0Pt0sQSaRMFsz0A7WkgQ1j5CG5sfpbI9MI2nWiUjAhCjO7xOZSaRHBydMcSHhQByggMkA46gjQgIJrXQ6USsgHR3CdCmhmGFmQmk85jkyZmBUEm2IP4A0FcmL62gYp0M8mRNwokAEIWvJxH/Aqgkn6J6X0gg9axEmkQSiXsSw5E7XwYmSBYve0H1P6MRi/T7xuCQPTIlZx4nExiBEQ0jkMDEVkqPSEjoVREFHaY8AAwuGsD5TyHRMKY0la4jL4wSs0yE1mQeQUEmvB+y8geiauHugNMh2geNmxlGouRJTGln+hDkOCTIQyV2Q6J4uCOqQTkemJjx1l2QDCIlDJEYpOSQSSDmGSYRI9pCj5EGzYURyAiSdxemQoKPa07mdfvmJzjDJWZK5In4S4tdCykqbEzHSYIGQSUG2nhdJGK0hSUvi+On0hyQMSDzKYZ0Ga7WEhPTzwSJiXqpDAaURzQnnchQhkgIhEyAR6bQkwBXUPAncdRzJxVHqIrlAYrKw5EByFMWMtQKsSrCWBm2SbCZdZaepWQKsoJ/qiRxWa7FWh5COhywU5gnKgpamcUm2FBKXEjyLojSR+kOyE0o/VyNboXiEdCQdLeoIcmT40aZ1dJcYMQ6aciJqG/bnSFoBNSshpWGMx40bl5aWBsutT3Y6rLOlB8CFbA9IaaI0yiyCqMGY4wSNiHgdz/E0Cwm7JmBiKm1UelxCSqO3LyGebv1DJBFoWJbQT7WRQMZVhg49EpGOE2GUY05vcWSISV1G8ZRGTI4qRMxLfwk4PjpxAocANKfjBHBK+nKStWKpghiTxKPRGagQ1gXgKpLAoKkj4s45HebyhTzIN5BkETFvKo9AzJxgQLU2qtPwoTjVDN/r/6cULRJKJk6RULhAPBLQPpGJ8AHJugoQotG5eaEhJam0aL8Po5FEElq45YiYqAEouA9JIAuiBbMCveOCoU6SUJKZiKG5IigNilEBSQaQBMCky2mymdZAv+J5gVIKTYWSqTAk1Ay3jhnqN/m/aNVMCsGqp45EElRTgUxINPpIAshbg7QapKGcRIIcAqzEKCWHpGopx7CmEMmB63RkakW9u5aujuljGi2J1UQSiZK5P8nbYeIziSMlyQyBTBx4MiCKIhyT5sh6PGEsGk8T963T4jwtzWeSk4SkSTioIzukSFaG+XYYIFK9mPCQoNZHaaRzYGGPpBz1JkGsXCOgHB7l8VhHpqT6W051RAQSChYs6xWnCGuuZNtDkA5rNaKaxkkk60KDXhhfAuZ5USvyHNJBOA0JQRJQ6vcZETUL4Vkkpemo/et7DdY0SffreKwRSW/qiP9EtJd0dPmYYE8S8joyF6GjoKheq4SUhhD65ptv2A6fUlAa2Bl4LnZ35zNFaQIWcnB2onj/RNrx4Bub/cJ9/S77rb227uD9gwnCvTykEsgWIWZppgclpjQkIO5W5s2151Z5X1q8JGLh4vDF3mG+fhcDfC/5LQtfuiR8kU+oT+iDMxzOJrNSMibIXiY6ryR3vNIsn7714vw+cYJkPxynRtkXUs76X1y5KNx3SbiXT9hSvzBvrzCfReE+Sy57+V702xS2OUGTpEE6Mi+FaT7hPEI+heMnI0qjvo9wBdaSKa+AHogPVoYuWxG29NidwzrM65CoFUUtFrNQ6v6Ynd4XvQIurDgZfZwTOF4rkGEFO8OJJyjiVZxqpkUR1mkFThRVSJ0spvybcWLLrc0rIv19w5etiVixK/bPCM3lHJwDVwGfPdm6ivb7lNI0gjY2/+7GiI3LLi5bGr5k6WWvZeE+3mG+3pd8vC95Lwtb9ufNbSqcJZAbbekKHwms1WRVlCytPIXSqD8kCyJ6z0hnLwLmc3FuLBd74P7+tdcCvS57rbi6YvOt4Mi8iAycoUFqeusA9Uc0AKa5rKLxLDYANQYUpobpmgerQ9csiFi4IMJz2cUl/hd9vMOWeEUuDogK2Hd//x11TB7O15L4gxdIcF7AtcaH5BsTjtF3BIGHxHckTuJIXJuDc+P4uJCUkPU31vmE+/hc9g28uW5f2t/3UEK+mEeyjmSnCL0K9pca8yhTwqg5YtJkaZUTdSqUdzb5fMD5lV6XvBaFL14SvsQ7bJlvmM/ScM9Fl5csCfPfGLE1VZdEog2BZEN1elBpOo7VbjhgURqdzvFkyYAOHyQiNVZfzAj1D/VbfGmJV7jX0tClfpf8fS/6eV/2Xnx5oc9lr3Xha+NV8TywMl3YekL6HdzaUxOPNFbiOVGTL2StDVu/+JLX2vBVWpRHsyM8h/M5URuVe8MnbPny0IDd4TvVKJckxsmipJ7sSdaSrrMbVMRFURoSEF1npffp8EjIxfmxXNzB5INrrwd6h3n5RPisvr5qb+LeOC5WJZBfvqbBMOk1WHIj/rOogVA5Ka1fv34s6wgTagZuCQ/AYbGsI2wMNb6WwElnkTDs9dMqmOmrsPpfzZmh277osPLN133qVV9Rw8rbssYK5ybLG/zf1k+OPDikwjl0r4NxlYZPJaQ0hEUNyt12J7jRgvo2AVXNV5pbrLay87d38nF28nG0W25ju9yu/tKma6+s1eFHZKFKR3yVjjgNGP0sBCENF+v3aTZDEPMf4uSFV+Y7eNcwX2NtsdrKJqCqg5+tnb+D9XI7e3/rml7V3vTqGPrwggrlE6qEu8bItFinw3l0JmlQj/5vSmkcFgReizUkxSEKV8RwJx9bu5VVv/t7fB7Wki0jIs7Fui0x65oHNHb0cey0ocvFzHMalCuS2YFI5uBkPlu0Cy5WNSOJ6NUc1gp8PLo3Zt/oNqvb1Fn+WnVfJ2cvuzq+NRv41e8U1GlX4u4cnEuWFOlsWYSpiWT5SVplcZQm8jgXcUfT/m0V0NImwMZylUWVlVWqBhAwHXwdnXyrOXlX6/97/xScoEVqohZJj5H0Gn0QhqExaUsYS6M0mosTtIQk9FNmHnGZ+OHWuK091/Z4Y5WLs5+9/QobhwDH+ivrdQ582/20+32UqEE6Mr+m8S5H9nCTp34U9ypaNePSiCTr1BHC1epLapuvsTBbY2bnb13Nx9bWv4plgIVjgLNLQLNP1w86n3YuD6t0WEcS5MZdaPLRiGNYW2RZBpYCyTpZOs7Yn7V/wLYBTfxcai9/zd7P0c7PvtrK2k0CWw78c1AYvpSHssFYqJESNqOtFKGrUXNkUw5ZVtIidTpOnxM277XF9W39Ha1W2FitIAPNwc/eJsDScrmVg2+tN7073cqNElEeWVejQ4H4e/1Gdya3/kBKafoYmW74EBGfgR8subOsuldty+XWVf1tqvs6Oy9xclpW3SGgmvVyGztv21Z+rY+nncjD+ZByJPs4yPSxCF2gsZJEaSQjQ9YStOnCXRffxpYrLF1WumSih8QCEcrGWXH4Tv9NHzn42bdY1swvdFkmzuAQBwuZdE8HWfESiNUWiFGY0shIpcucmKSMxSycfTH30uDtg5v4NiG95u3k6OfstKJW3ZVN+2/9JBxF5CGVftOJflcOHepFDfdKSGlFJLVMrag0n42jNJGsIdEUDqxA0G1IJAcuYF02ytkdv6/+0kaOfo6O3g6t13XovKVHl21dW29sbudj7ehn5+Ld5EDiznycLc1cSef7JaQ0TChNteHe6teWONkHVGm0vn737d3f//39fps/+Gjzhx9s+eijzf0HBw85dPsQL3B0yyPiSBKBeC0y2Sdz2gLDK97v06wV1uXgR0uvLrX2t7NcVbXZlhY9/+jV7/ePPgzu13/LgAGb+vdfP3DMtrE3sqMEkbh7MnOk69t0RbeITedGlEb3XiK6QkYx4a7zYQ7+NooVipEh47KRmuPRI5y3O3lvk5X17ZfbdgrueirjvIYk4jhMEjJ5JMIoyr6hp4tXzdgS6Fa/NPHhV9uGOvva2fs7dtrS9evtw7/d+dX7m7rX8a9js9zBxbflhbwwHdaqEUecPtmiSdww3N1FRJCIUbTfpzQjIPzvgxPN1jaqslLx+ro63X7v02frxx9s7v/Rlo8+DP6of/CAmQd/eYQzSEBB5uzETYFzpElguvfHWHYTSuNJ0lZDVyMxj/hUMXXxTd9qyxpYr6xW27dGp03te/7e7Z3NXRovb+Tk62S/zOn/dg2/pokn+2/Iag5dSKEWbtxIwaeiVSv4nhwhwouayzjcxs9WGaiou+713ls+6Bfc96Otfbptfq/d+va2K2yt/a3eXdcpnrtNpEVYv85MdKVb/40BNeIY1hZMJsmSL8pEOatiVr3mXcsmwMrRr1rrDe16bevVLahTyzUtqvlVt/e1burf4GTmMZHu++WQVksggjWoIrbLGjVnWPJBIp+NH826Msfeu7rVctu2m9u9t7V7v60ffxI04OPNH30Q3GfAHwPG/P5tYn4C3ShBXTvZUAo3Vppu4ofIyZB4pMZDDJmoL2I+G2cvil3quMzePsCq1boW/Tf1+TSo30fBAz7ZMmjApv4Dgj/8fNuXEZlXebLoSoY09UhSA2QY6Q9KQmkwC9JiLgXFNFxZSxmobLzC5RHKFXkuD+eEqyL7BPdy9nas79/IP2zlQ/xIR1I/dHcPiS71iVkTIYqgNFKSbJUUeaRF2hj+Vu/ArtW97ar5O3bb9t43e0d+8+c372zpYuPv5OBTrevK3nHaWJrrpOuFdMTRW3iK6DWZ0kx7vbjPppRGpiz6vQykK5HIcRq6s5yLUd/pGtS9SoB1Ld8ac8Nmnc26cEOMvYZuncs+M++6Z91lTZw8X/t8zeC72THS5FUpKA1hnIc0gffX1vSu5uBrN/70xGh8JwmnJuGkFJyYQt5TklGKCuUIPEm30O0NZPmWJveJ+CVJPJLxRYiQU2HVsshltv5VbXytl8Usu4fjUnB8Or6fhhPv48QEnHpfTMrFWbDjETiGukdybeGZowmlkTFMUpSY7mvnrvBRtr72VVZbjTk4NhepsnHW2ujA5subOi9z6rml14nM0zmYOiOypEz28tEnKBjRibQfS05pSMShmRdbLW9Txd+6x+4+l3QRD3FWBk69zV+Zd8G90TyXNxd1WnVmDUe2XAo6w84OeqMVmYTDhJ+N56L9PoQeSDyZcbzRhvpWKywGHx50C9+Ox0lJOOU+TkjG9x/glGycqRPzyY5ESIvRPeDwXBi60Yfm6CRKmlAa3YNC1uBEAauwZuvtLTWW1Ky6wq7emoZr762+nB92B92N4m4eTDnQZ1cP65VWjv7VZ1+Ym4VyyP4NshYC1i3hZ0lbJU08kg0T/GVNmK2/veVKxVdHhsXi+ETyl3APJ57JvtBje0+blTYO3vYbrwZqxXxM9rFQ70h3Sehv7ZJM9o04xiAPuVuR7HfhtSjv9IPTLde0rhJgWX9VXZ+Y5edyLt8W797mb57KOD71rFtd39edl1T/7q/vMziVQDYCiVqyVES6jdqnqbLS5mCzHd0VStYUZl2Zbe9r7xzgsCrGL4YMusRUnHwfJybi+/dwXDJKVKMc2ChMgl4yguhmWWYZBuGllEbsQj8LpBdgpMK5C+4scvZzclpuPztizm185z6+l4jv06Edn4LvpuCkfJynTy/TlDRddpXUbnxYQkojwxCJD4Sk5n4NlKuVdVc1eYRUGpQfxV358M9+Nn6OTVc033R9fQZ+oCb3C4kC3PVCl2GpnhClFeBZFKXRG4DoRC0XqTfeD6qxuJq9n92IY2Oui7cf4EcP8aPLuohRB0c3nd/83UXdDt8+JAg6CiadheuJH8aSkZIypRnB8YQPRpRGJoZkPgJDgboAAjQiW/002+9vs1lhq1hj/vXx4Q9QkojI8gyPBA6pM1GOb9ja+Vd9QlUX8rEKDFpKZiBACaM0hLEK6Takbqru7ezoW23S0WlZWEVFog8Aoju/OYH4RE5L9jXQfDf5H2Iz2KbAsgPF+n2YNGJehfOXRXrb+1dx9nMKvB4oIK0oaEReIyKdhkx4yYZ7nuxrMGwzp/jQtFnhhysZbQ+BiSEQLI85LRbCxWhrX+cqq6zGHhqZhhP/StnezL+B9VKLD7d8dEUVlY1ziCuiTw+AG7IJSxcxY9P3Z7GqGfc3mfcJ2lMP/m2yvIV1gN2Qo4NjUawKa9SEznOzccYNPiodp6pQLuLJMzSIK9QvbME8nHIa9ZFQcZGURkchibiOZ/zTYEOjqgHWI/8eno3TybZvsqOS3LVFpwVkewrsUoEEOERrhZbe9TpIKY2cEjGJzGmyKFlIG7ZriP0qm2r+jr9nb3qEMnSEAMjTAHLQo6OZBxqtrGO7wvINr8bx6LYO55MpDL2J0Rgeo09FqmZUgkZpCAnXuCh7PyfrVYrv/v5GjdQ84kTymAicLap87vra+thV9bP2OD4nH+WRORdgStYByfo/DdYKjEfKMawtcv8v2SenVuG0OREe9sur2/s7zb8y7xFS6QhvkVo5rEnm7nuc/m3RDe/zushsumFP/4wK2goZgwUeWF+3tDlyXyYJOgUtWSbPnXXF3d7Hrs7K6r9Hb1DhR4jcC6FTY05L9/qK5BZyjmxTJMGWyXYcJrj+wCTxSINTEpULGOfh/CV3l9l5O9ossV0UtiwdP9KQ5LOWE3PpwioZetRgaHqZ0DJ5vkzh6SNrsiSURnCgudx0Ia3FMhfzVeavBdZPQkmXNJfeWtnJ1t+hzvJ6K64F5KEsDc7VkB1btHXD/ib6PBE1vTu2ICQtktJIZ9MZjAppfW+vqOZXy26508xLHokoLUvM1WFBg1UPUHI8upuGU1T4EY/UkAuhA496pcJ9RoPVyraJ/0UkHvWURqZHpN9oLg/CoFycO2bPSIvV5lYrrAMT1mhRPr1FFwuYU6NMHVLnYNVDnJuDVWSvdjGvElIaJvuAtBtS1lbztrP3sx1/YsItHJOK05JxcgpOoIFaykPhEdlFTfZqCSKJ9OnCEx2/In2mFLO74vw+zBx5LORi9bJIbzt/Kxtf22W3fJJwciJKTsIpCWJikpiUghJVQjYZyHR/NjF0/XKxZJot0dc4SoNQkGzzQIjTYf4Sum7t62ix0vJ/R/7P/6ZvY78Gdv5W7+3pciEzPBdreIEjMzaahdeS22bI5TAUJS0UHBanWkEJekT3waijddFdV3V18rep6W83/NjnayLXn3kQnowfZWGVCqfr8CORPBaG+A3COJS+aXKVp+lcOqINI61Iv0+FJfR0POPfBhuaVg2w+frgF5k4OR/lakS1lkwOtCqsySfb28gWQOLkCU0anjRClyULuV+jtTQ6VSJLYTQzy0WpIt4J6mCxXNlz63sJmrsi2ZGHdaKgFbQCz2fijM+3DnX2sau71PnP9KBcnKURdXT7ngk8Rh+LVM2oBHWMAtaF6cLs/KpbBZh/d3BULsrNQ/lqUasTdOkodfyFsVbLreyXO3tf8lMhFaU0eh8HLDvR1JJ0U5uUY1hbJEoj9KfLxsn993xi61+txYrWZ1NPaxG5HU5DdudxWpyXi7OycXYOzs3HeRzKp3dI0JFLNxfRDfimoEqbg16jN52JeTh/VuRvNj6OTgHOK+8ExOLYFJScJCQkiSlJKD2Nf6DmVGQTA7n7jXQ0fRJMsfbJKI0GaQLs2qQpcJyH1QvveDl4O9v7OnhEzL2FY2ggmHQfJSaI91NxWqYmndy+w6Y5ZB5Atz0zdIwPSkpp9FbrBJTYcHkDszXKOoG1Duft6/1HT+vlDg03NdoUsyYfZQuCqMVqspBNtnVT2YmuZOJMjMs4a10cpcFzRznEn1OFtvBuYe9v2yigwcSTE4JjN4Xlhmfj9HwxMw+rtOROCa0oqumdeRxPaFt/f42xfuSTHKUVxqToM0ZRGvFnJOdFHwlMU0B0rpeP1Ek4uV9wP5vlNq/5Op9WH6O32gicwGXj7ARikbHxOOY2vnMdR2fgzOK2rpSQ0kjiEeev+n/2ngMuqqP5O0B6OYoURURENIktRiMmUaPRxGhMUaPEkvZFE6OJxi9+1mg0YkOKiBEUE3sSazSIFXuNimBBRQUL0ssd5eorf2fnbnncHQiI+Sfm3Y/f8d67fTs7s7Mzs7Ozs1k/ui51ahQntYmwbRzm5TPfp/FCd9cwmUu4zHOB97tL3yviS8DGhLGiZTjwjoKSId4KwVJateEhqLa1PFvKl4WlLrZZbi1dJXGIdvBc5OU+38M1zMs93Md9vnvzMN/vdk1hIAAXQpJI/i3wgphxDRACG6k00AKY/4SB8Og/+T/dlrlIlkk81/vIlrpZ/2hjs8xq5t0ZxbwCdBisKEMoAcPrNLwSQiJhKBs0iUkH1lqlwZJYBV9+SnH4mbAA13Bbp6WNnKOcnJe5N4tqMez3YVvyNmXxmWq+XB85TXQ2ceyD8CINILkSDQ2pRu7jaiZzKP+Y/6qgRssbvXHwtf38nhP80TP8iWP88dP8uTPc6UzuJvQYC6NZBXHhEJxO1IR5PIWzNPAtk6QdsG+E1SUXn/Jb6W2zxmboH+/LmSKc/eCEg2G4Ul75/bF5sgg310j7OcnTyvkyrQZcSOA6rv5TDWpVXiBraeWp/HnbSBebFXZv7XvrAH/4IH/0KH/iKH9kespU10gH26hGzRcG3OJvK2F2yMLWXVQE4FIAOgr1jFDHUEiEcWC/WwlX2Prn9lYxtp3jn7+hvqyEeBNWw6lzwRl4LYO/fpO/mc5nPOAflPElMHYhMFerg43DZWRWIQQF1VcBh00hM5KHE8pZybMco5wsVkidIxzdI93cwht7hvs0DvP2XOLb/IeWYYnzICCLxa1lkE4TDEc08mi7DRcClabHF9pBCis59YIbEc4xLpIVEpsoe4/Fjb0WeHos8mqywLfpwhY+s5pO3DquiC/U4a44eAtcF1VIZoCC/2ur0sCtp83kbzVd3lQSJ3GIc/D+uak0xtIy3q7rrh43tNfUsOWOr+DJlp0KGIdkuqXfV2Nqw5qqNBgvHKPi1CBCGVbBKVamrWixsJlrpKt9lINdpL0sStZ6acBXR8cfLT+bD6NeRUKAMA8kcTtWg6io0qr2efV3xiqNmIZkbwhEqBMRwFfwyvt8Vs/YXi4RMs+FHqc0x2FTrU5XwWt+PBfnF+rjtdDNc4GH10LvZvP81iWvo4cGGIGtvUpTcspVWSvdw2U2MZYO0fYu4bLGiz08F7u6LZHJwl29F3oNXD4gny/EiED0WqDLlJilZJ+pYSBXJ/dxa6mWZ2AtLWWx3TIbq1hLm6WNXKNkjZe4uy6B8DyPJW6eiz1m7JrM6mDftwp0jFqf+BQGpxmvjlCloTojmR5g1qPl1Of4k7JwG4sVUqtlNo3jmgSuDXBa6uAZ5vFb5m/FxOsIEySSy4Qjbiw1p09nbERJvK0ONaPCOPfmWFbNlV+s+DP01NxB2wd3Wf+iV7Sn2xJXr4WezcKahuwadqH8nBYcPmQtEiZR+sUYMp+o4gA1L/dhygUB9kfzjwesbCWNk9jGWLsudnEPc2u82NVrkZfnAl+f+c2nJk4huhMsUg04AsmMCylpJOkJGkKVRkxVcIWBh4Dhzhaf8Ir3lKySfLBnmJzJZyEjA6fmGCAaxxbx5XPPhjlFujpE2HyfMrOcVULmGS2EuhPJakQk/a151KqWJdkslSn8OYelztKVFtbLbZwiXGRL3D0XeXou8HCNcnFcav/86g7rbq0v40shMpZT0ZU8fZoa6JJK0VVFxwhgQTg4wxZwRa03tLdYYdnlpw631GkqCN7hyzn5vCMzAuc0813QtOkCvyYLm7aZ0fpc0WmWbGYhJpEaXOjEQhVUCZdVwGFLSJqqMq50RsosxygXaQzEcDpE2ssiZe6LXd3CZM5L3L0X+C3YO1fJKUhWDd6QQ9LgjTeCQbpKkD0E8CXmBDhhyznlgvQwxwj7RnFS+2jbxmHO3gtdPRa5ey9o4rmoqff8pl9u+yyfzweVBjNysqRsJutWJcjaqjTYwqjJ5G83iwmQrLCyWm7nFO3WYm2AU5STc4TbxCP/vc9ngxeBbDuA/YzE/wO3GEQjnFkT4KYqDQLCWAay54DHg2E4TSlfeDBvz7f7//vWlrc7ru7kE+XpEu7sEuHeJKLF5FOzM9R3SLY98PBTlwxcmHxElWZCkmoemKg0yLZL9u+DSoM1deAqTS6fO2jDYJdImSzM8/fCBIZlGJ2ujFcvv7iqaZi3+zJX+2hHmx/t7SJtYlOXE58SfBnBrKVK43lezWp2c0lyAAAgAElEQVRW31nts6ixLML+/YPvb8/dsS8n8WBO4gH43nckO+ls/qlyvhz2jYAhqiPLKxgFjs0Hewc/1cl9DL4i4SHl4RfDnaIcbCMafXNxws7c7ftyd+7L2bkvZ/fenL2JOXtulFzj1OB3UMHuVy3sTSGLITCnMUChmBqpNB3PQnYG4HRey2kv8Kfdomwtf5Q0/6nl4tuRO3K3tP6xpVWEtNOaDqfkJysg5QRxx0G6IAjPIwtRMG8z+6kONdPCWkw2BDu5tSpe94ApSC5LOVZwcFlaZPf4Ho6RjvZLHQZvG1rOlZGkZhDtTBbFieMUsMTtOfqGmJf76Mnl+OP5RwNWBUhWSmyirbwjvVwWuHosdvde4u05v6lnaIspB2aW8QpcLwQOgbFMMsqDPiM+gaqtN1VpYNXCcgWfLE8JWNNGskIyYPubOdo7Oq5cpVaRJFSQbSifLxm992u7KCf3pbIVd5ZXsEqYqzI6FjZFVztRM49a1SYRiae9oP7TOdJRslLSKK6RU6Sz62J3j1A3jyg36Qqr9js6HVQkybkicu4N7t8FrxJst8Q5Tu1UGngYWa6YK+6y+RWL5RbPrQy6KD8HoQQaTsmVzT48teV8/8ZhXrKIxo1WNPJc5H605JAW8nLBehUMPnRWmHCPGZUGDi+2hJdPS/3OMdLVMcZpasrk7blbEnMTDubs2Z/zx87cP/bmHLqhuIF7xcjIJplgeAg5NkvOylkaIguLaZDRnyX7CMMywmVLHJwirUaf+GR3ztYDOb8fyNlzMHv/3py9e7P3ppacr+DLMVtoBeQSgg3QVTuhyl1tVRqZv97h7vsvfUb6o51DjOyLI18mKfa+8dOrjpG27lGNvz/zfRGfS3xV0F0aWOEjOc5Qq4EVUqUZZlUa2fPOaHklGUTgQFLy5eWcMkuTkypPPZC3d/bl732X+1stt5FFeIWfjVAzFWg+YvZL/ZS2Cn5wI6o0E5JU86CqStMbj/rwEBJBqIMEMmwpVxaZusQ+yrbRcrtvjk+VcxWw4YoktCnjlPlcyW8PtjRb2cR2mdXyK0up4xF1G4VcF5Wm/fneT16L3V3CnScc+uYBn1/Bq8t5pYqv0HAqkktJCzkS0cQnyXowyykxpED+Um1Trdwnm8JYTlPGl4elhNtF29kvc1mWvqKEL6ngSjScXAURiUoFX6EBNw/sE4NsljB8id1GViEoavSiqkqD0DiSchAIy3D8RSbFIcpO8qNk5L5Pc/miIr4oPDXCc5lno2iLV9e9cq0iDTI9MjqwreH0KuLshN2dJmKJwKsWNdoackFEMFeoK7helnap8Gq+GlbjS/niEj5fwRdf59OC1gdKVloErXjmZtltkkCQqcwlr48yIDrZUK1ZuU/maLBkciz/UMCqALtlNh8cGJrO38jmC3P5ogK+uJgryeNziiGCXwmGEoZKkO1NOAckx0IbY1pFpYFwhD0RkOyfYe9osvr+OsB6hVPLmJYniw+puVKS5ZHlWBXLq65p0p6PecFhmX3ThV7nuD/VkFiPbINtCJWm5tSXuVSPJa72P9qM2jcyi8sp5OR3ucyBcQNsYhxswh3iHsRV8HLwKukgGRgkpCZRPxqwioA7Qd8YcK2iYwxEhv+wn5lVcorxxyfaRzk2We615sZqOV/GQtiIrpgvKeGzc/nMH2/E2ka6uIV77y05WM6XEWuILETRMSCss+osDSfGpCuAJWamTHWKtG28zPnn9JVFfKGShRVQJVdexpWXsRXAl7D5G08/0ZA004ZMxlVBoAjGWRqAIAOSKAQwkst5eeiNH2QRTm6RzgsvLM7hC8q4ChVXVs7JK7jSMk6uY8rJfhmY10F0MUQYaU0gVD6ojUpDTDU8c4fLCYgKtFpu2Tym6QMus4IrvqpJ7rbmeYdldi2X+2/L/FXJqsnaOadjIEcoDGGymGaYrBm6jTez1RraBO5KiGdhtGyuOv+yPO1iyWU57FBUa3iViqso40oPFu1r8pOHNFr68a4RFUwJmAiwugzuR7LoaMbNKqq0yv6u+cqMSjNIMbIpiUSHAEcyp+UnWsQ2tYiRtF4VsKvkjwI+X8MpNaxSySoLuZJVmbGey2QOsTbLL0c/rkqDNVP12vur3BfZy6KcJu7/ppAv0YF5C7wF2+w5VgVeJshUS4LYgP8hfNkQHlg7lYYh3ZoyXrn4YpTtMnv7aPeYa6vLINBRowUJCBkXIZE+OLIQHJn84ZI6KKkqJhvSWajSyFgmgSXEkuVApV21i3awiLMckzhWrdNqtGwWmz8x6b9ukc7OEXYf7Bx6V5tRwSu1HKPTwrYcmDDjJnJzvVhrlcYyfHnsuWUvrX35xfiX1mduKublFXyZjlFq+Yr7fOazW56xjLVqG9M+U5mpgaSqDIltIwvyZPEDrEgBsmZVGvopOU53uOBg89X+dtF2nySMVPCFEAhIZvskfA62NBDfKokCJFtwcQJItrBjXH8VVKuoNJCUIB9hMZPhlJxy/okFjktk9ksd+217/QpzQcUpNGxFBVdSxOfMPjddFunoFG3zye4RhXwenKYA4aQkT78AlyrAap22WMNrLrAX3MJdrJZLx+z7WM2qWMhbXH6+9LT/qhb2yx1e/KnzOcUpcOSSownALIT1P1g2BL8nTk8NsrE6lQZkB/mo3nJrm1+Mn1W0RZdNz59izxbzpUpeW8pqy/nSbP7OzIszbaJtZQtdDxcfU4KzEVYFYDd6LVQaoSc4BlheW86XzEyZ5hxl33ipbMP1tcVsKTzV6HORayEgBf5I8KE+W5whnMGAiYCadJZmmC6C845ElIBKW3AzVBbh4r5EFv5nZAEr13KcmtVqOa2KVeoga7CGDGnMcgrsQ8KZBbVXvaylStPxvIrn7nO5QVF+jWIkLX5sXsAVaTmmhJNvydrsG+Vvt9S5/ernj5QcU3Iq/ZkfYF2qOF5J4piMzVgzszSyXgi5mThtvir/y81jg9e+2G1dlwv8+VJewcEqnU7JlR+RJzX92csixmJk4vBipgA6C6RuZVLUSnvHgKmo0gyUeNT/qioNZ8DEZ0gsK0i+Da428PcWc4WTjn/tFm3tEmPjtajxlwc/33j/511F25amRQ3d9oHvwqZukc4+4V6/XtuEkzP6TZtQh1kap/rpfmzjCCf7mEbv7x+yS/5HkjzpgHz/fvm+/fL9++QHEuUHLpZfVHIl4B6A/Z7gxCJn8hLxK3BhVSf3oRwoJaacV4alRNgts7VaavtNyv/2yQ/tLT6wT3FwT8m+AyX7kuSHDhUcylDfUkFOS0IZ4s8hWwf0KVgpgkZRqWQEQNZi4pwBZ2Uyc8l+maNVrOWYnWO0sOIDe2Lz+aIhm4c4Rtq7L5XNSZ6Vx+er4MwL4H5yarEZkw0hVoeasD1EC7Acp/z1xga3cE/rZTbNIpv/kBq6vzjpbMmZ3+9v+2BLiMNyB8dwh+Ebh5XxpbAeRZIskISQRJHpV30qm2FWpYGagGGpO1hw0PcnUGkf/R5SzheBMAKZpAEtxMD8gvhgMR+W/mRQ8iJZa6EzFwMORioNDl0AosDRLSzH3GEyXo3vbbfUpdFS2+eXt1ucvGBbztbYWyveWT/QfbGbbYzNc3FtknL3wWoW6DNkE+OtbwZQ8N88asISRFOoeU0qd8lhiaMkTvLZ/g81sOuD13KaAi5rRvJMl0hnlyiHr0+NzeXzIZsnnHKDchlcghAmgnrZoFmrUWmw24FhGC3HPOCyQ7YOcV5mb7vcxi8sYPLRKdtytm99sGtxSsSbG/t7hLk5Rdu0j2xzQX6ObGUDwQ0ZU6p4KypxEIIjLErKcUw5Xzrz4ncOkU6OyxynX5y2R7H/QMmRwyVHkwoOHCjclyRPOlh45LYmUw07CIi2BILqQ/krazdcUZVG7RCYfxCDpoIrW3QrzCXC2S7CZtypcfvk+w8UH0xUHNgvP3S45ND+oj0Hiw9dL7+uIZNcMqGH6ZqhYjP/a6nSiPOBfcBlBy1tahUj8VveLJeXl2m1ao4p5hVLLkc2jvZpFGP78k/dUzQpwP9kFyP6S0k2LGNFY06lkWNyIYe7rowrnbBvnCzS3ma55TNLn4m9HXdMfvy0/FTs7R9fWRfsEOnoFeM770xoKa8A5PS7dghpzeEqqjQzHW/2UVWVBisbOEkjEx449EGDh1lAojpduvLmV4cnNl/WwiHK0THKwSnSzjnCwSXCxSHcxT3K67Wtr625Gl/I5VFlhhcUbi1VGuxL45WrslZ7LPGwiWnksNTeNdy1cZibxxInWYSjS6SjLNzFa0GTz7d/Ucjk6iBLmwpSZhPFQWYWeFCUHmx1ch9XfHU8W8ZXRCZHyCIc7ZdZOkfaeoa7eoTJXCNlDpH2ztE2snBZ8znNll0IV/IVsLCIGQ0gDIIF2w18Q1U+wlkaiR0l2zVBK3AMr77IXpAtcbWPsh2XMKaCK4V0+5yugq84mn+ia1xXWaSrf0TAxisblFwp+HQhwymJkKsCofKmOtQqS5ArsmmXyWGy55+eGxDdwjHSxTHSVRbh7gSxNh7OS1xlSx3f2tzvTPFJ2JtBNq6D6sFcmURREUVTC5UG+kaXVHA0IO5ZWbj7Zzs/VfCFJBob9BBJQEjS0WphPl0OLjgVpKU25BABlfgolUa2FkFmZAYEq1bLqlJUlwclfOC4TOYQbSuLlLkscXWOlDlHuTotde265ZWNt34r58tghy2JYyDp/htEpanP65I9wpraRNl/sWeMilNBxk+GreDKrpZfe3l1N+co+2ZRTXbc+qOChHcSgQgCnTACxt1URqkIdYyg72DjmZbVVgCHqC6XJ3+a+LFntI9DhIzMb5xkkU4OEc7OUW5ekZ7vbRuw/fZvZWDhATlJ8ng8BKZyUZnWLARnGAWwdKTgy2dd+ME1vLH1MhuXSAeXpY5OUY7OkQ7OSx2dljo6Rbg0/6FF/MXYcr5Ur9JIkH01S2mAozB7CFGCqGV5JacKuxbpGuHaaIXUJtrONcJFFu5kv9TZJdJNFubisVjWZEGz+acXFfElKjwbCJmQImByURuVBpwFS5O6+2xW6yVBjlG2QVGBubwCkoND6nNNEZ87Pulz5xjHxuFuX+78spCXkzVbsD5w6Rzcg1WVjTmVxsKRNayOgeNkdLe4W6N3/6dJlI9sqasTBN96OoU7uSy1d4pwaBLh/2nCuKvKGxBxRowD5H8TIHpsRZVm0u3VPKiq0tDpTW0w/QnB4McjXKzltcVc0RnFqdnHZvVZ8VrbxW0D57fstuKl8Ue/TpAn3NNlqsGVjwdNVuo1CrmWKo3hdSW84pf0Le2md2o+MzDgh8CWcwICZzcP/N6v5Ry/FnObB3wf2HZax/9unFTE5Gq4MiItIV5Inz0EzP1Ks646uQ9sCpkhmVK+dOXpuOemPNN6dovA7/0CAIRf8x+aNZvn2zzUz29WQPsZHaNPRCv4UhWvhSgs4iWAIWsuslio0lieU4IDnaxtw1GDyuvMzeemdmzzXfvJm6eUcaVgscOmUq6UL99XdLj9dy+2mdbhtemvn8o8qYJTJQ2n2VQdSJSe1aFGC+AFccPqNHxFMVdwTHFi5snve8W+3mZ+u1bzngmO6PbhphG/3Fl7T5eh4iuIV1DfcXrLBkcYNKBS35ifykAyNTgp7fiDP19e2O+ZaS9888v/ivhiyN1OvIwa0GukVqJdQMCDG5DGhhBr3khmVM3xCOiAxwB3apP4ao6t4CvuMlm/F+4anzDulcXdn//+hZcXvDRi/agNdzek627J+TKy0Y+EnoBEAg43oo/w1jxqwhKkEiWvvqHLfHZql2dmt5u85ZtSEL6wLw6m3Vx5YlHiszPbPTe1/XuzB90suakDJ7aGHHlN4irQJNcfsgBVC3WMABTuSYejUHQ8q+SV2WzuvqKkCfu+7RXz2jPznm29oE2/mP4/JIWekB/PZR6U83LcHUEwJOeUkABUE4pWAQeFyVhR8doSvnTR4bB209sHzg4MmOPf/IcmzUK9m4V6+YZ6Nw/1bTajacepHX46s6qUVxDPDZHvxPlulj2NVBqR2gCM4zTlnDw2eVWbGc82+6F5s9DmfvP9fH/waRraxDfUr/lc/5bfBz43rUPUkagivkBHZoRkfi0gjMllbVUa6aAs9sHLs7sHTX+m+/evFvEVmNoHFmD58kvalP6rBzw3vd1L374S+Xt0Oa8k+3YI85AIacEggEaYU2n6XsN/Fbw6h83dk7/vy90TXo5+NXDuMy1Dg3pEvjpp17d7Cg7lsEUVsNENfSGEN/UzazMsKqo0k26v5kFVlVZNIcNj8O3DlmF1OV9WwOfn8NlZfFYOn5PPF0CEEh7OaaY79O/XUqWxHKtm1KVseQEvf8Dn3+dz7kMerLs58HcftkLzudl8biFfUM4rIPiLRXe/MMKrUv5WJ/fB6wjZHpgKXinnFbl8Xg6f8wCyN2Vl8Q8ekPxb9/g7Wfy9PD5XzpcomQriiSAjGdhQ4Nw00MfU8QimMiaMgEkk+Ddy+HzS+EIlXwEthm3ijIbXFPOluXxRNp9XyBeW8iVKUNUsi1kPzcqMGjIyC9oDl6gGIM0Vo2Y1Cq6skC/KgkRHd/P43BK+SMXByr/RSzXcmpf7xOBXMcoiTp7NF+bwhYV8iRJ2rULKO51OR7Ka11Cr+Z+EjkdUSHDAGnEZEykJMQdaXlPGl5Xwxfl8fi6fk8fn5vMFpbDgVEECDYk61nNEw6g0BvZ+KLP5ohw+R87nqTk5aHMdrHsyOo0cKJCXzefn8bnlnFwHO6DBfYC2EDEPydZ1Q7dWo9JQAZNJAjEqtZyuglPK+ZICviAbht6DIr6oAmKmVCSrb+XaJ1oHdKeyEWWrgMNpGizy6cp5ZQmvyIdwntxsGAJZZDjcw2xVOfyDAhhx5XBCJrjk9AYCGrtGIJDphLM0fWeRIAgNV1HCluSQoX2Pz7oPgxrypd2DFHTZWXxeAewfh7QajA4yZBJvpSmEyid1UmllfBkimAfoqPXHawBXaUt5eTb/IJ/PL+ILy8GEVaL7HfrAYCcbOg2gm1NpRr3GCnvtAZ99H+ovKoH8BhUQHEASjRg4GQxHYoCakaGiSqvs75qv6qjSSK570CHwhwfpwilb5AxqYG6y4F8dxFqqNFhq0MBhh7gVjEx04ExC8qfW8ToVr1Xw5eV8hZZXw/GcaLXrZ2lo81R6yapVaYRN4bg38Fqq8WwqPKEPMILkkYwOeFoF60AQ8Eg8m4bAaEOSHmNchbM0Mp/TsygcSAy5mlRqXqHiiyuYYjgQDeQsy3IqHTlZUcWrNawKvCAQZArLKEhn4SgSwqsONWEZuEZRipnvYbbAsYxGC0eflKsgkxNOd6oDYlxZtQtOSE/YZ6qs4Es0nELLlsImMYiLhUUJAGOmskc8MlJpjD5KCEQj4gWBqBB+otHwSoiW5ktL+dIyvlQNh46Cw0CPPopgIjJqAGleW5u8QCBq1XhUJqOEOECSLh5iP4j3VQmxsqVqvkKfBAASSMFkgwQcQdQf4VZ9vVV0TCUsCMklf2QqpM/qAueKsRDpotHyahXRZxo8hpecNAvIEirrXQn6u8pKjSeFmPYJs5WReTM5FQFaCLwHfM9qWFjPgycM7AkEO8wwCpC5CYmrgBCqNGwJhquQd+EllmU0wOjkdFT4gj88YIWkF4AHMDLIPhmGHAxRA/PUSqWRYC2yxUddxpSoYZtzuQ4SShs4BHwJWh2v1PEqLcnoAQ0kqJI8XhCbRhJ8VDbEnEqrodfgCCzsNTg7m5zqXdU4I+pbv8HWDD3FhFjGRDF7X3eVRhwVRHvBAKVHz+qD+ojRZhYSz9dWpRGvNw9iAmJhNSysmkAWCxhWRDQQsQyyGM8JNDgcDf9RdOg5rzq5j1FJJKMsERAcHFwJm8fAP4bCBE48hCUgciYtujUFg7mKVKIYG6s0PBRY760kEWwwa1FDcmAY1RBWznNqcp4qkYuoeJRwVBMcvAixl497qjVHjpIGxPCQKy1ZVIDUW3ASKCThMX/iFcXJ+MKs3Ic8ZCwHp7zBnjYVZA3UadCzSAwdcsajcU2PvjdSaYbAVxIbieIbepucXkciFYhfEuwttKyJs5PILPiCKdrjOx6JbAS9ApXBXgsYBRzLacj5WnpHIbSA8C8GZpPUIZh9lIjsKsxTjUrDUEGiPXAxCYcbdB/Z1A7sz+CJo8R7C82p+jG/BiUEB+NY78jVMaxax6jIEMDtkYRUhDdgAgqh+2CYYHwLAMNpp3lvBUxKaRA/bmEDMxO7jKgISPfF8VoNsRSRhmR84yHnZHUJBiLklIQMecC81X1qo9LIBnlGw+sg6grPkdbCXBkXSmCeZMARllmIR5yMQYImWGNwnjiJsK+cQplVaUTh19BrZBkexQpJsgd16+0t+I/Wgimm4izNlCbmn9RJpZHcNLCaD0nM8LAVRgcGFkoO+CZOIfOgaq/SoB4ItoRDqyHeEljbYE7qo+Ow5zUYxQKeJbKEi8MLufARKg0qha2sLKMFaY8WGTkPEZPTqCEFACQ1Z1WQkRumpIbAc2RBHNLGqBqpNH2iWrCzYTgDz8JsDyPlIVQZbHcdTHchBzSxSomSQa1D6EyEhzEYcl+dtjYqzEH8GxyfDTKQGJEsbOuCQ65JwIt+hcvorRpuzas02HoBvUQMei1YtCTVnU4fcQQ0xglEDTWb/lRVpYFaAkqSDwoCBnc7oPTWy/pKqQIsaSC8gS2MBb8QqFnUhAXINSyjapgKkH2Q8pAsyjI6Lc8oOY2aBHUQLU4EJsNz5DhxKKz3gAraT6oT6phKWCDmaJPB+4GBO2TiTpgIlAtkaCPcC/4zg2ykddRGpZH8o1A3ySDCalnISgwbovUR9LxOTewq2McC020YmCSKlYxAHJjmKCpUabhnFHhDr9I4jU5DJj2w30CjVcFOGRIqpSN2EAmEJQKGIAUbS4BJq/3UWqXpYHsiS+aaKDqAOVCrEdcijH/wYuBIhFPhcA4HaKLnUT+OsSlmVJq5XoPdfODWArLq97SSTbGkf8mhEoCcgTbmJtY46xVnadVygPCHDh066EcY+Sf8yfw1dC6KWh0Du+s15E8NbjRivxF5X+VVWj/O0lDEVClhfANnamhg4yHwAWyxwbEJ/Q5yDJib7qwGDQtuLbI0RgZ1VclRXFw8e/ZsM0D1DhFSHW6zIXzFcTodpN5X6cCxo9VA7g+tmvh2dOQIbRQdegY0bjlk4qf44umCxE+DMVNgB+DowIwZJD4CsMOTcWDuRjbeocMFTDaydG8qMRBEtagZt4qFTVyQ9ISsjwNAshWUqFZUctB1j/pQvFxcXPBa+AZMQXC8QxQIVMfANiDDZkGINdPWW6VR0CC2K5lBL/HhnyH0pJIxoBh5z6AZoLUoUoXtJte0frOomSkOchC2hrNEkav0Lju1hofkLGRRiygYckAmwK9siV6tERtHD/ajjz7CqyqADGxMeB781mRWrYUzRYEbGQgeJcu0ZDyQcaE39yma1ao0ii9c4GKB3p2INgOEpEDKO/Kn4TQaTk2c8yoVOOvU5Dx3giVtZJWm640O/SyNANNTHkU3qGc9OmR3hxqiamCJTos4khUsMvOFZQGknRn+FGJRm1OtUUkTvgBDBO1fMB7BQoAHJJMpo4Z0VsSRgiE9qG3QpKb2FIx/c2tplCDQF5W9Rs651ZJeI4Mb7QEyUtCORVbWU8kEV8QUVZoZUVaV+E/iTvIkKjUKPWgQEHiqNZGzZJ8P6adH1Ky3s0gqAMxvjPmzyLtmJQZxboCrfNasWRkZGbXpEj0Q0s+VIoxITP3CuqEECaaHnV9kfQK4nwxuEBxg5jFMUVGRWZVGxq5htNApIF0nAOWIyxdgXZGjfzFPK1GhZK3fLLWMVBoRF+jHBA+fwb0Bghdex6iBSikNgtLwpy8syDJR2TM1o1ZZDq8qbUwCiXyRamGkAHmrc3ZUrQj5hGEY83Jf3yNEgBsc0rizmBwsghOoqjXW4u7nn39OTk7WCy+6do6ymrQefcTEzoCep71PxCq4ycgsETeDGdSJicgAK41wi3nUjNuJVEMfuD7pp55biHOc+K1I9xIbjLRN77ADyNh4MikCW4xhzKs0qoD1whGsEKJLSFJxGHT6mHio0KDMsBP0klEPybj1CE4/6snsBxVNJekMLdRXgIMCBiOqP/2EUE9tPcgqUHDI9+zZEwlL3iODmU4ksQvwXQrOwEL69utv9TPzKgBg+ADpDPVzj1RppE7gI5gg6b2MSDnQPWQWBmKEqDdwpGDyf4GtiwOWGPSEVTiOMzNLq67XKkWlPsTXIKigF/WhJ0Bdwh4mJMXOwukHZtA1osaTvv0nqTQrKys3NzcX8pHJZHhR47erzMVN5uLq5uLq7uLi7uLi5uIigz9XF/2fmUoQhI2NTe1A6Gsk1ULNMoBgqN6tEmQlTAQO5WSkbW6uLq4ymczV1dXZ2dnOzs4MXDcXFw8BAgQFAsuVfLu4uri5u7i7u7i7ubi6khYhnoZvmYvM1ZRQlpaW+BChY2OhnAEZF5mbi4s7aaQMqacvT/DD8gaSGt4yAfMI1EzKExRcZQCXdJrMHRovIyBpw0zeMn3g7u7u4uIilUpdgSRVPq5CWhrqNPyvUrJON3Z2do6OjkA/mYxwEcJxhX6mteOFUb2InYArZdCPbq6Ee43Kuri41ICaSWEZdqIbVKVnfOQWcgPd6oEMU6XfaW+6Eg6GliHQRo0a0TFYFZah9RRTUoe7i2tj+HPzIMMQWB1GgplxV7U2/V2jRo0q6SkjbUFGxDpINTiOkGEau3g2dvF2d/F0dfEg/GNoVeXwMw/ayspKRj6VzahEBIkA3CiDaj0IzXBAolxx1bNo5SuV1WD7sXKkoa2tbZWfTW4oonrG1VdLByMODL1Aq6SmEDpShkB1JR+ULSagDPQRvCuD0QG95lE5Bg0DsGrxyrEvqBfFl4WFBayWkJ2u/MzNpCUAACAASURBVF/7+ceoNLRMhd+PIpR+Xo0xFHqjWW/6o+MfzbAq1WD9aGijuVHlZ7M3xFejN/j1JjnM0mEZCvxbWvSAY/o1yJJFXAdQk8HQ0xuh4OgzPwElPiGY2xkWAg3vkvZANQb/OToo9E51fSn9M6O2Iyy0HPH8HWgyrFKQ8ABiDJJ5JJ1KksyIuOCGFrAeDFqm+KvxEtQjUTNqVSVZkDoEkL47yEoQWbowmblUrQXLo4VITeMqRSrpRbHDGRRQgBjCjwBRpTbDDYXFMLBsS073ASub/JEEV2Bqk5V9QwAP8gZdDSKmN05KSeeZrMk8GjVDY/A/+lQx2AHna3jGCvIEzHiAY9Gdp28YaRJO/AVTBBLVWsO4MPAyZWpkIOBMPbOQ+Vnlz/QF0lCzNBfSk4Qwwvoq+SO5yvQQaJWkdWTk4aok3BsGiuCqKoEAe73/g4LDFpPXkU44witFCLrY0f+m/668MUAVwKHjGtPvIRkFv5tcUpegoR9I9fq5F5kp4bGLwgkvOlkMLknijiJBoHrszAKtpI+BUHrup71mCBo1sDEutFdiS9pk3P68vLwhQ4bcuHEDETf++Qnf/2NUGuEUCM7FvsHbGomD4gM0Cp2Y46g1OEHMJBOglUN6HwKrRhDkx0r+Mzhq9JyCTgJSZeW4Rm2ql5iGgqDJ4AwMrda8HhWCELKhAL4BNTrC4YJ8gEtJy/T3+A8xpSoHAkr0210pABwk+I0sj6fc6FcmKhUnNI94402iKihPV4talUbRG0QYklaCw5OkaYJAPeKaI+OYljRzQYGikWiOpAYHEeKKYp36VAiuZup91CP0L1H5pYOkudRfhP5fYn1UylcqQOgFNohAElxSyLVAjZaFi0qVRq71fIASCZ24AEUvMLGP4Zt0LfYv8hXlk+rHBaqsSvYzdZDrW4Z40e9KqFVaDo03WHgIXadh9AYCokH421ANEhCWzMmf/rhs/FVPCENRIzDoEqwc+BBaq28TIQTiQfW9PkM/UfzoBCetwcqxYXpKVMKhlaPFXPlDdVe0Nn3XCGo0jDViqRuUnB41odEJznO05pEtqwH1yF5DwlZ2q4F5hSKpSt0cx/300082NjZDhw7VwaG8f/XnH6PShM5oOrAfRS09i1FmphfVvYiT5Up7rbpyhuckVgIPkdbPcQhbwdCDEUf7nQIWXpDf9cOCZauXvwahQ/gb5Y1e6himejBmwLeO8wGSSgkKo/WNTGls8FP5i8Qk8cKG47kMjSQqBPO3UoMdtJbhdxj7aL7ByMCnBsrQ/2zNqNFyhgtSDXjtyXSWhEnj/AJHn0FRG4qb/w/RLhAdCmsYptYPXZKjiBhmuWT3Hfad+YpreoqSF+lJoBskHG2/AQXaAIGoIFBpg/RTEONeQ0FfA2rm2kehofClhjysmRE6UxlO3qZMC62FV8A0I/SsYVzgJBc0uB4F/AenLBtiyvXbvUgZg7UEkCGeH/+MGk+7T+/CgoYQG4GQ0fCWfgqFPxBwmLWMVIrlDUXNwsFxV2krGwrReQmYUHSmqR9ThkKkZiQYDmSziFCDQGhHGiFrdEvrpNUCSLDqgAZ6BQtjxIA+tsTgdMB1NYjvNpgFCNoECvAA6RHECJsPQSjYa2ShGfc8GSiv52HaEDMs+tJLL0kkEj8/v4sXLxpB/Atu/zEqjQTlA/lMJVQDkgk7nmHAPVMbQKRjK/ndwPt6GaEfqQZBZhjthvFA/hs4RD9RM8t5hheA4cyqNKJPDGMQmiMoZbgxohICwm8cciQoDVpO20kEvX4Qo3CgAwx5H/mayg0jEHhL7Y9qUDN+CWsmMg+sBP2cjMKrtUoTImgEgzZbUCvtRPPi1agGs7dCiAZkCQToDmFnwx0SjZLa+KKaXkO2FAIy25KqD3GqZsBV7zomVrzB50g5FF6kjYOn+rcQIvoS6OEVQigGG8uAqeFFYvOABCYuC6hbwF6Gyg2PhBXieBdiqt9ZQfHQv6XndUMd+HPVO8MrhqdV4FQBQcY8FscOQsqY9I6hJlK0CsHIL1UAEEmCUChSRgVMb4V16ttAGoFtM9iRlUMdazBuOYFKecYcFANr4psmvUa6z4AkrR0u9C9QdKnuTEhIsLCwsLS0tLCwmDFjhinQJ/3kn6TSnjQtxPpFCogUECkgUqBOFKBrCuiPsbS09PX1tba2btmypYODg0ajqVNtj19YVGmPT0OxBpECIgVECvxLKYDuaNRn+fn5oaGh2dnZL7zwQmlpaXx8/N27d/9iuogq7S8muAhOpIBIAZECTwkFTJcJMYBImBbjL0ZVVGl/McFFcCIFRAqIFHhKKCBUaXiNi2qYPQQncH8xqqJK+4sJLoITKSBSQKTAU0IBVGD6+DLDDiuWZTt06EC13V+MqqjS/mKCi+BECogUECnwNFNAzMT/NPeuiJtIAZECIgX+VRQQVdq/qrtFZEUKiBQQKfA0U0BUaU9z74q4iRQQKSBS4F9FAVGl/au6W0RWpIBIAZECTzMFRJVWbe/SXDWY0wXLYZ4q059qk7/KFBKtR5jsB2N1KDgsI2yDaT2P84S2wQg1IVz8CRtZP0xpXhz6urB+iiwt9jgY0XeFqFFwNKMSbQkt31AXWDP9RtA0yLihoBjVI0SW9pTwoVH5etxSGhpVS8HVo87avELBUfYwom1tKql3GSF0rITSod51Gr2IFVLOpJmr/gIWpdjRC6O2NeytsOMatmZam6jSKCkqLyiH0W7GnsDsojodnt1R+aNGo6kH86GMo/mCMTMy5oQ1ytOKlQtVXWVbH/uKpmelMhcRw4bR0YVpvOuHKVZC6xfWSdMK03hcSpbHxgzyZNLc7bRPaT7yenRZbZokpB7tXETqiW6UEZ5MVMmahgTKDYIspWFlml2Sl/ZJY4f1U6B4i+qNXtema+pUBlOtIlAcldh92KdIijpVaLYw1i8kIL1uKBCmcBEoIkIHiDAbdYNwS3VwEcEnBAK5AvelmTbgL3jy9w3iR4qXlpYePHjQ399fIpGkpaWhiLx58+bIkSNdXeHkzOHDh6enpyMd60ovBIGMq1QqT5482apVKysrq8uXL2OvFxYWjh8/3tnZ2dXVtV+/fteuXXsSfIANKC0t3bp1a5MmTaRSaUZGBrK7QqH4/fff/fz8JBLJ3bt3qbqtK6bUuGZZNjk5OTg4WCKRrFmzBkEzDLNx48YWLVrY2dm99957d+/eFZqr9YAlfIVl2eLi4pkzZ3p4eDg6Og4fPjwzM1Mo/YWFG+SaZlBFwaFQKObOnduiRQsHB4fOnTsnJCQ0CBTTSmbNmiWVSiUSCX5LJJJ9+/ZR8dEgJBWeFMEwzO3bt9977z1HR0d/f//ly5erVKonwZ/UAEpNTW3atGmjRo2sra2trKy8vLz+/PNP/NWUGo//BJmT47i9e/fKZDJHR8ebN28igpSqDQKF5/kzZ868/vrrdnZ2Pj4+M2fOzM/PRxZFtfr4UIxq4DhOqVSuX7/e39/f2dm5c+fOu3btQuOyAVEzAsrzvEajSUhIaN68uYeHx+nTp00LNMgTcZZmhozUup8/f763t/ezzz4rkUhu3bqF/T1o0CA7O7u5c+d+8cUXFhYWY8eOrd+4wjGD4n716tU+Pj6dOnWSSCRXr15FQN99952VldU333wzadIka2vrIUOGVFRUmGnu4z1iWValUn377beenp7+/v5SqTQzM5PjOHzo7OzcsmVLVGl0flMPgCjfz549GxQU1K1bNwsLi9WrV6P0T0tLc3Nze/fdd+fNm+ft7d2vX7+ysrJ6gDD7ik6n+/bbby0tLT/55JOFCxfKZLKRI0ci5ZHIZt96nId0uslxnEajiY6OtrCwGDly5ObNm9u1a+fl5dUg2sW0hadOnVq6dGlUVNTSpUsHDx5sb29/9epVql8bBCiV8sgzQ4YMsbOzmzdvXu/evV1dXY8ePfrkRDDHcefPn/fw8HjnnXd+/fXXX375ZceOHUVFRWh7mVLj8Z8gsvn5+e3bt7e3t3d0dLx9+zalJx28jwmIZdmCgoKWLVu2a9cuKipq0KBBVlZWP/zwA84InxA9WZZNTEx0cnLq1atXWFiYn5+fv79/aWkpjggcqo+Jl+nrLMuGhoYGBAT4+fk1btz47NmzpmUa5Imo0syTkWVZjUYTGRl57dq1KVOmSCSSjIwM7PKNGzceOnQILR1LS8uBAwc+jkpD3l25cuXp06ejoqJQpaHjcdq0aePGjcNRZGdn17Fjx8LCQvPNfYynHMcpFIo5c+bcvXv3gw8+kEgkd+7c4TiurKxszpw5eXl5n332mUQiQT1XP0xRbbMse+DAgfXr1+/atUsikaxatQpRmzp1qqOj4927dxmGefPNN729vc+ePdsgg5ll2ZKSkldffdXNze3+/fs6nW7cuHESiaS0tJRK58egXLWvIp9gz06ZMkUqlSYmJrIsO3nyZKlUmpOTU+2bj/EDdSArFApvb++hQ4eil5g25jHqrnyV0i0vL8/a2nru3Lksy96/f//EiRMNaIhUwiNXiMKpU6ccHBzCwsLkcrlCoSgrK8PGNIi2NoKIHKvRaD788MPOnTv36dPHwcEBD0pGpm0ooAzDZGVlxcfHo/2xd+9eGxubzz///Emjtnnz5kGDBl2/fv0hprNmzbKwsLh+/ToqMwRtSpDHf/Lpp59evHgxJCTEy8vrzJkzj1+h2RpElWaGLNQWwz6eOXOmVCpFtwNltXnz5r377rtBQUFbt241U0UtHtGqqDBaunSpcJaGI1mn0+EhQIMGDXpCszQUvlqtdvjw4VKp9O7du8K2jR49WiqVop7DJtUCOeMiFBeO4/bt2yeRSH7++Wekc58+ffz8/HJych5arOPGjXN1dU1ISGgQFxbLsuXl5f3797ezsztz5oxKpRo0aJBEIjl79iyCNm5lQ9wj6WifJiUl+fr69uvXLyIionXr1iEhIQ0BxEwdCFer1f7vf/9zcHBISkrCZRK0QhpKBNOhsX//fqlUunPnzpiYmIULF546dQr90mZa9tiPkD+PHj1qaWnZvn17FxcXmUw2ZsyYvLy8x/Ec1NwujuMSEhJ8fX0PHjw4dOhQOktDOjeIycXzPD1b+MaNG9OnT+/bt2/Xrl1PnDiBdG4oKEaYCkf3vXv3OnTo4Ofnh7M0qtWMXmmQW6w8JCSkcePGouOxbiTt2bNn3V4wHJRXUlKSmpqanJyMRhP2/YwZM6jjEbmQ4zgXFxeJRNK5c+fU1NRawkInCQr3ioqKS5cuXbhw4cqVK/ic4zg6S8MxjCUvXbrUqlUriUSyf//+xxf0dKgUFhaeO3cuJSUFl+jQ0zh8+HA6S0NRyHEcztLu3buH1KhlG7CwTqdLS0tLTk5OSUmRy+X4cO/evVSlcRzXpUuXFi1a5ObmsiyLM7atW7fWYzDT5imVSuzECxculJaWhoeHW1hY+Pj4tGzZUiaTSSSSgwcP1ls3P7KvNRrNlStXksmntLS0uLh42LBhUqnUysrKyclp9erVj6yhlgW0Wu2NGzeSk5MvXrxYXFyM6N+5c6dly5avvfaa0COHP9WyWmExIR/qdLrs7OwLFy4kJydnZWWtX79eIpEEBAQ4OztbWlr6+/ufOnWqlrwhBFHdNeqqe/funTt37vz58wUFBQcOHHB2dn799deTkpJ69OhhZWW1YcMGVAnVVVLX59nZ2RcvXkxOTsYF15dffnnOnDkqlWro0KEODg63bt2iQ7V+JgK+xXFcQUEBcsjNmzfRFEhISEAmefvttwsLCxucP1Uq1e3bt//888/k5OTCwkJkiYdCYMCAAQ/PzBS6OhvQ2lMoFCkpKcnJyZcvX1ar1YjUBx980LhxY5yloZJrWGTFWRqwPbVNdu3a5ezs/DB4wd/fn46H6dOnW1hYpKenUxMVzf99+/Y9XOd84403aiMysIxOp0Nw586dc3d3l0qlTZs2VSgUaNRHR0fjLA0FOsMw+/fv9/X1bdWq1e7du2sDhba5hgtkoBUrVjRq1EgikbRp0wah01kaTsio22r06NFWVlZ0IaE2gxlFIZKrRYsWEonE3t5+165d2Ko9e/ZIJJK1a9eigOjTp0/z5s2zs7NxliaTyXbu3FkP4Ujpk56e7ujoKCGfkydP6nS6uLi4oUOHfvfdd7NmzZJIJOfPn2/AcWtE6nv37uHqIwZoTJs2TSqVxsfHl5SUfPrpp/b29jdu3DB6pR63HMcVFhZ269YN0dyyZQt2a2RkpKWlZUOZwNgLlO0nTJggkUgsLCwmTpy4bds2iUQyZswYrVa7bt06qVQ6a9as2vDGI5FFRB76aSsqKkJCQiwsLKRS6bJly5CpcKimpaVJpdKxY8c2lDRE5lm0aBHSc+TIkYsWLfLy8lq7du2uXbteffVVW1vbNWvWaLVaOq96JCKmBSiLrlmzBgN5+vbtq1AoELXS0tLY2NhGjRqNHj2ajj7TSur6BLuPcotUKt26dSvLsvfu3evfv7+rq+vkyZNVKhUNZm6QTkTP7YkTJ5Ce3t7eGRkZiH5ISIinp+eZM2ewYdihDWiaiCoNOITG8uXn5x87diwpKenkyZMo6B9aizNnzpRIJOnp6ch5D8NDFi1ahN3TqVOnJk2a1IYJqFzAdTKFQnH8+PHDhw+jxwZ7lDoescyFCxeaN2/erl278+fPI4vUQ9CbDgCMW8vKyjp8+HBSUtLZs2dRLqAEoeEhdPh9+umn6HjEYrVpg9CYPXXqVFJS0tGjRwsKCjQaDcuye/fufajLcS2N47hvv/3W0dHxzp07LMsOGjTI29v79OnT9TiOFhuMq4DHjh07RD7FxcUZGRnbt29Hv8qHH35ob2+PQqQeE0FTYpo+UalUZ86cQdrm5uYOHjzY0tISrYSdO3dKpdKffvrJ9K16PFEqlefOnTt06NDhw4fz8vIQ/WeffbZDhw7CKVo9aqavUJJi16elpSFVb968eePGDQsLi9jYWJZlr1+/LpVKJ06cqNVq6bv1vkCgDMPodLqrV68iJe/du3fmzJn58+cXFRWxLJuWloaaFQvXG5bwRZ1Od+fOnaSkpMOHD6elpb3zzjsWFhY25GNlZSWRSFxcXORyOY16r81AENZPhzDDMA8ePDh8+PDBgwcvXry4b9++gQMH7t27l+O4W7duOTk59e7du6SkpB71G4HDW5Q8Go2GcktBQUFubm6fPn3c3Nw2bdqkVqupXkGD22w9dX3IMExJScnBgwcPHTp08uRJpVKJUEaNGoURj9gwaqnUtf7qyosqDShD9Q3P8ygOMKT13r17V65cGTNmjIWFxd69e1NTUxmG6dy5c6NGjeLi4qKjo6VSaZ8+fWrDfFQ6YL/SW5ZltVrtgwcPLl26NG3aNIlE8scffzy81mg0Q4cOlUqlkZGRBw8e3L9//9GjR9VqdXUdWcvnCBfZCLFG2XHr1q2UlJSBAwdKpdKDBw+iO/T27duXLl0aNmwYuj0vX76Mx6I/EhZdSaKE1el0LMsWFRVduXIlNjZWKpXOnz//8uXLeXl5V69edXJy+uyzzzZu3NikSZMePXrgyv8joRgVoCMEdTaaBQ/7ccaMGVZWVrNmzYqPj3d0dPz0008p4kY1NNQtGigYQIQhIaGhoVeuXHnvvfdsbW1r76muoT3UvKCMxHEczl0+++yzhlVp1LVACcuybGlpaZcuXby8vBISEkaNGmVlZRUfH1+bgVADUvQnNDERRzoet23bZmtr+9Zbb+3cuTM4ONje3v6PP/7AMvTFel9QRhXSE69VKtWwYcOcnJxwNR09ovhTXcEJoWDLWZZNT093cHDo0KFDQkLChAkTbGxsPv744wacpaHAQTJis3U6XWxsrJWV1dtvv71///5Dhw7t378/JydHiHtdUTMtL2RRFDi3bt26fPny66+/7urqumnTpitXrpSVlVF5WJuJgSkU0yeiSgOaCKUhXU5Xq9UhISGOjo7W1tYSicTW1tbBwUGj0Tw0G7t3725nZ2dvb9+zZ8+jR4/WZlwJuRlZB7sZ3/3qq68cHBwQENZ869YtT09PS0tLKflIJBIvL68HDx6YdmFdn9CxhMzE83xRUVHfvn3t7e2trKykUqkd+eTn5/ft29fJyelhVLGlpaWDg4OdnV0t/QOUnsimFGJ8fLyDg4Otre1DlWZtbW1nZ7d27VqtVhsREdG0aVNbW9u+ffvSPQx1xYtSGMFhUxmGuX///siRIx0dHWUy2QcffEA9qFi+rlBqWZ528Y0bN0aMGOHl5SWTyQIDAyMiIhpk6FLBisgiD+/atcvCwmL27NkNFamBWNDpBcKidE5KSgoODraxsfH09Jw4cWJ+fn5DqTTh0KBAFQrF/PnzmzRpYm1tHRAQsGzZMpwzNQg9hdoaK6Q9qFQqhw0bhmtpQsauB7JYJ1ZC+ZPjuA0bNnTs2LFRo0YymSwkJOT69eu0ZC35rYZi1L5EqmJv/uc//7GwsKC7GKVS6YYNG2jP1gM10waY6io0RFCmWVtbu7m5JSUlUaAN0o+InbjVGlQa/SBlKX3RRMX5OP2JDjN8q/b+FixP68HuFIKg3k7kKnSOYXl815R16vTECE1apxFGwnZSzYcXlDI1w6WAhBc05ISuX1LUKKaUODXXb/ZXYbPxGothB9ExhmQ3W8PjPzRqA1aIvdkgkoK2UIgg7RTkJeFPtHy9L4Q9gjUjlworbEAEKS60fiP9jbyKvwqvafl6X9AOop1I3YxYJ3IpnfHUA5CQdAgO8aVucLoIYkqHeoDDV6hWo3KMcgiFIixTb0BGLwrpSSWMWerRZhjVUI9bcZZWD6KJr4gU+JdSgNrU9AJtf6rq/qV0EdGuBQWQZ1C30W+q6qj+q0VNNRURVVpN1BF/EykgUsCIAjhxQb+ZUB41lEgyAifePk0UwDV16u+hllADMo+o0p4mhhFxESnwBClABRDm6ly4cCGNYniivtwniJJY9V9FAWr9sCy7c+fODRs20MAf/KmhGiKqtIaipFiPSIGnnAKo0nB+5u/v7+HhUVBQgPKIfj/lJBDRqy8FhMzThHzQHhJ6sOtbd5X3RJVWhRzijUgBkQLVUYAGIq5du9bOzs7S0pJudqahN9W9Kz7/l1OARnguWLDAxsbGyspq2rRpaAk1LPOIKu1fzmki+iIF6kABjuOKior69+8vkUgsLS2tra1TU1PRAG/AoLU6NEgs+s+hwMPsellZWW3atJFKpRYWFm5ubjQlUwMyj6jS/jkcIbZUpMD/KwVQdR05csTa2trHx8fR0dHOzm706NFogGMWnv/XBorA/74UQOZZs2aNjY2Nh4eHq6urra3tvHnzGpx5RJX292UCsWUiBf5uFGAY5vDhw1u2bCkqKvr++++Tk5Pj4uIqKipoDNvfrcFie/4+FNDpdH/88QfmK9mxY8epU6c2btyIKq0Bw4tElfb36XGxJSIF/tYUQEMbA9VKSkq+++47YRrfho1b+1sTQmxc3SkgZJ7Dhw9v3bpVq9UiL4lraY8mZz0Ol3l0pWIJkQL/bgqgVMIgkYen0c6ePZs+oXFr/24KidhXSwEhqyQlJe3YsUP4pAHtIXGWVm0fiD+IFBApIKQAyiDcal1cXPz999/jE9RnNIWg8BXxWqQAUkDIPIcPH6YqrcGZR1RpIsuJFBApUCsKCM3qoqIinKXV6k2xkEgBAQVQpQkeNOSlqNIakppiXSIFnmIKUO8iHkCKs7SnGF8RtSdEAVGl1Zmw4lpanUkmviBS4FEUwIz4eMBeSUnJ7NmzH/WG+LtIATMUEFWaGaLU/EhUaTXTR/xVpED9KEATiKBKa8Bss/Vrj/jWP5ECokqrc6+JKq3OJBNfEClQCwrQeJD8/PwGPMa6FpDFIk8PBUSVVue+FFVanUkmviBS4FEUoEFrHMeJjsdHUUv8vVoKiCqtWtJU94Oo0qqjjPhcpEC9KUCnaKJKqzcNxRd5nhdVWp3ZQFRpdSaZ+IJIgUdRQKjSCgsLxYjHRxFM/N08BUSVZp4uNTwVVVoNxBF/EilQPwpQlcYwjOh4rB8NxbfEWVp9eEBUafWhmviOSIFaUADPARFVWi1IJRYxTwFxlmaeLjU8FVVaDcQRfxIpUD8K0FkarqUtXrxYDOKvHyX/5W+JKq1uDMAwzBdffCGeHF83qomlRQo8igIcx9Gk6SUlJT/88MOj3vjH/I7ammInPJESf2ooTOjxYDRRLzULMC093tKW8DyPZMcL02bQpjIMY/prLZ9Q9KuDYlqPsLW0DabFjDJ/YgKaa9euJScn8zxP0aREMK2hTk+wwtDQUARUp3cbpLCkQWoxrWTIkCFyuRypqdPpTAuIT0QKiBSoKwWEs7SnL8cjymgUGlTEozrBtCl1JZdpeWpn4wUmgOY4TqfT4TUCMmoDFq5ORmNTaZl66AajGkybbfoEG0OxwAujYhQXxI4yDxbW6XRarRbrod9GNdTjFoFS2+tx1Hw9oPM8/0RUGsMwEydOzMzMpIjVr3HiWyIFRAoIKYCiFr+fsohHKtapbuB5Xih2a5iICElU8zVKJHroJc/zVO4L5ytUpWEbaNvMajWqKuot7rAGzHMmRL8GXKgSoirEtDBVXSzL6nQ6WjNiyrKsVqvFhzhdM62hHk+ELGqWXPWos06vPBGVxnFcTExMamoqWgH1MFvqhINYWKTAv4QCVPZxHFdcXPzDDz88TYMLNY2ROhEK4gbpZSpncXKG9eM31Wqo6qhnj7aBvitsiVClcRyn1WqFv9bmWtittLaaX6TFkAGwhUavUG0nLEyREj5Ec6FBeMmIqkZN+gtun5RKu3z5clRUFOXRvwATEYRIgaeeAihSUegXFRVFREQ0iBj6O9ANUVOpVMuWLZtAPlOnTj1w4ADOJBDlBmkn1VsFBQVLly6dPHnyokWLMjIyGIa5du1afn4+JXJZWVlERERmZia+Ql80agZOzuRy+YQJE9LS0urXIziR7Q8xUwAAIABJREFUCg0NzcvLM6ufjIBmZWXNnj17+vTp6enpdAZmVAZbgs3W6XSpqan//e9/Dx069FDpzp49e8KECZcuXcJfawPRqPLqblGP/j9OZp6ISkNsJ02atG3btgZxF1RHPvG5SIF/FQXoDAYjHmfNmlU/Afr3JBrLsnK5vGfPnm+99dbixYvHjh3r6emZnp6O84kGaTOV8gzDjB8//plnnomNjX3hhRdee+01lUrVuXPnhIQEXPtnWVapVCYlJRUWFtLpjllphs3LycmRSqX79u2rXztRL+7du7esrKw287yUlJRmzZqdO3fu4ZIqRpSYcgKdUzIMk52d/dxzz1lbW6MZdOTIkY4dO27fvp3StjZAa4kanfOZJVctK6l3sSei0pCUD/X/rFmzIiIizp8/f/PmzaKiotrbAkhonORR4wgf0lFdb5zFF0UK/EMpgEMAv0tKSp6m7CEoNBQKxauvvjpnzpyysrKsrCx/f//Lly8nJSW9+eabAwcOXLRo0YoVK/r27VtYWJiYmNi3b9+CgoJhw4a9++67I0aMyMvLmzx5cp8+ffr27bt58+bevXsPGDBg1KhRFRUVW7duDQ4OfuONN1auXIkCRK1Wf/TRR++8886lS5fS09PRq2RhYdG/f/9z5875+/u//fbb69atCw4OPn78+Lhx44YNGzZ8+PDnn3/+1q1bu3bt8vf3HzlyZKtWraZPn44V5uTkSCSSYcOGde3a9eOPP965c2fjxo1v3LiRmZnZqVOn+/fvo150dHRMTEzkOC4oKOjGjRu//fbbgAED+vfv/9133+l0utatW9+8efN///vfwIEDP/zww65duz548OD48eOdOnUaPnx4u3bt5s+fj569lJQUPz8/hmFKS0vd3Nx+//13lK46na5bt24bN25EeiKr8DxfVlZ27do1Hx+f8PBwtId69uz5+++/40CgxR5/XCA1sDGopx+/zjrV8ERUGo0N1Wq1N2/ejIyMHD9+/IABA0aMGNGhdp+Ogk+HDh3wbtu2bWiJmNojdcJZLCxS4B9NARRApaWlCQkJT81YQKQUCkWvXr28vLyee+65wMDAESNGlJSU9OvXLzw8PCcnp1evXtnZ2e3atUtNTR0zZkxERMSPP/44ePDggoKCkSNH7tmzZ/r06SEhIQUFBVFRUZ06ddqzZ8+lS5eKi4v79u27adOmY8eO+fr6lpWVoZV89uzZXr16+fr6duzYcc2aNWVlZdbW1jt27EhLS2vevPn58+ezsrKCg4OPHTs2bty4kJCQ7OzsLl26LFq0aNiwYZ988kl2dnbLli2nTZuGLc/Pz5dIJKtWrcrIyPD19T169Gj79u1/++232bNnjx07Vq1WoypycHBAlRYYGJienv7ZZ58NHz78zJkzt27d0mg0zz777K1bt2bMmDFq1Kji4uIBAwbs2LFjIvncu3evR48eNDg+JSXF19dXo9EwDHP9+vXS0lKqP27evFlcXIytun///oIFC+Li4pBPmjRpEhkZyTAMmg5PTqXRWMq/fqL2pFQamiS4ykqjhjQaTS3nWNgfaGjQWb9GoxE+/0dLJbHxIgXqQQGh6Y0+jHpU8vd8BYe2QqHo0aPH119/vWPHDk9Pz9WrV7Ms26lTp9atW79CPqWlpUOGDNmwYUPr1q2PHz8+ffp0Hx8f/Gnr1q3TyIdl2Xv37n300UcdOnTo3LnztWvXXn755Q4dOvTo0aNr164ZGRkoUjIzMysqKnJzc6dMmdKmTZu0tDQbG5uEhIRbt2698MILOTk5+fn53bp1O3HixLhx46ZNm6bVanv06DFlyhScL+p0ug4dOsyYMQNnJNnZ2RKJJCEhgWVZPz+/Q4cORUZGTpo0qWnTphs3bqRBGQ4ODrt379bpdEFBQdevX09LS3v33Xfbt2///vvvq1QqnLrNIB+NRhMSEhIfH//xxx9HRUVVVFS8++678+bNw8DIixcvNmvWDMUpillsBn6jzmYY5tKlSz179vz444+Rc3x9fZcsWcLzfHFxcY8ePZ6ESkO2xN6kWuCvZLknotKQoIgP9avSh0j0mpEUqi58EW0c4fOaaxB/FSnwVFKACgs6Ip4ONFEs4CwN3Wvh4eHBwcH5+fnjx4//+OOPjx07Nnv2bLVaHRMT07Zt2+eee04ulx85cqRr165JSUnfffddWlra9OnTUcf8+uuvsbGx+/fvb9my5R9//PHhhx+OHj168+bN33zzDVrGFRUVn3766ahRo7Zt2zZx4sT27dvfu3fPyspqyZIl165d69SpU3Z2dkFBQXBwMKq0qVOnqtXq7t27z549e8yYMcHBwdu3b/fx8Zk5cya2HFXaxIkT165d27p16ytXrmRkZDx0FVpbW2dnZ9Nea9Gixdy5c1evXt20adP09PT58+fv2LEjMTGxY8eOCoUiKCjoYbjHjBkzpk+frlKpRowYER8fHxoa2qdPnz179rRq1Wrx4sWoxi5evNi0aVOWZSsqKiZPnpyamorN4Dhu8eLF586dQ4g4W9JqtSqV6uTJk+7u7hMmTLhx44ZcLu/evfuTU2nYmL9+U9qT2pdGFQ9e0IAcOggf6S2h/cGy7P379zMyMh5G+OAqKLV3no6RLGIhUqBOFMChQeXXI4dSnSr//y3McZxcLh82bNiPP/6IhmyPHj12796dlZU1cuTI9u3br1mzpqKi4sKFCy+++OL333/P87xGo5kzZ07btm0fOufkcnl4eHhYWBjP81euXHnzzTfbtm2LjsEbN27069cvODgYnX5Y+ZUrVwYNGvTcc8+98cYbJ0+eZFn2YUBgjx49rl69+uabb+bl5RUVFb377rsP1QPGBOh0uqFDh0ZHR6elpQUHB4eEhLRq1erhhAolUm5ubosWLSZMmNCuXbvY2FidTqdQKPr16xcSEkIDv1mWTUhI6NSpU3R09JtvvpmRkXHs2LEuXbp06tQpNjZWo9H06tUrIyMDsdBqtV9//fWmTZsyMjIGDBgwcODAbt26LVmyBLeEp6SktGzZUq1Wl5eXN2/ePDExEZ1hPM/37t1727ZtRrOl+/fvNzd8xo4d+0QdjxzH5eXlZWRk4Nbkv5ipnsgsDSfC1EmCKAkH4SPHIR23PM+3adMmICBgypQpWGEtXZd/MR1FcP9ECiCbcRyXn58fFRU1ZcqUsLCw+/fvFxcXT5069c6dOzNnzjx+/DiyK+XnefPmHTx4UBhmRtkVZSX9iWXZzMzMhzJ369attBK6rZWOAtoMCoLWsH379n379mEBfIjjiFrBdK2CtoGuZJeUlCQnJz98PmvWrGPHjp0/fz46Ojo7OxtRQ+jnz59fvHhxeXk5bQNCMRrCCO7PP/9cvXo1LSmESFuuUqkiIiJOnTpFRz11i9Ga8UVThqEEwZ/oLQWET+gt1kwL019pzfgEG09JSothPabf9HV8kYKjJRMSEr7++utz5841a9Zs/fr1tBl0UoK7044cOdKlS5eUlBR8UdgAWhU2Rqh+hOCwAWfOnJk1a9b58+dfeOGFQ4cO4cOLFy/6+vreu3evoqKCEh9bTvE1pQwtmZaW1rVr1x07dtCW0MZT9GtzQVtLCyP08PDwPn36NG7cmPInLfCkL56USnvMdlNKsSzbokWLsWPHCtfh6ELoY0IRX//XUkA4khmG+e9//9u2bduoqKhnn3128ODBd+7ckclkp0+f3rJly9WrV5Hf0BhnGGbbtm2XL1+m3gIcw9Q9jrf013Xr1g0YMADlDuVbKlVxwOMr+Cs2jL4+adKkRYsW4UMqE9HtIXR+UOi0EpZl4+LiQkJCWJbdtGnT9evXf/rpp969e1+4cEEmkz2UktiGDRs2PP/884WFhZQgCJouYONzbOGNGzcOHTpE20Z/orEADMNoNJrExMT09HQj1DiOwyFMW/gP5T2O49LT019++WUfH59x48apVCpTqc0wTEFBgZub2+TJk7Gb6oos5RCGYe7cudOnTx9vb+/Jkyej8aHValGlNW/e/OjRozTIoGYo2F+4RcHf39/KyiohIQE5B3Vqza+b/ZWyDe1W5BylUnn48GGMyTT74pN7+LdWaUjuoKCgMWPGsCx7+/btgIAA4V6KJ0cXseanmwI4FJHBysrKPvroo/fff//KlSvp6elpaWmZmZko9xs3brx8+fKcnJzBgwe//vrrr7322vXr19u0abNw4cJffvnF39//yy+/DAwM/OmnnxQKxRtvvNGvX7///Oc/77zzDprDKpWqbdu2vr6+06dPf/HFF7/66qvQ0NDffvutR48evXr1evvtt+/cuRMREREcHDxy5MigoKCpU6e+9NJLGBeOMmLSpElvv/32W2+99cILLzx48ODEiRN9+/Z96623Zs2apVQqX3/99TFjxsyYMeOXX37p3r17nz59MHyAYZhbt2517NjR29t7z549vr6+MTExmzZt6t69+8NodSOV1qRJk08++aRNmzbr168vLS39+OOPBw4cOGTIkKysLHSLDR8+vFu3bnFxcWvWrBk0aJBcLg8KCpo0aVLXrl3nz5+fn58fHBw8c+bM3r17v/7667m5uV27do2Li/vyyy9feeWVTz75JCAg4OjRoxkZGT179uzXr9+oUaOGDBmiVCr/0QyGOqC6DcV0MkSnX3VFlvqiaEQCfULrpOqEzstrhoKtovXgMhA1p+gcuuZKTH+lzeA47vjx4xKJBEX0sWPHmjZtirrZ9K0n9+Tvq9KQ1gzDBAUFYV5/tVp97tw5uVyORHxyRBFrfuopQAc2iozz58/37NmzWbNmzz///JYtW+7cuePu7n769GkfH59ly5bNmzevS5cuOTk569evv3r1akBAQFhY2ObNm9u0aXPlypWwsLDhw4dv3LgxODg4IyNj/vz577zzDipLlmWjo6NDQkKysrK6deu2aNGinJycoKCg+fPnFxYWdunSJZZ8+vbti7HpsbGxZ86cefHFF7F5LMtOmjTpo48+ysjI6NOnz+bNmz/55JMFCxZcv369W7duubm5AwcODA0NzcrK6t69+7x58y5fvuzs7Hz9+nXMuPHZZ5+9++67Wq3Wx8cnJiZm48aN3bt3v3TpkpFKa9my5cWLF2NjY995553169f36NEjOzt79OjRmzZtGjp06JdffllQUNCzZ8+VK1euXbt2yJAhJSUlzZo1y8jIWLNmTadOnXJzc19++eWVK1eePHnSzc3t2LFjL774Ylxc3Lhx44KCggoKCrp27fq///1v0aJFTZs2zczMHD9+/ODBg/+5Ko2qK5yc4ZzVaLzQOS6yQT3EulBPUK3DsiydkNFpHM3faNQG01usUzilRj5BZYZQTN965BNh8+Ry+cNtfAUFBRzHHTt2zMfHpx64PxJizQX+vioNfbsP3SZBQUGff/45tVZol9SMmPirSIHqKCCUSrjskZmZqVQq79+/P2nSpI4dO546dQrlvpeXV0xMzBdffNG7d2/0JpWWlrZq1WrRokWbN29Gl92vv/46aNCgyMjIfv36lZaWbtmyhc7SdDpdfHz8yJEj8/PzX3755WPHjj148MDb2/uXX35hWfbNN9/EPUPvv/++Uqns1avXzp0779y507lzZ2pQf/PNN6GhoeXl5R988MHq1asHDRoUFBTUo0ePbt26Xbp0acCAAbt3787JyXn++ecDAwNfeeWVXr16paam4uufffYZtgTnmuvWrevevXtqaqqRSuvQoUN+fn5iYuJrr702d+5cDw8PrH/jxo29e/fG3dyjRo1atWrV+vXr33vvPblc3rZtW4VCsWPHjrZt2+Is7dSpU9evX/fy8kpMTOzateuqVasmTJjQo0cPjuP69+8/bty4qVOnBgYG6nS6mJgYxLe63vmbP6fKhuotU6ktLGPqlqwNgsiW1JuHHUoVJN5SFzEFV3PNlKmESohiYVY311wh9YRjhUIzkef5EydOiLO0SgJiJ2EXtmrVClWaVqtVq9W0XytLi1ciBepCASF36XQ6uVz+n//859NPP92+ffsXX3wRHBz8559/otz39PRcvnz5xo0bAwMD9+3b99ZbbyUmJgYGBi5cuBBVWkFBwa+//jpkyJAjR44EBAQ83Ns7aNCgd955BwUZx3FxcXGjRo3CHU7Hjx/XaDS9e/ceMWLEnj17mjVr9jAQPC4ubujQoSqV6tVXX0WV9sILL1AR9s033yxYsKCsrGzEiBGrVq2aO3fu+++/v3fv3ilTppSXl/fv3z8xMVGr1Q4bNmzw4MFbt2796quvMIETx3FffPHFSy+99ODBA8QCZ2CmszRPT88tW7YMHz78888/P3fu3LPPPpuYmDhnzpwLFy58++23D92tx48fb9WqVVxc3Nq1a997772SkpLnnntOoVDs2rWrdevWQpXm7e29e/dudDyOHz++T58+LMu+/fbbY8eOXbdunaur67Zt24KDg//RjkdkHqoV8NaI+2gZKuWNCjzy1sgrSOdkwoVM6oGkaqnmapGpaFWoL2tGpOYK8VfEERvDMIxSqcRGHj9+vEmTJqb6vjZ1Pk6Zv+8sjdoguJbGMExmZmbz5s137NiBWu1x0BbfFSkgpEBqamrv3r39/PxeeumlU6dOZWdnY/6IgICA+Ph4juOmTp3q5+c3duzYsrKyzp07R0VFbdu2rUePHoWFhdu2bfvoo480Gs3o0aPbtGkzdepUnBuhXPv5558///zzwsLCPn36nD59mmGY/Pz8fv36tWrVKjQ0VKvVxsfHf/LJJyqV6q233tq9e/fdu3dxcoOvT5s2LSwsDDdRrVu3Lisra9CgQf7+/pGRkUqlcujQofv37+c47sGDBw8TZAQFBcXHx1MhtXfv3mbNmq1Zs6Z169YrVqz47bff+vfvf/XqVX9//wsXLmD969ev79SpU//+/Tt16oSbmRYuXNisWTOcWebn5/fs2bNbt24DBw6Mj4//5ZdfPvzwQ4VC0a1bt7Kysj179nTp0qWwsLBv375nz55NT08PDAzcv39/7969f/7556lTpz5c8+M4btiwYZMmTXqYSGjEiBHt27efOnXq0KFDy8vLhfQXr/+hFBDuy2IY5sSJExKJBLcQoEr76/H6+6o0JBbDMIGBgZ9//jn3f+x9C1Rc1bn/v2vd29V7W1+13pvYauNztDomTqjOJIbRGCxKl5RxCdxaRltIH4OtgEq5KqMRR0VYRWlRqV6KtAiWOjZktJQYKijSESktKDJVEJVBZYiR0SbHPDj/7L3P3mef5wyPBAa+rCxmn7P3/vb3/fbjtx/fOWdmZvfu3Q8++ODQ0NDc1vJHH1woMVEQIHNJQgb8dgqjBzLDZf7oqmn4oUOHPv3007KysoGBgaKioptvvplNXVlGNkfm85KbZIrGZvRs0s1KZwHt5J3lJboRgSQ9mzgTyUQs2+RgxfG7WyyW5P3rX//64IMPhkKhw1uanZ2drCyWhRzkqEwjydjXNcnl6OhoSUlJMBj8n//5n5/+9KfwWeBE6RrmerLGTJrE2NjYnXfeSZyEX3zxxa9+9atzezbAvFDz2KVLaaRbHjp06Nxzz01OTiYbLOzm0V/PmuMIsQmNANsnZC9vY32VPzxnR/E8x5CUBw8evOmmm0466aRLL700FAqxUZ4xB5+FkRY57WffU2aiCD8dwP/4jIQe2HEyU5JQHduVUtEJI2kWYDKJQLYHxe6T7yB/+OGHqampJ5988s9+9jPiPs7oihRNPNRJLlYoiWK2ECj27dv3ox/96L/+678cDsdbb70F/Teh+wtTnjUYURSJswlpnIc/YXPbbbfBxiMDSmQjwszMzK233vr973+/tLSUjQ7s2UY5A4QAgfkhQJocO58gozwb8dlCh7VMMv1kZEDukx7OGIt0cpaFF8LGfZ4kSJglY+OFSitWFp+AcQwJkCiSkT0QRhQjUTy9sU1+tv+h0pmYyd9kO07843FEc2YFbyNbzzG3r/lVF+ReKgjwzZW0n4MHD1ZXV99www0/+9nPjv7cZemu0lgvUvUQ9jWjpVKloEfiI8AGXzYoqzoqIwPSGgkfMKZRJSZDP1no8JJZSyY9n8lkjEISk2RMOLlkcngKYZuNWrJhbMcWoOwObwLrZcxwtthiJMRKJBNwoglPmfxajUHBJyPqMUOI4YnfasAChABrmSTANhhY0zrKMC11SmOtn+8hrHOSKQA/EeDxJVBqEzPoWX2QgOqSieVl8jeJfFUsU0l7n5VrlIYpwOdlN1nAKDuTzxQjWdilKiMvkESpUpLLFfKXoccC7M1VDEa2s8cqiJETuUN4iD8/IPdJI2RyWBEswJMTz09EPvs8I2vMrO5YlbE7pCr5lLxwlowFiA6kUNVNvupZC2GMSNiLpSFDGNOHmUxgJJeMX5k0ln0pB/hqIpoz0EwCBEwGCJ+SRfE3GSYEJZOM2lz8HSPhLI22lkkUK5EFTLLwQvh5DGls7Olvvi8QsUf679KlNAIT696kw+jeZI2MdDa+87CZMuvh7MVaLDGbI5PxiGVnDYvNLlkFsypkYvk7ZNLK5LNcfIBlJDdJdjZB5m+SpkOond1nonhtCVa8ZNK8iCH8fR5VXqZq7DvSjQ/kAwJLHwHWWfg+yNbQfPdRdUa+P7IOzm4yaaqOyYYslpINCySldjjiV8/82oiEVaoyc5jmRDc2wLL7pCDyl1+Is3mbrqhFr9ClS2k8sqzWGfoETb52tUM/ucOaCKtatpHCmiApS1VDpI4Z4bH2wRLzAX7Ownw1SVMjh/xEOJHGJvvMHGYIaejMXtaeSFlMGebFQIwiudjpDuF4Zi8L8PYSyeTO/v37+UvW/Ra9dYICgMCiI8B3c9KLWfdknZp1f9aR2bPSrNPxwxE/DrAEKrGkXPJ1NPKXZ0E2rJEJKxsHmDSmEpHDtpH3799PSieqiqLIPk9qZCmTyQ5Qef5jjEuGu0WvryVNaZ9++undd9995513PvDAAx0dHaQBscGX1GJjY2NNTQ1rWyRA6oatOZ577rnOzs79+/f/85//JCf2hw4dGh0d3bZt25133nn33Xc/+eST7MWypLaIHJ5gJicnH3/88X379hEF+DbE2uKBAwf8fv8LL7zAWIQ1cZaetVRtQxEE4eGHH66vrydp9u7du2PHjm3btv3iF78YGBjgzWdK8mJZ42YpCTmpdn5IZyOlM/VIY2XdgMQueusEBQCBRUfg0KFDL7zwwp133nnXXXf98pe/JB7q/GT00KFDu3fvrqmpeeKJJ0jPZdzDd/bp6emHH374vffem5ycfPPNN9n0tKWl5U7671e/+hV74R8rgnTGaDT62GOPvfPOO6zLsy5MJrg7duz4xS9+8e6775JC33zzzV/+8pc+n+/3v/99NBpVSeMvSZhIYzJJQDWSsEu2/cPnJRYten0taUr76KOPjj/++OLi4sOfKfryl7/86KOPEqBZa9i9e/eJJ574pz/9ibHXwYMHyWSBVcnMzExhYeE999wTDoczMzP37t17+MlZQRA6OztXr1794IMP3n777ccdd1xNTQ1PYKRZ8H/37Nnz3HPPkdeXkLMNwg1szUdopquri31OghEbYyBCqGRew6xgpbz55psXXXTRO++8Q9L39PScccYZv/rVr3Jycr7yla9Eo9HPPvuMNSbWgFh20uDIfUJRBATyl3nfsQRMFMlI/rIsbN910dsoKAAILC4C99xzz1e/+tXbbrstKSnp9NNPf/XVV1mPJr3vT3/6U3Jy8ieffELmiOxNjGTjhHS9cDi8du3avr6+hx566Mc//jGJOnTo0LXXXnvGGWfcdddd99xzT01NzSeffEJ6IttOJF0yEolccsklzz//PFv/sY5/+F2g0Wj0tNNOe/jhh0nRn3766cknn3zttdc+9NBD//3f//373/+en7yy/s4kMJpkhzisdJaYH83IGpGk4VMe/ZMzbcNYopRGRts9e/acccYZ4+Pj+/fvv+WWW84555wPPvjglltuSUlJIW/MKygo+Pd//3eXyzU8PHz55ZdfdtllOTk509PTX/ziF5977jnyyuPDn3AtKCgoLy93uVzHH3/8jTfeSJrIX/7yl7POOutf//rX7t27Tz31VJ/P969//evGG2/81re+tWnTptdff508YZqRkZGWlvbzn//8jTfe2LBhw549e77+9a97PJ5NmzZ5PB5RFF0u14033piRkbFp06aPPvooJyenrKzsd7/73fr16/Pz888555xAIPDhhx+mpaVt2rTp+9///tq1a8fHx0ljam5uTk5OvvTSS7Ozs0dHR5OTk0888USPx0Nin3nmGbvd/te//vWtt97q7e395JNPHnnkkY0bN27ZsuWpp56ampq65pprLrroou9973urVq3atWvXF7/4xY6OjsPvk12zZs3rr79eXV2dkpKyadOmP/zhD2+88cZXvvKVH/7whxdeeGFZWdnh9u31elNSUrZs2fLcc88dnjZed911V1999Xe/+90PP/yQ5zxti4E7gMCKQuDAgQP33HPP+vXryd7dhg0b7rvvvg8++OB73/vet7/97euuu+7tt992OBwnnXTSLbfc8uijj27evPnSSy/97W9/OzIyctFFF+3bt+/Xv/71RRdd9O67765du/bZZ58977zzTjvttKamJjK1zc7Odjqd0Wj0k08+IRPuVatWHf6K9+bNm/Py8vbt2/fUU0/ZbDa3271mzZquri4yOLz77rvXXnvt5s2bnU7n888//+STT37hC19wOp2vvfbawYMH33///X/7t38rLy9/6623hoaGxvG/a6655uqrr87Ly5uamtqxY8fatWsPf9TbarVu3769pKTkrrvu2rt3b3p6+r333vvqq69ecskl3/72t2+66aZoNJqenn799de7XK7169e//fbbzz777MaNGy+//PLc3Nzdu3f7fD4n/tfa2so8XBaxhSx1SluzZk04HJ6ZmdmxY8eaNWsef/zxz33uc3/9618feuiha6655q233jqZ4b8mAAAgAElEQVTuuOM6OjreeOONnp6esbGxr33tawMDA1/84hfJ0o18+Jy8+/Vvf/vb+vXrP/roIzJh+ctf/vKf//mf5513HvnE6PDw8LPPPrtmzZrDbycpLS294447fv7zn1922WXvv//+4bVdcXHxP//5T4fD8dFHH61evfrPf/7za6+9dt5554mieO21127btu2tt96yWq3t7e3XX399WVlZU1PTaaedFolErr/++vT09O3bt3/+859/880377rrrgsvvJB8uH3Pnj2rVq168MEHp6amLrzwwqampmAw6HA4SOz+/fsjkUheXt6qVavOOeec22+//e233z7nnHOeeeaZZ5999vjjj3/mmWeOOeaYN95445e//CWjNPIVjzVr1uzcufPYY4/9wx/+8PLLL6ekpPzjH/844YQT2trauru7N27cODw8bLFYent7X3nllV27dj3yyCOpqamRSOSGG24gn/0l+wmL2C6haEBgiSAwMzNz991322w2sl6588478/LyHn744SuvvHJqaur6668PBALPPPPM5s2b9+3b193dPTIy8vjjj6elpY2OjtpsNlEUH3nkEYfD8d57711wwQWvvPLKj370I7fbzVZymZmZxxxzzDfwP/IBthNPPLG+vn5kZOS8886LRqNXXHHF7373u1AodO6555IP0s7MzDz++OMpKSm7d+++9957Tz755EgkcvLJJ//f//0fmY8eOHDgySeftFqta9as+da3vjU8PHz//ffn5OR8/PHH1157bXd391VXXVVdXf3+++8nJSVt3779Nvxv3759GRkZd999d2Fh4Q9+8IP33nvvwgsvbG9vz8jIyMvLe++9904++eRHH3300ksvJV+Rfeihhzo6Ok466aSOjo4nn3zynHPO2bdv36LX2hKlNNJ69uzZc/rpp4fD4UOHDj3yyCNnn332Y4899v/+3/8755xzLrzwwpycnJGRkeOPP/6ll17y+/3nn3/+4e+dr1q16tVXX/3Sl7703HPPHThw4MwzzySrtPvuu++111676KKLpqenifDOzk4y6+no6Ljiiiu+973vPfzww1/4whfWrl17wQUX3Hnnnd/97nczMjIOv+volltu+d///d/BwcENGzbs3r377LPP7uvre/fddy+44IKDBw9ee+21TU1NU1NTDofj6aefdrvd5HAuOTn5wIEDRUVFmzdvrq+v/8IXvnDgwIHm5uZ169a9//77MzMz77zzzrHHHvvHP/6RvK384Ycf7u/v37Rp0+7du0m73L179549ez777LPa2tovfelLhzfrTzvttLPOOmvdunXnnnvur3/962OPPfbgwYOBQGDVqlUvvvjiMcccs2vXrpGRkTVr1vj9/s997nNnn332unXrMjMzX3nllVWrVvX397/33ntJSUnPP/+8xWJ5++23BUH4+OOPb7vtthNPPHHdunWHCb65uZltNSx66wQFAIFFR+DAgQP33nvvxRdfTBZV3/3ud2+99dbbbrvt+OOPT0pKOu+8837/+9/v2LHjiiuuOHToUHFxsc1mO+200zZv3vz222+TN1A/+uijSUlJZOPx1Vdf9Xg85GtZZOKYlZW1du3a559/vrOz8x//+Mf+/fvJ+6+j0Sj54sH69et37dr14YcffvOb33zxxRfJYvH+++//wQ9+cOjQofr6+s997nMffvjhKaec0tjYSFy99u7dOzY2tm/fvr///e8pKSk/+9nPbr755pNOOmndunUXXHCB3++/5JJL/H7/vn37rrzyyu3btxOL9u7d+53vfOeee+75/ve/f9JJJ61fv/78889/6qmnMjIyysvLBUE49dRT77777rVr1xLujEQiXV1dxx9//De+8Y21a9deeumlk5OTi15fS5TS2Mbj6tWrn3jiiccee+yss86644473njjjc9//vM1+F9DQ0M4HD7hhBNeeumldevW5eXl1dXVrV69eteuXaeccsr999//xBNPnHLKKcPDw+QsLRQKnXHGGQMDA2Tj8YUXXvja177W1dXV3t5+zTXXpKWlBYPBw0ui5ubmioqKtra2qqqqtWvX7ty5c/369SUlJa+//rrD4dizZ8+ZZ57597//PRwOf+Mb3xBFMTMz86mnnopEIna7vaWl5frrr7/77rsbGxsvvvjimZmZm2+++bLLLtu1a9d//Md/NDc3Z2dnr1u3bmJi4tChQ4IgXHjhhfn5+R0dHaeffnpbW9vAwMCmTZvIm9QPHTpEPiayY8eOhx9++JhjjtmxYwf59FRTU9Ptt9/+0ksvnXDCCQ0NDfn5+atWrfrb3/527LHH3o//ff3rX+/r6zvttNPuvvvu3/3ud4888kgoFDr55JP//ve/v//+++vXr//ggw/OPPPMJ598sqKioqqqitjY0dFx3333vfHGG+xwe9FbJygACCw6AgcPHrznnnssFksgELjrrru+9rWvdXR0tLe3k6nh/fff/89//jMQCFxxxRUHDx48/fTT//znP3s8nosvvviNN944/fTT//GPfxze/CBn5GvXrn3llVduvPHGzZs3T0xMkO2i7OzstWvXPvfcc88+++yuXbs+/fTTU0455U9/+tPHH39MvniQnZ196623tra2rl69+sUXXyTMun379gsuuODll1++4YYbtmzZ8vHHH59yyilPPPEEmQ0PDQ2dddZZDzzwQCAQyMjIuPnmm1tbWy+99NKXX37Z5/O9/fbbN9xww49//OPu7u41a9a0trZWVlZeccUVL7/88vnnn3///fffe++9GzZs2LVrl9frDYVCLpfrvvvuI5T24IMPZmRkuFyu7du32+32l1566dRTT62srKyvr3/ggQeWwqs7lyilkYXCxx9/fOKJJ375y18+9dRT77zzTrKJ3N7ebrVaL7744sHBwffff//wyrqnp6etre2ss8665557fvKTnxQVFT399NNr1qz51a9+5XQ633rrrdtuu+2hhx4ib0MnH76amZl56aWXTjrppOOOO+7EE0/ctGlTf3///v37f/vb35555pmXX375yMjIv/71r6uvvjopKSk3N/d///d/h4aGrrzyyo8++igpKelvf/vbxMTEhg0bZmZmrr/++h07dkQikcsvv3zHjh0//vGPH3jggaeffvrKK68ks7Zvf/vbn3322U033WSxWAoKCtauXUu2FmdmZiKRSEpKyllnnVVZWbl///7XXnstLS1tz549xNLdu3f/5Cc/OeWUU84///zf/OY3MzMzwWBww4YN55133uFXqO3fv7+4uNhisfzwhz88vPk+Njb261//+vTTT6+urrbZbK+99trAwMD69esvuOCCF154YXR09Oyzzx4YGHjnnXc2b94cjUZ37NhxzjnnHD7GGx4e3rt377Zt21avXp2Xl7d79+69e/eCb8iij6SgwBJBYGZmpqKi4vjjjz/hhBPWrl37hz/84cCBA4d9Irxe76mnnrp169bdu3fv2rWLfPe1uLj49NNPf/DBBzds2PDYY4/l5+efeuqph8mDfOX1kksueeWVV/x+/8knn/yLX/yCrNJuuOGGE0444bjjjvvyl798xhlnvPXWW+eff35HR0c0GrXb7dFo9JVXXvnGN75x1VVXHT6x+stf/kJm5Pv27du2bdthyszIyNi7d+/HH3987rnnPv3002ToOHjw4B//+MekpKRVq1Zdd911ExMTn3766U033fTVr371xhtv/OSTT15//XWbzXbZZZclJydv3759cHAwKSnJ6XR+5zvfKSsr++ijj7Kzs7/+9a/ffvvtgiBcd9111dXVn3322bp1637zm99MTExcfvnlZ555JvlIxQsvvGC1WteuXUs2RRe91pY0pZEqJ89kMBcjMkkhUWyLjHjjkFkP74LIFhwkJUlA8vIS+DukxczMzIRCoXvvvXdgYOCqq6565JFHWHoihDQdcpP5ApG8ZIlJEpByP/zww9tuu+2FF1746U9/+q1vfYscAmstYndILl4ae6yElEi87Um57e3tq1evfuedd/hHVYgo3oeTt5EpzAriY5kai946QQFAYNERIH2EdGri0cdGANJr2NNabGhiWYh7PemtrOeyEYZ1OjZWMEJifZBFsRGAlU5KIQmITCKQJWDyydKNKMNuko0i8kkj/iYvlpVObrJSWBEsMSliKUyFlyil8egz1Eg1k7bFmgXxsSFVwlcAu6+6yVLytaJKQ0oUBCErK2vVqlXXXnvtBx98wKdRkRZJzwSyp7vIHdIW77jjjtWrV3/zm98kLklMGjGEpSSieOv45/aZZPa+mZmZmba2tlWrVr377rssl0mAlMtUJcWR5shUYpeLPpqAAoDAoiNA+gVPS6r+znoTG1tYFtITWX8kGVlHU8lh91k3Z3dISiZHVZC2FJaepCQJeD2J5H379l199dXbt29nBTHiZGURUWS6zKiR3ORzMR0Wvb6WLqUtOjSgACAACAACgEBiIQCUllj1BdoCAoAAIAAIGCIAlGYIDUQAAoAAIAAIJBYCQGmJVV+gLSAACAACgIAhAkBphtBABCAACAACgEBiIQCUllj1BdoCAoAAIAAIGCIAlGYIDUQAAoAAIAAIJBYCQGmJVV+gLSAACAACgIAhAkBphtBABCAACAACgEBiIQCUllj1BdoCAoAAIAAIGCIAlGYIDUQAAoAAIAAIJBYCQGmJVV+gLSAACAACgIAhAkBphtBABCAACAACgEBiIQCUllj1BdoCAoAAIAAIGCIAlGYIDUQAAoAAIAAIJBYCQGmJVV+gLSAACAACgIAhAkBphtBABCAACAACgEBiIQCUllj1BdoCAoAAIAAIGCIAlGYIDUQAAoAAIAAIJBYCQGmJVV+gLSAACAACgIAhAkBphtBABCAACAACgEBiIQCUllj1BdoCAoAAIAAIGCIAlGYIDUQAAoAAIAAIJBYCQGmJVV+gLSAACAACgIAhAkBphtBABCAACAACgEBiIQCUllj1BdoCAoAAIAAIGCIAlGYIDUQAAoAAIAAIJBYCQGmJVV+gLSAACAACgIAhAkBphtBABCAACAACgEBiIQCUllj1BdoCAoAAIAAIGCIAlGYIDUQAAoAAIAAIJBYCQGmJVV+gLSAACAACgIAhAkBphtBABCAACAACgEBiIQCUllj1BdoCAoAAIAAIGCIAlGYIDUQAAoAAIAAIJBYCQGmJVV+gLSAACAACgIAhAkBphtBABCAACAACgEBiIQCUllj1BdoCAoAAIAAIGCIAlGYIDUQAAoAAIAAIJBYCQGmJVV+gLSAACAACgIAhAkBphtBABCAACAACgEBiIQCUllj1BdoCAoAAIAAIGCIAlGYIDUQAAoAAIAAIJBYCQGmJVV+gLSAACAACgIAhAkBphtBABCAACAACgEBiIQCUllj1BdoCAoAAIAAIGCIAlGYIDUQAAoAAIAAIJBYCQGmJVV+gLSAACAACgIAhAkBphtBABCAACAACgEBiIQCUllj1BdoCAoAAIAAIGCIAlGYIDUQAAoAAIAAIJBYCQGmJVV+gLSAACAACgIAhAkBphtBABCAACAACgEBiIQCUllj1BdoCAoAAIAAIGCIAlGYIDUQAAoAAIAAIJBYCQGmJVV+gLSAACAACgIAhAkBphtBABCAACAACgEBiIQCUllj1BdoCAoAAIAAIGCIAlGYIDUQAAoAAIAAIJBYCQGmJVV+gLSAACAACgIAhAkBphtBABCAACAACgEBiIQCUllj1BdoCAoAAIAAIGCIAlGYIDUQAAoAAIAAIJBYCQGmJVV+gLSAACAACgIAhAkBphtBABCAACAACgEBiIQCUllj1BdoCAoAAIAAIGCIAlGYIDUQAAoAAIAAIJBYCQGmJVV+gLSAACAACgIAhAkBphtBABCAACAACgEBiIQCUllj1BdoCAoAAIAAIGCIwZ0oTpqNRQVesEJ1WxBinFNVRQjQ6zf/XLwCXikrR+c/lQMIV/7k4jeLCdGSsv7cvODwxzSczKIWK5ZMyrTQ3aWHIOoNIdZS6XINsoijOA22qF5Iim6+oOy6JNihEx4f7gr2DIxGdPIJR8yBy1Gpz0oXodDgU7O0bCmvhUjUY1SUnRNO0FHHRqZGBvmBvaNxcST4PCkso9Y9OmdWjqtUZVzoSqIOcXKq6VdAYQdafbxiaBq/UhE/KbFE3eFoE/AICCYrAHCltqC7DYnNYqwc1Zk80uR0Wm9M3IMVMthVYbI7UikFlj0Kx/dVOi82R2zZFkk53lFltDovqf3KWpyLQH1GWE+0ssWtS4oyb60I46Vi9SyeBNaXA1zam1CQ61FqWrpSW5C6t750SxcFK5X21bjZHauOYrJkwWIkLzWzhbrLoSHuuzWFxVfUri0fxAzXI8Pz2SZJY37qU1KIq/4CEFZVKNMyoHZZuxI+2lCEa8vvykpSYW1MKapH5xv8ifbVbUxRo2NNyK9pHqGnTHaWoeXg7p/VlqNWWUkX6avPTlG3AuTG/IUhrnzQYWsXirI0Vo0Ot5ZnJyoZhT8ut65OQ19dWFMWpYF3BRkVjUChG8uk3YIRtQYCawJdAOpGiCfHRpMHYSndG5bvTw4GSbNRr5P/JeYWNSH8CjnyfT0PCruYRJMmkwcsFQQgQSFAE5khp/RW4U1VoKW3Qh/tPbqs0Jk62Ikqz2Jy5rRMqjIgQdUp7Wnq2m/yXBxG729fNDbKRAKIHW0oqTUmzFFcOkAFAUiPJJYlCCVLIWMBrIvRXZJFRIMnlKayo8RaxZAWByFSghMvuIoM4X6jH1y2PN9NtxdKAYi8P0sFdNlnS2WHND4zLd3FooAplzA9IA6uU0rmRWSdpjmBMr+jhxl/JTHkCETfaqOBwIJcO0wwoirmzkk5KVMrKuexp6UXllRWlOdlZhBTZFEeqdGaRWoRabbQCGm7IpMpYUwjslN7cfoKYqtXF37Rw+RP+fEoGyVlSg6HAMs3VmiLNQrVuKSNFSbLXYndXDsg1LenDNWCplKLmITmVXILKHDmChKRmUOCndCgMVKUSckrOyimpqvQVp2dLEOW2TU22ldJe4E6nNUIVRnjmVPRMi+YNXq0CXAMCCYfAUaM0h8WWxfd/tErDvKimNOU4KIT7KqUBJa9plMIr9faqfnpD86szaIqiMFSXh8jDXiNllORkeHm+FMXp4fb61pB6FCLEYzMqlCxP83K2ouHP0yZTnaSbVBaaCqRWK9es+pQmj2VIgjARrM4jKxhuFag2k47ysdEW6ZrS4ioLjPK2CuO9/srGHjXvUoj7K/D4nt/M1mSSei3NXWEp0awpTRj0peFJkqvMP8xBFw0FKkq9HdJkSMUBszBWFPqrydwlq0S5TBfCfU3VsubUSvYr9FegDQmLPa9Wmi3hqOigxHNp8rI7ltVMphRQmaOOVlPalD8fQbTZx89pRDEaCjQGNJSpbhiS8Fk1eLVCcA0IJAACR5PS1Ntu8VAaglAY9OENPauvTxp6pZ5pxC6iKBp06XAgB81zKVvEYCll/ZkmFnrLEd8UtU8ON2xGG4wNQ8rcIkdpFluWj5vdi/FQGgZCWlPKq0C1mdwoHwNtuqYs8FMeUulrcCkNrGwiopss1uBupDY3a9GTq+KA+I0Vo+0evL7RbhXolcPdo7WmY68mKpbVnFgcVJmjjpbk07Zq1KTV2ci1GmEplWkbZpKMzvBYAggAAksWgaNFaRUBsu3Db7vFS2miSAev8i7CaVJvnz2ljfrT0dBGzyfIIZaKYIzqymw4iAaK0K6gt1cQRek0EYc5WVRnf2sBIj87xyXxUprIeNHbTYBQj1wSULHRju4swauiEqPjLk5zRXAqgNcKfD0q4vFFrMFdpbYk01LUbnD2JpWg4oC4jRXJ2Z5c71qNDe6Q4zqLjTY8RTKhy4cxpIegsaxWZGa7FBad3XucUkNp5GRX91haLdqI/+Jo8NKJoL2MP8PTyIcbgMASReCoUdogW2yxfbP4KU1ax7DVldTb8wqrayr5/42ddDdMNWgi9IVIqImcpshDZ6hW8iJxbnSX+hoDXSqPR77WTChtuAEdcqRJKzNpxabcQaVsVNXPzjPcfnxcL8a9SpNXn3TRoDaTjvIx0ZY8X9KVnixoek7+8zuRPAgiogfJgyM5y+OraWobHImoU8ca3FVqS8owvw9lgfKVAaXFNJa6TmRTwIlI2a1UrT8rUvK5UGWk0eOtHn4fW7I6rcDLt8nqZuW+Ls1MN97jpjRxqE4697Wm5BVWNPu7Q+OGDpMqhFmhsRs8ZXF9lxYmCAKAwNJE4ChSmiiKZOinq6J5UxqeI5MDc+lvXpO0jSZ1aTTiqP67ynbyW21a5z2bjjMbqjxDShOCPnS8lNnC/F9CtehkSHZERNnpKg0f40kjizTjjn+VRmffsSktBtoSPlQOUnC8BR80SnAZu4eIwojGR9SSnOdtDbE11mwpTeVSZNRVDCkthrHSqa3sgINcY/yZXMMwcg+RSlTNTqh+kpn0eJVeapocXcbRfNKvyhxVLG0wbOOROF564nNPNaI0UYzd4Kf6W/0a31q1dnANCCxNBI4upYniOLftNm9KK+9iqwopwKbbUpdmHl/EkU/pLsjViDAx1NveVF3uoS5kFrtmlmpEadI5TXGAc2sg9CAf/qkpjXkbYvfLI0RpZmjrrNKE4Xay5C1Ej2E4mBclBxMfFCZHB7tam30lnlTqFs/cXmZJaWQGoPtMCF8iZSa6UyeVQi9NmpbOYksIBchaqgQTORWiKE8UiZ+9xWCVNtLiRhMmujqX9MmuCvT2BeX/gyNcw+Dlz57SSG5hfLgv0IK8c5l7KnsShso3pjRJRhwNnsqCX0AggRCYK6XhR8oU017JaHVfUo07It12s+YH/HF4PBKp0thhp4dnihWPLtpqNajruVPT+TXZI51e7H2n3gczoDRp1OOm/Ny6kK0aVas0VKjkk20v8LfqOvHz03OqpHQWyB77U5sZN9r0LE3eg6VF0A2xWJQmp0ePOjWSRzWkQ0pJDYPFjcZ5hypDnfV50XxYxQFxG8vO0hTTDkkyqVYDSqOHcHoZRXKA6rDQ88hYVvOmoLDKHHW0+ixNHY+vp3b6sEMmpVWaSN0w6H29X6MGr5cW7gECSxyBOVIa7eplkr8Gs5L4+9nczOFeM+7IHoxk6Gd7X4YjQrTHi59YkjlmDpQmiiNkY82ue9TPDECBoO5Td7qUJvQR3TgaU+w7meosPySEsjMCMBzLol14h5MtCzTcQP1o+AGa+ouq0KYej1nsMW0GARlqZ0NpaNHJu5IaVqVUhnrApcpk+JB/jeE/FQfE37SYx2Oq9CQ+V4QppbGM7ABYzjlKti6dJR3SKiyW1XJWElKZo442bAbKhL14PkQ3P2mcGmF6X/9Xv8Hrp4W7gMCSRmCOlMa6ujXfP8T2VSI9XuJtwU23dcYd5UO+ZpQmRMd7G3LIvpaduilqN/F0ENbr0vThJzauTXeXbUwpqO0eY4dAaPE0Kj2AXEiHKkm8HqVJ1nH2yroQdmdq69Mw9/yvGaUJ02H2wg4np5jazPjRFkXqKWDPq+yd4JhEcuQzoLSx+uy0TJ+/P8zlEKNB8sQ6XSvEGtzVahspI4T7aovIM8IIVxUHzMZY5lvhzKzuG+d0F7rLEdnzkwC5ClFImgnZskq4w0L0Fg/a1CUfH+aXy+pRKUd7pTJHnUBFadGekpS03LoexTamMCY9P05XilSIFmEUE1eDF8YCjTX1yqf3qFj4BQSWOgJzpTR2ToM33NCRFX0Rg8XuruUeutIfd0RR6MYPctkcakrT3cFLLlY8PiX1dsV6CA1M9rRC6fVa+l1aUobSjOy8Z3NIp27UCh0ndR1KI4dATupSr6ps4s1P3Ub0KU0UBWkNqlmlaaxDyKR4FC9hUZsZP9pI13CnNC4jyfhlJdIbUkzO0igRYrTx6yroqzSo14/IBndtVUonlGq1NcoobaczBhUHzM5YcWKnV/IYRC/rQi8oYZqbUZqoyIjeHcPODi1KVyNJn9lSmhYlVw16a5qa0joL6dtVLNLbT+jbVfgHQqQ2qIcw761q3OAlK5h3sapRwyUgsLQRmDuloZGrt7nQzb/rT8dXkDzmwnkDMjyE/mq31Sbv2wgDDap3LVrsaelbSytbB7lXQOHswmCt6k130rjgTJdeukje8cgdZUnFhupRRtmdb3Ig4Cvihjabw0JfmscUlQKjzchTnw6v6CZ5GaP2qWqak5yWWSvwE+IkMZ9dTlaTbufeiKhjnXNjtqewWvOuS1FtZvxo08Kngo2lmZTIyeYkejcYfm0gTaP8jY51qbM4N+ZXBbi3fuhUJakgaTKhVpsWgJWhziZImeQsD/cCxpFGxEmsLc3eWNJiKRMQldDLpZrZaySpJurfyd4GD8f3WLEefrWH1kD4JaUKnyC1GMX1ZFuxyn2R4C89p08ajPxYvShGBv0VxTKhIv1TMvWVN0JYjNnghYEa1M4JrSr0hQtAIAEQmBelUfukV4Bz2zk0Bv8Khk/PiIJglEkhYU4XgsHr0vVffy49kmWujtYS7R2VrnwCPqxONmcg1GbOsRD6kJY5AEqtY9S7MrHqSq22Ipooo6eKyjrVJS/EtGnRl9brFcELUYcllAyzxfj+gFpcrGsj82KpgeWaIow+4YCfQTQ0JZZuEA8ILEkEFoTSlqRloBQgAAgAAoDACkMAKG2FVTiYCwgAAoDA8kUAKG351i1YBggAAoDACkMAKG2FVTiYCwgAAoDA8kUAKG351i1YBggAAoDACkMAKG2FVTiYCwgAAoDA8kUAKG351i1YBggAAoDACkMAKG2FVTiYCwgAAoDA8kUAKG351i1YBggAAoDACkMAKG2FVTiYCwgAAoDA8kUAKG351i1YBggAAoDACkMAKG2FVTiYCwgAAoDA8kUAKG351i1YBggAAoDACkMAKG2FVTiYCwgAAoDA8kUAKG351i1YBggAAoDACkMAKG2FVUThPl0AACAASURBVDiYCwgAAoDA8kUAKG351i1YBggAAoDACkMAKG2FVTiYCwgAAoDA8kUAKG351i1YBggAAoDACkMAKG2FVTiYCwgAAoDA8kUAKG351i1YBggAAoDACkMAKG2FVTiYCwgAAoDA8kUAKG351i1YBggAAoDACkMAKG2FVTiYCwgAAoDA8kUAKG351i1YBggAAoDACkMgYSlNiE5H0X9BWWFCZKy/NzSuuk0TT6tSK/Ou+CvhyOAjaKtphUAtRKdGBvr6R6eODLArBEUwExCYBQKJSWmR9lybw4L/W6sHJXPD7SXZTnLTYnNYs6u6IiRmsDZZSmzJb5+cBTgrK+lka4ElrWFoAY0WQvX5aVZUTVn1o9GdXqfFXrYzuoAF8KLG6l0Oi6t5hL+3eOHJ3obcFLk1WmwpOY2D04unD5QMCKwQBBKU0gK5NodvgKsjocdrd6R6A0N4xBQig7Vup8WlGKD7KxyW/ABQGkYNEUxq4xiHoIgozVbVz9+aVzi6s8RpcTf0Uw4b7yj3+DrH5yhTR2GlJGGosdjTGKLr8JjplbkX9mqgxmp3l7QMSrsFwtRQS4HV5shtnVrYckAaIAAIqBBYJpQ23pJnSavqp+MZMjLa7rE5PG10QBVFoDSu7qf8+Q5LBV3g4ogFpjS8kvb1cmXOK6ijsKm82aY3FTbrSO0WLtYHNglmjSRkAARmh8CiU5rc+QW9szFRZAm4I5mIapU21pTtsCoHaFGM7ixxWHw9jObiozRUisnZj4GSoigd17HS5GowzIKSmBRnEkWL0ynNXCbTSmfE5yltrjoz+aI4UGNVraRFQeAUFth5J4KOi9DHREdhrjAS5MWbpDcCVtHSFKdfpHJ5HTVlx7wRX/OLKQYSAAKAgBkCC0Bpk5GpW+/YtmHLVRu2XHXrHdsmI7PYXUHDaH5gZLg5hx13JXtqe2UJqgS5bThKRWlCj9fmkKI4Y4fqMvjDoRhjSqSvviQviR7RWexphW0TnDBxsrdBVtKWksn20IQxv9eNT4zQiZ01paB+WBr8hOFmfKCSshEdq6TkyNtiiHhGWsvS7fSQz5aSU9dHN0VNokSRHlAlpaBjqqStzUPyUGuakRrTX82f8SAFkurQco1QWpeyLpgtJPd4R3lmssNiT9uI/rpLOhQQSSXg6mCHmiiA93uR/Gw/Pesa9Nkcvt6JnQQ6ew3e8NTX30hhapD0i+oXz2BM0pvoj7KXtA91sEpxplcPCiLVEDWMFI+ySagUML3UnXWZ5oBIQAAQmD0CC0BphSWl/PhVWFIavxp4mMvLzC7vCpOBeSpYnWe1ZdUOSzJQgrSs1OyypoEJeeKsojTVJS2ejNHscMic0qZ7awor2ociEj9MtpVabXlNYUmWMFCVanNmVveN43gh3FdbVI49HSb8+U6Lq8w/THY4o0Ot5Z7GEMo23JBqy/J2T0gSo30+l1Pm3eGGzbYsX6+0LyqEB5t8NV3kyiRKDNW6HKm+HqKGKEaDFVlWtp1llpGCgn6F6WioaSsiAH5JiuFyJm2tCZK6iIaa8p38nGC6o9RqL2iSLBWF0UCuPatyQLKPLwCtWbvLLTaHt1te8iqrA1FaqsudWd0zEqFrNEP99RVWlKjYWNZPb64/ah52ZzrFFjeAjEy3O7clhN06ENQWW3FA3slWlW92KfRWbeZatVlSiAMEAIF5ILAAlLY+eQtPaeuTt8SvDx7mMhiB4YxjTW55wxAnyGsaVYpUcZjqkqZVjqGzPUvr88krvwmkUlG71mNN6C232lT6k+KjgSLH5opBfrwXussZQ6h0oyqjX5Oo6bZi9ZEhWhJJCphk5OXjsM6+HM4uszhK1ltlsRX4JcfRUG2a2sFhpMVtKenUwoLyDlRZlBuPSvUQpVm5bWFzw0VRR2GVUcopizZ9DP0xpZUH5QpDGir8icKBHKVFKgUML4VBn8uRqmwMhokhAhAABOaBwBKgNGnTSTYCbRjSm8pxkKZRcZjqkqZS5VUOeTSR+lc6aJmO4s1M4qJGNjb13NXQmK7rJYizeDumyDJI+jvsz7EVBAhDoDWcM7eub4SuC2VFDKOELp/D4uucxKd9VDJab0mLP8OMsmwa0o74elSKaIlS2qg/3ZZXPyw9DiiV3l3OaopKpr9xUJraA9BMfx2FaUnSr7J+Nelj6a/MLuqQqEEzU6mhvsR8Zs0PzNXVUy0PrgEBQMAEgQWgtPluPGoc63kq4sOyGerBBa+oNJSDzlTkw5tYq7Rwp9edYrGnpWe78f+sJOZ1TYrTc95D4+BWvdEKZ0lyEVHc3601QbpzNdnbXLgVlWKxpaQWVQXohh5ar+hH4WE6OYtqyMR6KukGpkFGGTka0oz4uqtDntJQ2LlRAocV7U4v0jM/vlWamtIMDdcjGGoJ+1VyksbAWPors+uVqG51rGTjgDDWlO+0ZtcofHGNk0MMIAAIzBOBBaC0+bqHaFY5vFtHfJSGxy/lLhaZZfNukJoxi4cObS1aS/gHsdG+kzTm4iVXTquOKwRZpQV5SSRMVmnd8jaWNgm9I0yHQwF0gqjc9EPRqiiySpN9OKkE7a8qozaBZsSPSWloleNW7wBrBbM7c1ilsbxqw/UIRk4shZT1qzEwlv7K7HolzprSyDmr8tkSjdpwAxAABBYQgQWgtPlogxlLdRaFzjysvj7CBvFRGt40s5cq3kwx6s+0Ob29MqloxixecURgCtIK+zMZpYnoYMziZt56XEbk0eD06lAXyqI6K+KyaYNooekh/pzqSDkKnaXZy7tkm9RJlddyRuV9NF4H8h2qYzAdqPlVmojqJbNF8XS2Rix3Y16URuTw+usozBWGgsr61aaPob8y+/wpbWKnN8viKqevsFEpC5eAACBwRBBYCpTmtGaX+Yen0EAdDfm9WRab7A+iM86KoqidLwuDlS70EqzAKDq+Gh/wl7gcsisghk4zZvGACkGfUx6AoqGmIk9mNl2liaKICNKR6mvHR1/C5GhPbVE5dlAUunxOi72gdgB7NgoT/S3lHjLuhwO5duwkiR36hCiKynSTNzYJ/dWewsY++i5KYbyjfLO0SjOJEkURTfyt7ppgWBI6PuD3uvPqkfuMeUbeWBRGD6djh0x8Koaw14FaQWkidvvMKmkNTWJOFSJjXXUFqd65u4coNx5j6K9VWGWSqn616c31V2WPdZY24d/qTDKyXRT6kXtkWmFLT7C3j/sfkp7TCAdy7Jz7q8oSuAQEAIG5IrAUKK0qyL2ekX+uC42zbXovHtRSGqLDQfpGQXQ6lekLjChXM5oxS4mZMNZUQl5I6LAke+qHxwL51O0CJxRGA+iwjTy4Zk/LlV/ZNxWsK9hInzBLcpcHmOs/n8XmSHKXU19/UYz01UrvP5SeZpOfxjOJQsw15vdxz88l53lbiZe5qUylrfiKe+IKO+MgqLmjR5QGrUGpPwvOo3x1oXNjfkNQ8ofUFIDyKjYqkXy3n3pJDFbaHYUd9FyR5DY3nH9EjHoP8aX2VzvZ4h7fVxuIDyn5Vy8q9EcnrwrvTbTO21yHn8cgxUQ7C23OSuk1bPiVkpo9c6oP91pR9qQjDkiOPKPNqTZHZovOVjaVAL+AACAwFwSWBKWRR8fwGyuULIQt4t8JIZmoS2kkDr/oQUeKemPKACz1myw0yQwTYFdJ3YKNVaJvD9HPxtZPGiXIs2VR+UE9RQritKkrU5EOXRiaI6XUAV/KRR8m04iM94a+aGqakfhYCqtL102vXyOGCsky+SSj/nQFBcqpIAQIAAKLhcASorRZQGBCacZSYqzSjDNCDCCgQUAIVrj1HzPXJIUbgAAgcNQQWAKUpreJFMN+TGnERT4ntsPCWNNW5HSemqx8cjZGGRANCAACgAAgkGAILDKliZFQcFh+o2Pc4AnjA9Kp+5DRWQ4na3JYStwvvXaLi4MgIAAIAAKAwHJBYLEpbbngCHYAAoAAIAAILDoCQGmLXgWgACAACAACgMDCIACUtjA4ghRAABAABACBRUcAKG3RqwAUAAQAAUAAEFgYBIDSFgZHkAIIAAKAACCw6AgApS16FYACgAAgAAgAAguDAFDawuAIUgABQAAQAAQWHQGgtEWvAlAAEAAEAAFAYGEQAEpbGBxBCiAACAACgMCiIwCUtuhVAAoAAoAAIAAILAwCQGkLgyNIAQQAAUAAEFh0BIDSFr0KQAFAABAABACBhUEgYSkNf/JqOmr0WS1DdAQ+CxVi8OExQyErLEI4Mvig77rF91W3hcL7CBmyUOoZyNH95JtB2qNxWzD6UN/RKDx2GbNQj3xZMIo/TMj+Ht0mGdseSDE7BBKT0iLtufRjwdbqwfgtFgaqUm0On/RhYu7Tw/ntk/FLWWEpJ1v1Piw+HxCEEP3+eFb96HwEzS7v7AzBH55ObRybXRkLmloYbs5NcaIPqbuaRxZU8nyEoe8OLuFvn+LPIsbVnYfqMqSP1NPBBF8WB+L4uMd8AIS8RxSBBKW0QK7MTHHjI/T50hwWTUb4NCiHYHSn16kaxxET2KrIl8e5lHMORneWOC3uhv7onCXEk3Hehgih+qLi+mE6Z492ltiPKgGL0c5CuyOzbnA6HnOPUBo9q5d4f4lfPZTSVt4VZeszEqA1foQgBbFHGIGVQ2lCl89pdeelA6WZNakpf77DUqFY+C4wpeEVtq/XTImFiFtoQ+b0IfX5GDLZhmYSwfmImH9ePavj54z5lz8HCfGrhyltAedqc1AWsiw8AotOafLxhoCnS5o5EkvAHb3o9TRzbITucmtaVXBUZ3kXXx+Qtt016knFGigvitJxnU4+wyxIpElxJlG0OJ3SzGUy8GIwwVx1ZvJFcaDGqplV4GhDuwTNiZvyjl4LEedjCNVW4HA0aXJGVcy0xAk4WaIpjFLp/dVOzeJY11ICntEKQ5FlmkeSqM2rRe2Wf/Ws5voLqTIDEUawyNK5kEFiBqHUjwyLQuaTSE49Tr5eEChND5WEv7cAlDYZmbr1jm0btly1YctVt96xbTIyi69UoxVAfmBkuDknGW0Jov/JntpeWYIqQW4bjtLraWZVgfZwMny9gqiXMUYfiPTVl+Qlsd12e1ph2wRf1mRvg6y8LSXT1zlOooUxv9dtpRmtKQVsF4uekaRsRCclKTmNIa6rCiOtZel2ioYtJaeuj57zmUSJIj2gSkpJs9ocSVubh2ShphmpMXgMZeWiQFIdWq6RVVqXso6YLST3eEd5ZrLDYk/biP66SzoUEEklCD1eioZU1/kBbJpSPbu7pHVM1h1RYIGfP94g6zzpQBSrxzWh3Lap+RhCwRBFcdBnc3i7BVEcrJSrg+CTUiuVPrHTh9qGNSUN/c0u2xlmAlD2wrbQTtYG7O7KAUEMd5Zk4+Mx1NSLA3J6llEUusslfChcua2o2ev3BVUzyy7zj8rgoSxpDUGu7pKK2sdFYajRQ5u0M716UM4ga2FoNekvwQ65lSoNF0XRBBa5ABoySYww9PVOyBjanOle2r9I/nC7jCdueMEKh0VqV7QEg1+O0ky52SA73F6aCCwApRWWlPI9sLCkNH5TUZfLzsvMLu8Kk241FazOs9qyaoclGbhPZqVmlzUNTMh+d3rMZFzoVCDfmVqB+61eRnNKm+6tKaxoH4pIvX6yrdRqy2uiIxH2N3FmVveN43gh3FdbVL4TnRJN+POdFleZf5gcGUWHWss9jSGk5HBDqi3L2z0hSYz2+VxOiapx7GZblq9XOmgSwoNNvpoucjXcYBglhmpdjlRfD1FDFKPBiiwr83kxy8jDJkxHQ01bHRZfD/EBIxqiKrA5k7bWBEkdRUNN+U5LWsMQzTrdUWq1FzRJlorCaCDXnoWGb+0/ITqNx2tvtzytnmwrsHKATHZXpdudua2UFAeqLGpKUyy19VrIHA1R6ovGU8IlaIkw7M9BDMcvhtChoDXfP0TraqS1wOqq6ZfsRtmtdjet6KlAidOSlpeZTYFC9e6wFLXrHpUJ0WiXj530SBL1LEVt2+KSu09XhdtqL/DT9inVXZGk5PRAQ6bNkenOS6dNZby1wGrLYN1NgYC+1SLqL3ZnujcgGR7p8bp4hxFzWBQliKJ5YoRhqstT0hoiKE12l6faHIUdEuKi0OO1O+QqiIaaivJSXbOitGJfHWN3hzWltImbEKh0hcuEQGABKG198hae0tYnb4nfctzlVD1qrMmNRlVuPM1rUvnF6TGTUaFoxHRVSQONXkZzStOI7UMjHVksihNIVb1RSegtNxgpooEix2bCr1Q0mpVThsCA6O/vm0RNtxVb0qiNRCxaEknAmmSkKrBfo/06mcVR0l6eZkK1aXTop2JGWtyGTnGIopjTKV4M2R2b6zDZy9nzLPbyIGkB8VCaTdNCDDceTQyhxUu/HKWJos76Hk0UlMtHcawpmw24mNJ8fRIdiaKIDZc4Ehcx3urRbC3KOnBrCOkmrkelpQNVmmaGuo+VlitloQwnEljsfAPD7RmvAuWyWciov7DawSkVhsSAhYnGgRiJNRiKE/6t8lnveEuexVYcoASHJGKSm80qDXNzJCoIwnS4r9LttNgLwONRWUkJdrUEKM1eo/KmQ8619Kb+cKzuacJQa01lNfvfvJNNtcJoxeBjKwZ1RlRb8VGadNIzHUW7Z3TyzoWV9Y7GdF0vQbz55u2YUjwKg1YAtCOhNZwzt65vhK4LZcGGUQKa0fs6JxW+W2i9JVGvYUZZNg0ZURo/CJLRmY7mo/50W179MFm+0L/d5awGqWT6q6I0lN1ZSXcRpURopKM346I0pXpIyuwNoQrS3xiUhqrY3TykwBwtrehTJcrseqSo37Zp8QaUprAU6UB7Cs0nmncfTWvX6MkE6ems2194Q2LBwksXYyXW6sZXK272bCtCEhzdWRLvKm16oNnXwu/5S4yommApNIaLJY/AAlDafDceNRvffA/hwzKYamZSUVpNQPK9Rrt/G32d42zckbeP5NmzppPL5aBQuNPrTrHY09Kz3fh/VhKjNKKGnvMekrk1IB2q8fJwliQXEcX93VoTpJPNyd7mwq2oFIstJbWoKkA39NBpin4U7ufJWVRDJtZTSTcwDTLympEwP2RIsTpVwNMMCjs3SuCwot3pRXrm08UKfTRQyY5MHb5++bJIAj6WHvWpZkVHgdJQFcutQjbcI22ZaoZjpdrskFKjuYQCkq+cFWkrQrfp8sn4MJGryaLRk9XCnCgtFiy8dLKHyXpWHBgqZio6bVWXcRVFxrggjBjXY20xJEH0IiGwAJQ2X/cQZb8VRTzNNN+I04wO+ugNNNAzcIXXA9km9Uibh+arNLS1aC3hmzg3BOAlVw479eGUQNNPXQ9sskpDTgcx/wnT4VAAnSwq98pQPlUUWaVJW7WmclUZtWl1hgntsIj30PhVmlu9M6wVzO4giuI2HtEqjbskydAqjW5HL1VKQ1Wc7Td+ApprJ8QoTaPVAZahRDYPlF1Dm540MxUpolWacfc50pQWCxbOQhGv0maFoYLSyCqNeBgxsbNYpbE8XEB35cfFQ3DJI7AAlDYfG3EvpYOXJAidzSgPAxSbLSiVZnQw0oF4S8u7fPIqTXZn1nRyXhgamBSkFfZnslWaiA7GLG69cQ1vnWF/OV6aKOIsVnpSqIrTu0RHHYx9lQnkKHSWZi/viocokQg5o1Ig2q8L5PNH/SheO5IqKE1E9ZXZEvdbNlSUhrOrtnrw1hk9S8M7k/KqThSRsRwL6qiHtJ6DISowlJyE3SxlxwTJkUd5sqUQoMyu12gNNJekoGYZi9JEnvulfDG6j6a1a/TkrdBarbdRrzAEqWQCCy8duUqZJtbqpphy4XKVZ2nRdo8t3o3HyeEQ9SWmWuGjuMwW6ppEb8NvAiGwFCjNac0u8w9PoQE5GvJ7syxcl1D0FoZr3JTGckgBvYyaTs5nEoI+7FFGnMiRS5UnM5uepYmiOIoYLtXXjo++hMnRntqicuygiJ7sttgLagewZ6Mw0d9S7iHjPjrew06SmFWFKIrKdJM3Hgn91Z7Cxr5xiXCF8Y5y1OfR8b5JlORgaXXXBMOS0PEBv9edh183ZZ6RNxaF8ZE7csjE8wBUJzpVoFw5YbfPrJLW0CTmVCEy1lVXkOrt1PXlI14SPEURj0eaPTrUWoZOE+kaWsSch7za0OGiMN5bk5ns5J9s01EP2zQHQ5RYqMZT7AqEfAvxeSGyVOivyMJOrbjpirj287NKJH88VXadeZiR5kSNuCgNMTdxrOW6D+fgoC1C09o1eipQ0Fqts6uhLMUcFoX0WWOoWKWJojBY6XLgZo/rA/l3eDLdMqUJvVVJdnc9dZ9Wlj1W70KPDPla+0YiqE7HB/zoeQDmSoZcUZyy27AyM1wtWQSWAqVVBbmHS/jnt9B42qb3gkE9ZooL4mhnIfM7oBk0nZxGkF9hrKkEPemFtiuTPfXDY4F86naBEwijAXTYRhLY03Ib2RuMpoJ1BRvpI01J7nL2EJIii82R5C6nvv6iGOmrzafFoQeeCuSn9Eyi0AA75sfPSEmaJOd5qeuzmUylrfiKewwIux6gKlDtDqHJNfVnwXkmexuktxEiHJwb8xuC/JNkfCkor3qjcrwNP9YmgZznVT75J4z6C8mrDhFWVV3hHq+dOo8YtRBU4lwM4TQdrLQ7vb2Ypcld7pEy6gOiqGKLPS1XfogQPdelWNWhFY9iQ2K6o1Tr3MEUQEtVJez6fUGcCHD1zjcz3e6DHtpTvKERO6zKEwhWPg1orEYSlNsMGkNMYKFi5V+TxAhD5VYH2lek4GMRkb7arbT34UdaeQOnO8qs8p6KXCQNTQUbSzNp08Lttpl7TxvmPLdf50Sc5offJYjAkqA0chiANwm5EYSixb/DQbo3Z0pDQ7+6iBiURopEbzdQZ6QK4l/DBNhVUjcrfmOCbgx9e4hupPljocbFSW8k0ZWpMAVdGJojpdSgyEAwh0lTEHfDqAGQJCjWQHd9ZWg284ozy8vpxoK6auhrHofoOJKwklHAOL1hvRtnoZJjp8CvOzEAn0jRlaEPCy1W9Rt3Yr2iFM2VTyB0+RTTCFWh0qVZT9TPAXeXLAJLiNJmgdF8KE1TTFyUpskFNwABQGCpIxAO5Ki9/Je6yqDfPBFYApSmebAmtkmY0ogrfE78jglquWNNW5HfcGqyvPmuTgLXgAAgAAgAAomDwCJTmhgJBYflNzrGjZswPtAX7EX/h4zObOKQNTksCemXXscVRx5IAggAAoAAILBUEVhsSluquIBegAAgAAgAAgmHAFBawlUZKAwIAAKAACCgjwBQmj4ucBcQAAQAAUAg4RAASku4KgOFAQFAABAABPQRAErTxwXuAgKAACAACCQcAkBpCVdloDAgAAgAAoCAPgJAafq4wF1AABAABACBhEMAKC3hqgwUBgQAAUAAENBHAChNHxe4CwgAAoAAIJBwCAClJVyVgcKAACAACAAC+ggApenjAncBAUAAEAAEEg6BhKU0/D2I6ajqUybCdDgU7A3RT2jqVgf5OEusj8XoZl3GNzV44o994M9dRuW/ph8YYegwhOWM7IOiLFFcAcHwgzIsu6BqAiwinoCZfGE6MtbfOzgSURXArIsPjHjU4NII6ibNxR21oOJbLUet1AUpCNXOEamYuWo3r/ZpUOiRbSRmncJAoaV0OzEpDX8/nnzrUvoeYDSk+ACmzWHNLmOf3OQBn2wrlj6SqfkWKJ9sZYW1eKIPdeKvnir/eky+FUkhw9841slrmR3g5PPWDkvFIBWs+Y30VbqdFluBfy6vrjaRr/woJfn060CUFN9fRz84qfwIqka5ud1A35jmPxyKP2LppF/KnpvMWeQShpulT7m6yGfW+bz4k5g69/k0ixie2Cl9CvXowRXbWvTNEJMPts0NUvwh8jh6Ymz19FKgj20pPhKrl2gJ30tQSgvk2hy+AYbrVCDfkbS1oWsUf65eFIVwj9flsKRV9RtN2Bb0i2tMj0QNaNEYqLLYHN5u1TIrzvkvW8ew7FNdFWlm1aECjnCVPSs1zYjSJEJKdWXNhdJM5fdXO63ZZU0DE+SLo0Ik5PdqSkH4zI1KVaaqLvFo1cp9myLc6S0q3xlWJdO5HGnMsno7p3Vi4r4V7Sy0OzLr2GfZVRmFocZiT2OIdqnoTq8ztXFMlWixLofqsixppYFRqt1i6KFTBdqepVBMBakizvhC00j4pKPNqfayndIEjI+IN7yA34/UASReLeaebnlQGvoKs7otD1RZTZYFMZra3AFNyJxaNDClcZOG+ZmF5efyI7WZvGiX15nqDQxFJ/z5BpQ22pxuz6vsnRLnQi2x5GvbUrTdY3Pk8vPiuZRrZjONMx2taCLd3/mPRJNtBRZbVVBXus7NKcPa0Ul8pG8NVtodOa0TR7oYc/k6VaDtWeYi4oo1bSTzbpk6VsSllU6iBRSlI93g1qJTmkDmwugj9PjMRs1MIkvA7ZLH01DUaQT+++2iOlYfHuk8SaOTlJqcP+nFGtiCjDQ5VTIpziRKFKVVkZ4iMUqUDNGisZCUJvRXZMxiiSZXRRyD5rw6cBzyJWX6fAtAaabVJBWkM1opGy5Kp9sYZjF8GLTb/mqnxVbVL+OvDfF9yAQ9I0sVfZl1fGIS6he6Ldi0y0gq4p1z1ZyJzUwQXErJBEDlPSyJy6M6kzPMwoGkUwV8z9KHnYdUnplrdCaQEpV1GomshUmPiAdJUdSxgkg3zU7wUeFsKEpWd+FDC0Bpk5GpW+/YtmHLVRu2XHXrHdsmI9y2SSyF0blLfmBkuDknmZ6+JHtqe2UJqgTSTJlvKAZFCN3l3NYQ2iSx8OvxGBKmgo2lmUwlm3NjSfs4X1Ckr3YrO1NxJLnlraHJ3gbZFltKpq+TZpT2+q0paUn4qI/fTVLmcqZ7AyO0w5lEiaI43lGO9LSnbUR/3SUd3ERVqaQ1u8xvtC2jRYOjtHg6M4+NOoyFe9rmsBViJFU/EwAAIABJREFUMmjSQkw6ME1i/BuHfJxZ6C632vKa+N2/2ZQrjLb78tOs7FQyOa92gNauWjnNaIXQczeNSul0GwNeXdHuQ0opap9US8bXyiaRtLUhiI8hcWdRSFDRAxGGRihfjyCKmPwU6ZPqpCNPkwaJspe0D3WUpdtJXmd69aAgTuz0uik4KZ42rgELY345ymFRjgzUvokmt0ITiZURbgX+0VA96af5EiBKAFNy6vo4oBD4hW0hWR+7u3JAEMOdJdlO6QA+udjghL6AntBTZUgVkJ7VTdVAtZOSI2/eYv7AkCJzDHQeb2OIIReBnWE8wdLueXAn4lSZ4gA5ZlYiaTYU6FCaMNJWJZ2w4taV5G7gD3SUkEpj1yzaJK3IhfpdAEorLCmlCKLqLCwpjV85xFjZeZnZ5V3Sd6WngtV5VltW7bAkAyVIy0rlzjZQBGko8lmatkC0Z2WVDzmF/rq8VHfzEEtoLiHaV1lSFRiWTubESDs6Y2ihnU0Y9LkcVndNkOgsTATrir0daMgWBqpSbc7M6r5xPGQJ4b7aonK8rx3dWeK05vuHpIFdGGktsLpqpJaB9rWcuWzbJDrWVVcqjWImUaI43VFqtRc0DVOho4FcexbqhOhfNFDksOYHKKFGR7obClsMTj60aGBK81Rw9GxPK2wZMxqJGa6agBD0OS1pDTLymhTGN+KgnNlQi6YgU/nRsX782fRAY2m6XTnUiuKsNjzHW0sLG6UmIYrR/ro8i708qA+lLqXRY2PjxiBEo10+h2Wrf0h/qwObLgxWuhxyI4yGmopSLC7pvFmSYCvvQhL0leMm3cJ0NNS0FTEc3nWQMpg2SDx8253pvh7SOybbSq22jEy3O7clhI8Ao8GKLIutOEAnP0N1GRZXVZC27vEBv7e6R+ewUIhOD/tzbI6clpC81ENNOiPV5S5pGWT+z8JATarNSYsTp4f9nmRHasUgtRaBb7W7vd0T+M5UoMRpScvLzKZdLNrnczksRe06OuCls04V4J5lTfZU9hKZ0aGWAivnMMJBSoY1jc5oOqXU2Z2VanPozjnQJhCaynuahvFukGTYVCDfaXHJY2xXhdtqL/DzUzSubyhUQvcn/CWl9ZL+ohgdrHU7rL4+SfY82yRX7kIFF4DS1idv4SltffKW+JVDjMVVMM44hqZddOaCE+SxWaokWTsEK4scby0wqTOUNpYEpTwxWOGw0IneeEse3/G4lHjCqNvikQOhyptgrCmb+raZjMsmUWKoNk3dskda3NRbSTM4coqqg1o0MKWh2dzw1LQgCNEJPNVwKs6T1FL0rsP+TJtjTks0URRNKYeUZoaPnj6Ke2byOc9Gh8VdHqDzBknAfMoNB3IMT3k1tcZXjWmhmpFIYaooirgryYSBooUeLzdXQxJMNx6VRWjRM2+QhNJ4LkfGWvID8joJIUP5O57aZyZilBSjPL6TqZjDYYWV3VO5/saUxgZraeKi6GLjrR4TiJT4YOUkNehsGN1TrLEUWXR01hlSsM4KrRgMKKBtJMirQOV1icZYmZYU+Y03HmkyBIK9Rtqg1hZHk4k6Cz4u7ogFlwClMXSokWh2Rm/ifqjZ38d1b+S8gPjMluUz3NvBxZhKoIrQQwsyBZb6noDmYnw/lFP3eA1mT4hp3M1kBk1mtdNYJn0CAXmapfoCQ2HN9Bg7oelHjfrTbXn1ZDrGHh3rLqfQoXWhxVXuH5Y895iaOgEtGtHB+gr/EJ2+4ixC16zXWziLa25LtEWmNBklYQrPrNnyF8eY9mQ5Lx+SjiKkJYVB6zWlNJPGEHv4IO1WtSEZ3Vkiz9XmS2kxGqR2rNSQorIdIidGe0Ft79ikoh3ymNIwzqilNAXIAu6evI8P2svoLJRPSU3Bx0XpD0dUCwU/kZtKi/A9RSmKLNrEJjprNx5JiZqWiQYfOpxSTUV+jGU3SUChEhcnnZZFo0MtHK/Pq01y0hcuuACUNt+NRw098O2GD8tWa+uexk12l6faNNtENFb+NZaA05BzL+fGbHc6/p+azGiM9MM+WRQLEZm97FoOoFZiTyOi+L8eutmIjluK3BvRGYNzo7u0njtNNIxCbVfWUBZbRDcbhbFARXF6CjoGsKbkFTbyxwaybigUAw0p8XRHqWVWD2ON+jNtTv4pK2WpMa80Q542h6YDa5MY34lDvpQZ7eLS5S++NZtypYe9krNoHaFzNcVoK6uoGO/QbWXVGDaG2JSmbyw/fqHwfFZpsRokXxa2WKOS0lhRREfaOS58aJ2c5alop/v2Ml5SCGeMQWlq4SQrDzgfxrGaLPrDEVVHY6C6+nBCRSmKLJriVLVPy1FIoDfpr6ZlKoqgqUwM0aQXhhoLNtodSS5pMMRDirzMmEebpNos6O8CUNp83UM0vQjNIOjpiz702rrHoJCjLPlQygQpAwkkB9patJdKJ6v4FlfNeLa7ldIGXwSeUul6EqOJUrZ/hE9sEBYiY8GWslSb09urnpqqo9CkWHYcMJCHbwtTI73+EpfhVoNBz1GLJB43PCzqFIprskyc8xJtyazSsFFcA8DXmoFDYTp/IfShzb069jiX7jDHMmhGK4OGqm4MsSlNd3cBr9LokTOyUdMZmWaafSQNIcVqkGoMtVuLBsaKQnR8uB09Vu/207NhXi8J0hiURlY8qsUNXqXRWVds8PWHI6qLxkDdulaUosiiNd9YZ4WxVAH0q2mZaPDRVCs/xvK5NbUsCr3IN6p2WB6OjECYfZtUlbwwlwtAafNRBKOj2udFO/Jsn1cfPm3di6Iw3JBpd+bG6cKgJ4EZgtqZgrTwjjZdTU6j949ojvdQZjyXd+tRFzpL083CyuQDE/6tDuZCxkego1o5CgGlPC1QplVeoR3w5AZ9F20tGpHQkPqVHHgX0WhMUZaFroYbEDF3yz1BmyTWHc2gqc2g6cDaJMZ39OVPDofk0x0ps+J8F92Lv1yCLbd2x2PEHFdpSlv4xoC9EOlEUJlMusLtVnmWhs72Zb8n1Ow1Yx8vSjH+iuj9BoqVKz7cNWmQyux6UxZtO+SL761CZ9jqZolT4IyKUV5HFO6eyrM0qS9LjhIKskFyNUL0hyOqJHIEVVWBRoIoKkpRYKKTGDdRHZ1NztJq1CdnaPAxG2Op+tKvQiXpCJZ/WhE7fBm2k9m1SVXRC3K5FCgNvazBT9wLo+RNDfLor9+GtHUfDuTaHRZ3zU7spRakf/tHib+UEKxIsTAPQ73GyqOJB50sbzd5liA61FKc43Zz52d4gHOVB/DLSoTIWFddsbcbF4S22hypvvaRiCCKwuRoT21ReReKEforsiwuaiaJys8iLzoabytFmyooC/o3PdycS1dpJlHUwTKrpDVEDhuwJgWp5BUS4fbCIs5pMxqqz5cnCryxKKzBc6QxC3kbVwSCo1Po8C882ITcqdkJJcLTms15kKol4iWaLruLohgO5NhTTF7yND06iGuw3ZftsBQ14/DgiOT5RkqaGiJV3Fhssbl9bX0ozTB99mNe8vE7ipI9vta+kQhyG5sc7WtCbw8xO0sTequS7O566qarBAPNh5ifIXqvTVFepuHGIx7CXFVBVDRuD1zVxGgMaDaNXOMmjZweiccj9dQVwvh1YlynQGOZ4VCFbFINdthPKsvbPYGPh5G2eJvEoEFqsuu4/3DGisJg5VbkaCc96iRM7PRlzGuVhtRDHo/UIVkY763JtDtS0YME5J+CbNAtXh+cRH84krKTBY2yCjQSZklpejpvRe1Hwd9UAfSLdwVQe8OtF6NHPB7p4EPGWHuB/uRA4rAsXy/q+AgZ5OHFXC6F8e5yjzuPtZPZtknUU1RdiVd+IcJLgdKqguF29uSHNaWgnl/kthWoJz66Ta2tmD7aQp8LIQ/oSOei5Lk0zttKp6nxcAojLaX4ZEt6jmSkrYB5POJ2M8a9UtK5Mb+5nw64wmjA66aPrNnTchvZ64WUbw60p+WyZ2JUL6hMzvO2Und5kyis72RvA/fIiHNjvvSkkShGh1rxI2sEB/SEnPysG28qCuuhMdnbXOiWn6ZC9ULfcyiKGE+1DycnFQk0XqKNNqfaDF4LgmRgUpHUlmuTf/cSfvOhHCU53LLnDucrHz+ViM8gieQkd7nf1OOR6GM4ykR6fLRJ4OeKBivtzkqjR1DC7R7yQCSZ76OHjegjcTEagzDU6EmScDMYsKKD9fITcop2K4rYZcB0exy9Kox3COQfKaMOCMYNEq8j6SYnbitonbe5LiS3G7QNKCNjIkrOQkJ4/1CxJYBwUy1NUNLpAfoSSxs63ua6pyiK6BUkdBMSy9UIQcfJ1FK1DuhaUwVIgup0APuFUi8VBaSa4kgR/INf+FFCjZ5KVQTuMV/qojwRkF6AiXpNkrtc9+k6KmYiUERGMAnAye4q+pCuM93bOT5QY2UgzLJNkneWak9VaNEL8LskKI3shmGPGjph4kxTPF5P7usNwVyOOIJxSUBP7OsoJIs3ToDc2/SzGpmJOoTxI0EmUUgd7E1nVF4sK/QpjVqJX1ugFS30eFV7LDRDPL8jLW7F2BFPntmkWRj5xEdRa7vOxqPQ5dMZQBUqGzcJRTJ8Yf6qddPGYNwm5WLiSSOnjhHStUu/Qep0ZbVwbRKTWlBnVl5rRbF4XZ1RP9KtbJYNBeJJEqPHmYgwjkKVzrQzTsZ0VaSX7hr0ZZaHD2jex68nUM4w7zYpi5pnaAlR2iwsiYuQTOXNX4Kp+ASLnD0a460eOgGcva1Cny+bPmY++9yxcxxp+VpKCwdy6GOLsdWDFIAAIHDEEFgClMbWsPEbiYdg4lSao3iaMraI6e5y7Ett4kgdW8hySzEPPJcbFLHsGWnxoPaDPMtVz87HygnxgAAgcOQRWGRKEyMh+VR/FtYK4wPYI6C3T+OYF0uKMEFedBTs1Tq2xcq7bOPngeeyxcTAsEhIcj4aIK84MkgGtwEBQGAxEFhsSlsMm6FMQAAQAAQAgWWJAFDasqxWMAoQAAQAgZWIAFDaSqx1sBkQAAQAgWWJAFDasqxWMAoQAAQAgZWIAFDaSqx1sBkQAAQAgWWJAFDasqxWMAoQAAQAgZWIAFDaSqx1sBkQAAQAgWWJAFDasqxWMAoQAAQAgZWIAFDaSqx1sBkQAAQAgWWJAFDasqxWMAoQAAQAgZWIAFDaSqx1sBkQAAQAgWWJAFDasqxWMAoQAAQAgZWIQMJSGvmKUozvmdEaFfhvl+GPBhl/mYzmWWG/+ngK0+FQsDc0zuMXNzBCdGpkoK9/dEr+zlN8efG3l9AXpfn/7FtR5jJ087Jv17HYOKWZl6WJFWZrqUbC/G8s6LfQ5q/ObCSg2jkyFTMrLWJ87Ww2so5W2qNf6Uuhqeujm5iUhj7/Kn3U2Fo9qG8ZuxsO5Nrl75pPthVLH0Hmvp/L0q7QgBZP1cdqbQ5rdpnpl3AVyCm/R0y+DM6+7q1IqXMx3LCZVi6tKVTXHvohYJ0s7NZAFZ+FD6Ovu0XaPVRy7GbDZMYdmGxVfoEdf1yb/xh33JLmlnBip/TlYmdJB/3IOpVEviasvU/jF/l3vEP6ArvV2zm9WLoIIfrJ76z6Ufzddvad9MVSKWa5Cp1jpl6wBOqmvmCCF0BQglJaINfm8Bl96l4By4Q/Hw2Iua1Tituz/+ilIvsyu1CjMRXIdyRtbeganSKTZiHc43U5LGlV/fFMotF33N0lLYPS2k6YGmotS9VWgRGGmJa83YolWvwTZ7YOYyu8kZYC5bfNplCTqIg1EzJSz/g+6ue2KvKJdpRKCNUXFdcPxwFZtLPEnlU/aiw6jpihuixLWmlg1KC4cKe3qHxnmAoabU5dOuP1cEOqLaOwbcxAdarzkf2N7ixxWtwN/XQyMN5R7vF1js+xUMSIMWYzC1AFap3nqGyMbDq2qJt6DAlHNXqZU9pIS57FnZepHU/Vg/hRBX3JFaZFQ7FVi/UdqLLGu67VbkpEA0UOS5zffcaUFt98JQ4ghUFfmmNzxSA3XB4tSotDOymJFv/480opByvtjpzWiXjzIZCXyidM+6udlq2BuZJHvBbHSIc3Kny9MVLFHR1HG5t/FSywzkbG6dgClGYEFprKst1zMr/mhh6SiyXg9ot1hgBBk1EUR/2ZtgJ/uM83V0qTpvw6orFu5PxJL9bAFlGUjqz08qBIvDTRizSJQhjijHr5YpQoVYwOnpoqiyeNJhO7EaxYHErDfU81dut0UaanQcAUYZpHp59rW6VuA4gfW93soiji0U29FUEVI78Cr4zJeGrQqtkkR9O2CTi6rS8e3NCWgCU/MMlpy8rC/UUp2UA9biTBhfKZDLNwRQ7UWNUbPwrAjFXStTGONjb7KuDUxUEdnUkSXZVQlGwFlaW4I18gCRRCHVv4pq5pD1T0Iv0uwCptMjJ16x3bNmy5asOWq269Y9tkRLnFZ2oYgiY/MDLcnJMsnY1Zkj21vbIEVQJ0IoI6sGrjcaze5bC4mkcUZYVqXY5cNG8dnD2lTQUbSzOZSjbnxpJ2xSwy0le7NYUd1SS55S2dyd4G2RZbSqa8dyEddVhT0pLw0ZS8CySKylzOdG9ghDYokyhRFKVDCHvaxmSHxe4u6eDm6UolrdllfqNdKTWeChzJhdBdPvd5vdDjtTsyWzjddEqgt1BXl3aV59tbyBKtLkRFk1+dLqpMwF1F+upL8pLoCZzFnlbYZmgF38+xCNTwvN20IoUxv9dtZaKkdo5WV6wh4UBKre6OujI7V5sTTW6VBG7zk5mCqtjdNCqRn7LE4kAEp6MHM0kpaVabI2lr8xDVHfe4jNreUD1r9snFgbAocD3Xml3D7UsLI61l6bJpKTl1fTxpEb3GW/KUmpB6R7j5eid2ErjsNdJerrI9J21tCBK1saz+CoelpH2ogxXqTK8eFEQqBMGe4tGtO6HHyyqFBDC/otrM9tMhRVclfRvRolMpMKlOucvNHV3TlLQKTG1klSka6CyKSpXs7pJWbjsXUaByekfWebS9IQwr+sYlDJ2VA6KRLaSpd3G1b0n2xLXHLttwpEILQGmFJaW0YlDXKiwpjV9Z3G7yMrPLu8Kk90wFq/OstqzaYUkGSpCWlZpd1jQwwdZzGkqbCpRkpSoOloX+6ixrPtnNmD2lRfsqS6oCw9JJkhhpL+RHZGHQ53JY3TVBorMwEawr9uIDeWGgKtXmzKzuG8fWCOG+2qLynWh3Hu16W/P9Q9JOvTDSWmB10SEg2u6xOTH7YqujY111pWj0QfmMo0RxuqPUai9oGqZCRwO59qzKAYIk2uujCCBBI90NhS1jEqyqn9iUho4krSWzOrqPjgz0BXv7gm3NhdnOpCLlnEClAH+JKc1Twc0M7GmFLVzP5BObhvGIWRygpyM07Swobbq3prCifSgiDe2TbaVWW14TO5GiEskv6efyWZpyLjVUl2FxVQVpXY0P+L3VPcgVQohOD/tzEPmR40OpLKXsqUC+0+KSu0lXhdtqL/ATTaiEnJYQWq/rCuCrWIhOowmKp2mY3xVAU8BUXw9puqIYDVZkWdleMc5uTS6WGlt0sNbtQFv6rOdiJ6zNbPaAfHyyfL3U2vBgk6+mS10ReJMmGmra6rBs9Q/JTsiow6a63JnVPSMRulYQBitdDrkHRUNNRSkWl3y4i4ZjuzOd6o9rKiPT7c5tCWF/E2SOxaZtDBhmCRCpCgh+ytrUU8nQRmGaGOXrMdw+0a2CWDYqmoSuzm0FVluWt3tCMqG7Kt3ODSzadSHfKkQRYejKSnfXdMleyvq2YHCcSVvpGBgNNeU7LWkNQwoVF+diAShtffIWntLWJ2+J3xQMTQYjMJxxDM06fT1cw8qTxncmV1kT7DYLCAM1qazDK0cWKU0sCUwUCfD7ZgYDpSiKeL5c1K7jsoVav3J+JI41ZTsKiWeatqmx4k2ixFBtmtrtZaTFbZGIR4/ImVhVIBYa460F8gCqymt0OdAgL25sed42MrIYpebuY0pDq5DhqWlBEKITeJbjlBboXMIYQaHPa3fIg6ycehaUJmeSQngT28D3UjkIisrtAdNCY+EvooNMnW5i9fVJ/IUlmG08qorQtKvptmK1+w9aCtBCcXZ+nU0GNf7IE/cRaf9QA4UGSPkGRkax8YiarpWOACQhFqgkJOXSH1NaeVCCQwJfsZ8ZDuTQ1b9cOAvhVsebozTBSCW9BTGSaVrdpFBNFcS0kSkrBdQ6D/o0DR45E9gpLJoSVWsDgmGXjCEpR8cWrKpybte7VE5nlwClsY0FWmNoPktvKhsWTaHqn/S29ItWUdzcZB6UJp1gRaNdPrbdL3BhZcF4N0B3WEFM427G81DZka/L55BcyaOdhXZHqi8wFKZzUibYJGrUn27LqycTbfYIV3c5hQ57Q7nK/cPc6paJVQVM8UR8ZsvySYs/Vc54LoXJYX+u3ZGKNoLi+BcdrK/wy1teKIfQ5Zv1HBB35lK8RFYVqtNFVSk0l9LhxHQUbVLpVrEoipq2qphVII9Ee0Ft79ikFgVT/EVRRO2H9gimG99NyNhkpBjKoipCPbrhVu3rnGQNCQXQ+slgq18U1RLwHJ8xE3JidObW9Y3QBS5TWxPQpzSlLaTTtSu3LqM7S+QDWjQcs9JRGZpaViGg0kNND6raVFSllNXMRk3pquJELYCxbVTLUOmMBgS0W6j4hybT9KamylStQoMhkaRji6apa81RaHE0LxaA0ua78ahoiMh2Hi8+LONi1jqF/oosJX+gYYjsyciDiZkEtN7Cj/g4N2a70/H/1GTWYUgF98nKsBCRqec0hac/aUQU/9dDXdSE0XZfkXsjOntwbnSX1nOniYZRqIHKGspii6jzmDAWqChOT0E7+9aUvMJGncMMSXdjNCa7y1ONDiGY4XEE0CLApkswcWTGW6wWW4F05BNPDjyFT2X7YIosOl1UEc9fhDu97hSLndVdVtJcKU0U0QFtjgsfwSZneSra6S60hm94BXBYd6xRdA1cg0oaUEpRVbF6dMOYJGfJrUhq+Z5Ksnmoyq4zIispDR0PNxduRXBZbCmpRVUBuj2uVItyj2IQ0PKHfpXxsPBhXIQmi9YEXhUVPShHIeWCW85mbKOmdDkTDelWgebZEo1dNLtUBdyzTGqBOCVvtTYBH0s2HhUVQcrSsUXR9kgqrXBO06MZXABKm697CP8oDzYdTT/ptqwOdtopJw8Y9zgtvx1KwvI5rbIueQHI5wKt1kv5AZRrWHgypetzjFdpuo7UaJYtHzWrSlNcCpGxYEtZqs3p7ZX5l6T4/+1dv0srzxb/c1KlybNI3gUDl29AnoVci8TGbaJNbFT4isUz8LikCAqCYGEjIoiCkEJSiBcuXEEkhCAoSFIoFomF2rjVdvs482vn124Sjd/441wuZndn5syZz5yZMzPnzIweBIMyYvBXCNhevKebemV5MhWsU2mxQtCgpsHAyKel6uv1dRJPnVPkGonOnEyJwjSopYmGUIOV5PiyPDkwe9sgqSGrIZE9t908WXPSMafCfI5C8BekQX4im8mAZmlstV/kGzyYHBoVKrWRIB04InZaVTCQq+tUQRRSHUpPauJGZzCKVySxT6f4MruuUP+JWVpQBLOMPciYDmD3MgYZ0iegIKk06BCkVxoHZml89VjPUR9LhdSgpSyGqH+uWZoOdD/vBBqOOEsIJiLR+Vqwi1ZpwhU+WELpe5YGVasoLWIk462OTDgM8x4wT3ZfOcJLSgICBMuaRIoTPN5XZlOB9g2+w/RRCgKgsmEeH0oqeGkfFWKju5LzghTD7LB832vuZpPp/Av8Mh5b15IrGs0GlgETZWOZXuJBPFqSk4VHoQBEzLAHslobjoyliYZQgr5VGaN0KpY9jjyxIatm18yj+r4Ptgfh5wan4TDDqhQleJQ7JvZVaSb9q7RNzTgHUp0MryBTQoz+MaRDpOyCDTLk/JdeVJpPGp1qSwPPqcCN1sjdqGWzCAG+tEdW9IFam5FVyejIZSQ7E6LdqcD/UOn6upZR5heeNZVGjOua8ZisTnNbGlmZlO2FJMeg1AaGNENLWVRwSDRDHnRu/6n3AczSXsMqgSZNfQFgVuK2KsVcTOr9LdhZVNp9ZTYdeGfpDNnEMVK+vXqZOA7RvQTu9eHStONIK/XEgWWyXCWHa3iPd6fbS8Uz4s4FO+FSY6UTYkLwHm7PtxbLxNGLLIdOgssDmXyRoLkcPaCofbwCy1Dc6vDcPMjzWVpEEJiYwMEyt3zUouYZwsk88/zsnCzAag932nRbO3PBQEFHyESDOLDFnM1fdeK1yP9e3FKvNa+2molPHVgdnG72crFEZnq1Wrt9Ao8vNu+UbGmd6nQyE3Y4k568c7UPztyBMc+rr48knR3uE6uXxffJFC28d9atLCA8I4q7rCDp1UrEz5BqaPCyK2SnQm1pxIkjnT+643t6JMHzrtZmV3bq3K7p3f8q/QhmadSxCBwaZRdEwQaszhGPRy4/tJkkpZVYUoN9LDwS3xlwIHwUOd5X5tLEj5cYdD0XfDKdGXamiSkhRhcmdYjexUZhYa/Bjwb12r/LMKSze4r2pNJ86g3I3Yy9TgOmucJn2LJo9tYqrUsZiRMZOB8Sp0d9xQWq1qyCbmWUBQKedZXmPxCPR94huOTUHtmvigyDoNI93/fa9c3saFrejSfVoJKVWRZLtyzLAzRwOV+F2lu/vAeVtl7rnCxPsc0c8cy8vL/h4Vg9N4/ioTcwsi8tdBQPFan7y+kUNJy9m8MVYtmi5xO2bo7nlcMvvLsKO0+PWL/mDsQ5Ot5tFawvdGNKcjy/J842fKptz3OaqVhyPC926mgHKo7OFMVukoggwrJ6mmL625zYrONeH7Fz8wgzmWwp2OumlVazEoM583gp2EElb7JhTgpwRk7ENjWwMTiwt4nhACWSPB7J4YcRR1JpyUEkLgMHcHJcYbheId5A4VM0brwJjBZEeIxlPQaRd7e/zAsCO2/uqnOGLAXMUf+MAAAgAElEQVRoehcbbOcZmXJdrSWDBeTwmiLpO3+CJmA/tvS+GohcasQpK0duun8W5D1wAUv8CXYgKUpF3lLGWoci1amYXGuQXJlS+DDJUJZ2YUIQOP03tuY4bmDKnZc3m3Ke6C/x8lD8G2GvnmXO6l7xMxj1Ruf7ZAeVMiuCuYUyZQGIuKOEygG8wTxYWcaHnifoUmwsPUaXUdoSZ7j20PwtVRBZRp1rg2dYjDmWWv3oTFHdiufdVhaIcT2WSI0466ed82IywAR2oSkYigz1sgA4miUFmOFjLNLAZf9YQegfeHgXKo2uhhH3QstwRj70gCHSRSEZuJkkeqIgb6E3aMKH8AhwYIGlLJAGVkQHGUQYgbF2GNHQIFGmntAQscmDd17k9k41QH6jjoIWvm4OHUufJSeFZ5Lckto7Landq54w+t0Yv99WJuwtmdMJr00eQ/qNjhx5kgXIhqW8EvFQTOQ4fTzbcgyB3WxEej5mjFAB0JNq7yalIALQtIEUlYal7iFKkI/2FJo2sozRwkCyCKsCWxk1nkJfIzoZ1gXZqYcWEnLqVpbIxKGsDjzgHam0Psr2gi5Yo/56ChrBD/3aPxrto4I+8e0dAa9RUk6a6D0lidmpTovZQJ9JSXRNpXm1VYfvT38JOUyDCCAC7weBd6DSQmblURiRLnhkEjzsp3v2j6AEn8/KxFMZVkVkS2lUdp8+7BV4fiRs3PMi8U2H5d9g4fEjlQB5RQQQgWgEhqzS/MdWrRmc6BjNqxTqtelhS/WG6VwnRbM9evcXzNmhpe7ctEX+Kt9egedHguiLFPMjVQnyiggMFoFhq7TBlgapIQKIACKACHxhBFClfeHKx6IjAogAIvC5EECV9rnqE0uDCCACiMAXRgBV2heufCw6IoAIIAKfCwFUaZ+rPrE0iAAigAh8YQRQpX3hyseiIwKIACLwuRBAlfa56hNLgwggAojAF0YAVdoXrnwsOiKACCACnwsBVGmfqz6xNIgAIoAIfGEEUKV94crHoiMCiAAi8LkQQJX2ueoTS4MIIAKIwBdG4MOqNHpJh37NBNyYXqu3+N2DvVesJ1/4Qq5mCL+upXeqnykmBzy4/UR8CS4Qt976YUFBIEwuSCS3UMp37gjK9iswLAT7+eQFRegn2UDjht2QMtBM3ogY1M6bVMwL+fW63sjzAsL/kJDYbpaRuY2UkzcpuJz7h3z+mCoNLiRk10vG6X2J2lWZiVR86qdyR2JU7ZArp8UlkI9wATy9u5IRj0r7RcLgCkR2nye92IXcOcm+cLjgXsHtq+6IkNt4zbSxBL1d82prVM2rO8U+YsCFvMpNb+QK0MmDmz5ovCbq/S92k2favNeb3G5q+f6a/AaY1mse5OkFkv8cXN3Zh7uYw6+7exmkICQvuCGkO7NBjPZvdldnHG5UN4UwSk4oleiCBzl9sacPqtKqeeVqGLjBdmR29/T2iY4evc55cTIVG1+/6GE06dXXv0OnvE5vIuUCoN2qxT9/0d+rUkK9SJrcRzN92FKnWb2O3s1Z2s3hvHZNdti18a+sAeOOee96b6mw1+pBUuAu77G9u9cwcL2di42vVG9Dcuv8KS6Wf3V4DrcHY8mfv4ILvfn3ofy6fxaSqey2uKV9GEy4f5aTuZ1bJesucqJBqiQNfTGERIl5s5cjekj52N9Lc3cs8WPh+I7LgS6Eupy8oOD9MfR5Yn8OlQY3rnLh4HVzuR6PuJedx/I9uKo86zio0gQktge7SssfveBiIBt576o0nvq+eiVXYpeuykaml2/RvVUkhdePcmCyO310H5mLFAjT2fnKo/RleI8Px/OxxHpteAxAzra7at9CTqKF5PU5XmykY7PVdiiYhpz8UwUP5ejjBAxdpQVr1nTkLndqBEYRQVpWtlWwjrkex7PdI+6dltLfVxs3R9BcXzRLo9e0GwqVcRMeSs1FRml9PzwJuys9xJLB7E8Wiuxqdt3uyAGLTMgjva1KIz2I3ne/oONgkz87Bqwott7KFA1rLfSu0qzJfZ8smEePAxQxjVBpIfIjhnZGa6Is2aHpBTfohbU2IjIjQquQDhUqpTkrNrmQEnEJJL96o4aPkpzYy6hA2pVnUgybkASMSDkGH+mTAbsegbzDqlJsrqre1ygJoSknLyq4Ne9P/3EAKu3h8env//7v33/9599//efv//7v4bGPkTuIzlz1pnkwLcwno4WtekBBi5A/JkG2CtaqyjsrSyNcWDKKGWs4z79X4uPrNc+3SXCX/su7PSnNwdXYzCY0OrN1KTdq7+bo54SwPyXH82Jp67GxNZsRlqQRJ1hoYsvryfFvo6lY0ln+LQ3n1VTxqZ8VsXjl3VWKjsSJAiC3f2S+gRUkMy3YAEUXlVDFM0ql9dIhqtTUNzpF226pX+WuSgsxX59qeytZIUKJ9Lflk7AhsFnX0EOVznnlqRWXyExvNx58n3TovK5JpYdYDdXkSWf5iC4u3e87SnJdPdAygWA7+7dM+QkhIQ9LVTpd81o7RPBGMiB+I7MH15x1Mon5sVVv7QgBG12qdnxPal/xqU15Nf6hvhs0vUR6oli9EdQ4zKQpKcxTrQy4rTbav6mcp9cuSQJVqBRB9UlDG9+tSfyMLJ60fe96rzDCmlJ6YkOZrHMuJGsui5nZIjlSBVNjbACf8amfweKtgJQQsvPsXgWIkTZiG+NCejJVVaCILZ5QzaQiycSGMx/8tg9n1GpNlUQpQAhNOfnv36Ib6avgQZ5f62kAKm1heUWupIXlld4hhP5laiY7VT7t0Jb0VNuYiSdyW01GAyKM58amfu5f3geOat1V2n1lLhUPjMbexfbMmHNwLXP2eJJP5kpED5ndnO93UWnto5WFvUabtX/3YnsmlizXeHfQPpqPJ3LLR61nkuNzs1pcJLl7V6XJVNzZrNHyeve17aXib7CWgH5Nzu83meXEu63mk7k1pibd6mIqPidWKtybs92FQ2bUud7+EZtcr/F07ctKceOc5uvDkn2ueHbP2WyUJtNsWOD7UQlloODZrtImSpvLU2le+5ns6rk68NSpWN9JI1+qGhYj2lX1RNBtrC2vV5vMkuo/noDV51AaEEgZm3WtZNTc/Z7Ileoczc7VfmnzFN68Z7e1PwvKj5oPeVVLpEmXF5cAfzhbn0im83Sl0XOfm5XpRIoZIK3pZcH23GcYlhX2m8QjlMVvbU2mxkrnQvBqq7k4ddjh63Lx0SUmRe7VlpOKOVL76lTzydR3MXpwTwoJzp7v++7d6fYKKFTjn+e6p6VULFE+lRxTAbfJ3ISzeXr7xNvmU3UuHZsMmvPpqhNPzle4dZCAnx5ZrFwTgJ8vd7OJVNaZmeAlIg3nh2j+CiMcwOIZdZFliAAbSVDGlKb/SOzoou3LkNIpnc7zHYw2FJ5nJiZ/2MccYOIgUMxWromjL2XCu9wcS6Tzh6K9VwqjqTF1IZ2XhQsSoyCVgs7beDEDOeFf+is4z++r/Q5Apf1r9C/eqcH45V+jf/UOIhFxTYKJhPFRM4kwozczVUzN7KBhSA3JjOD70PaEzJndXFeVptPsVKeF6c5rFOWOQ4oa1n37fmtrXPW/8P2bQ4e7chkaJaAZoXpBEWoGKhhxM3+/iIQBdf5kMECqIAZT6vtn1/Pcp+ujn2OJ1Jh9iM3JmL/hWCmaxkwY+aW2moqJjl6Nada1nJEZKqXuithVyaj3m0NprENAi1p41ATbWHh8Pl7SnZ6882KCtyCSXNblpDhpOg+gBSHI8CUvg75UWP0RUFIXHokuKZ+yPpnEBwM2Z4YRgOYcLzVoLMLPzD7XcKyVJeU1/4buiCQzouFDgigbYjTp+377qBCwqiYxefbqZSvPAQWZAZGjsmxIBGPxhI0jSRzvrBxPyCWVqZD4CgV1TYLwrMiJWgpKq0vB5Qy/0vM7UGmGsyzMHvhHexdjq2BRa3SGRKdf4qP2AHEmA39IWy5d+y9CktkM2ACc9R23lQnFIVNk7sFQVxVlFgZJZnboeFxs8zorcxzcX8sw+K00pakqpwrOUcn5rfrdg9y5wLzivJhIFX8/KU6JMFGYp0tYoQk5ZenXUGn+XXV18zTomyAudN+Jlb489EiPb08CLdaKlcSW9siWQOk4OiStWddKRjCvTee3GzePGpp+91EOVCJffxOcwbSPfzS7KhGNPmiCrascIj+lPw9CQuAB5o6hC/I6BbXrJE6MY6XqdSfMGBzwByiZKk0FGQZhvOWKlNHNWQEf0piSJij16h6iVLEKqZEdGThaeVYLKzGhYsgbmlj8YDHJLhf9IwsbnEpT8VcKLnP8lZ4HoNJeu/Co1gosWEvOGvJzUC+qmAbfff/hrDyWyBSO7YtOLCYsv4wXf9+Lvv76sMAWVYJ+rItKYzaq0dzElEP+g2GDqTToRwpisUVij9JsSF/4IyRJf2OkKEHyd5EvNnp31dWlCbIrKJ6ZWdgDAw//B5ak6UlinxvNFVZP+AoMbHUYmZSoUfqzm3yVMiQhpyv9RnY0Ip7cfYuPEQ/gbpoaE+tgakyz91HD5Te6iScAcGw0VB2aEqVl9FA/WJjNEdNOZmxxvcqXgrurNEN/AIuyrJJnZfQtF0KL7Pu+TpDITyByomYLa3SlVM6LUtYp6N0xmIQXnW9grUl/c1Z2JDO2xhqgpPbyGm6qp0aQWgZcfqYxDCKRkmYWUHEPYZkquahJjOx0QCgJhUJQFPakE1Gz4NEjCoIqjYP0Br8DUGmvdQ9R24lPbTx8M6xdtuwy5HuX6zDE7uYkfbEdeGfIS6bkmRvho21pZLksuy1tZpJZorO0ulldZJRtdd6FJMQvwEykffGebuqV5clgMScI99x282TNScecCjhH0FnaWaClg5jak5ZQC4XXiPYpxbZOU6Rw7ZFME+1TtLD+UaNAX2E5N7nCvCfIJ73TkZKZEhUSGU6iqYJlVywfdRnl+LTeqZeEyBHUPF+LI0LyCpVGZ2nCk0XkwR9kIaTfuqk0ntL3Hu9qhz/HEuli3S4wgJLaVE3cYJamxunanA0ikZJmFvDVKi2UZ6MgAiudZ9LQ9Gols7QFYiYXCfkDqjSOxBv8DkClvYYr0r/wBs8IgVVJXXyXl9pJJJtke83dbDKdPxS7FyP4Yj7WlllasAAT2X9RBiSlRVbk+SyNGMbi3Bwo8wG2kIRhGoQYUOos9/iQk1ifwVowuqvuOuAR6+uxBFXMxKnExgaPqv4GCdXv8GZ0NN799a3u0aHYjUwa2he6dTe8yHrHoSWXXiGmMlAgbmPG7J+m6Fml0ehg2ilQP1uwv0YdVEErMXC+IATIshv3GyJio/d9UkGUKR3M0jY1Mw/IT1I1X0Ukt8zz7JMSTuO+Mht6/guArPbylgqS9Tcj2qU5G0QMSePMwS/xbtf0hEFBWebRIDUj+xb7H/CsFVbmAtxf+ZibfIeGFlNtaaylqyvznMgLVBqcl9RfwXlmX+33Pai0NHj6Unc1t1Up5uRO3+yAoIZMlUZcuWLO5q96oyb9v2DdrldbzcQmFfdluaZtuUSqNOJrG59jjltwWMniTFYsPPo+MQ6n89tXxDPNAy/ExQo5com5V1XJQSfe493p9lLxjHjUwRQTnCSpSYwEzY/BYTm+3zlZgBUw7tHntnbmuNb3rtZmV3bq3Mbm3f8q/WCzNEhYzSfT2Y0GPfTSc+8vDstZhxz+FJ1QRgee9Y6GnjM0sXxQbZL1WyhIYUSaInv19ZGks8M9V3V6MBfPRfXO+uj7vjKbHqFoGLTIeCJXPKN7P9zrw6Vpxwm1w5E9+Pmju2e+UU/q5ryLjQI4srKRjdf+Xf4ezNJ84t0DHqRkMGSZzTwcM09XUokucZkJXEyp3Pah0shiAIjZo3B6vK/MpYnHLGHRc0G0nBl2oIbZLiJnae3jFVim5lbD5+ZB/nWzNOp1FZtUm3OS2W41mwKtRgl8+kGXNLW2yWAFvBMFIBYlrTRnFRMjOzCREi9NmWfHdvZCwAiRN/BvpEZNz/epxyM0NBAKr13fzCYjXKX6V2nUub+vgneq00lJ9gL2P/nTe1Bp67XOifAFj2fmd5pBZwEbQZQBEakPVUzJfpGlYGMW271Bto8wwy/dl8YHy0adPv9eMcza0SrN9x/PSw5bwCT7YK7WktwLgNB/qO+yA/ESqdjoTFGY97y7Cjvljxgw5g4u+GxHSZJIf5vbrbGTI9zrI3YiHFkdzWRLwf6h8FTAh3dbLXI+4QxGp1zhxqHohCpIlo7muXlSWqQ2JwK1XEbYk/Azrp2hpVAEgtGzUrX3IYfgqbMEiZ53c7hCDEIpuvfu5ng+zOPR972LDbaNjw57LzbSYlXAf2xsSdsN45l5eZek79//ElsADZ8Cyk/7WKopFROfLEYVI5aCYRYi1jmBnryljPkaKPJDRIvvFSGTGHXNA+Z5ytIuzBqFL6h2MuroTJHtopOg5Y+QcIoOy9gnmKwIX3kezffvq4F4g7zJR62azdkgAjOkEK8KkkfnT9BXkPNdgYK6FKE0ZxVSIztCU95LR7YSgvyY3U5QRnkjHVPYz5f8AMxEKgb7UCNODnN/LctbIYGuIoRWOem34LcHY9DEIr0KghJ9nqd3odLoAhpxVwuUmcBY2lXPvxkqjQe8/NfIpZtKo1mBx6OFZ8FHWKHoKSH2lMSL8mVBfHuQyJ8/dKMZmpARsKg0QTpkyuKdltTulSfo8VdVaT5YqiwdqEwM1pPtuMmx6HOXirOfQ8HIdEkLscLr3WSl+xegpheMcKh/9H1Djg3qlhgv5dZCimcXwt4LGeRU+a8NEB5GfsM5iwiBmZ9ANDyeyMgmbz3Ihkj/godXFPwFuX3IJO9IpfWB3xuoNCP33lSakeyTfohQaSEl7lSnxWwgJEr0Z1WlebVVh288j06HoYgAIvB1EXgHKi1kASeqTohKo+7p0+H+BVEUIsLc8yJxdoeFrNUerkqJIPV5gkClxTPEa7zEjyZ5q9Ld7c9CRhGO+G+VM9JFBBCBD47AkFWa/9iqNYMTHXsG02tfMjeQ68GfU/6mxHsu4juL+NBkgHOPmzfkL8iLHZP2hnkhaUQAEfhMCAxbpX0mLLEsiAAigAggAkNFAFXaUOHHzBEBRAARQAQGhwCqtMFhiZQQAUQAEUAEhooAqrShwo+ZIwKIACKACAwOAVRpg8MSKSECiAAigAgMFQFUaUOFHzNHBBABRAARGBwCqNIGhyVSQgQQAUQAERgqAqjShgo/Zo4IIAKIACIwOARQpQ0OS6SECCACiAAiMFQEUKUNFX7MHBFABBABRGBwCKBKGxyWSAkRQAQQAURgqAigShsq/Jg5IoAIIAKIwOAQ+LAqjVwAJt9vFGDimZdLBYHhT95zp1Wrt/iNxjwiz8i4sIpH+Iq/9Dox/a44z326uWxc3D71h5VA2CVXFYu/4uqqnhH2pPuu9ESea69f314WPXnP71E89EwEIyICOgJvfBObnl3X9xd2s13pvjbCx1RpcFMtuUk5kYqTm205DO710c+xRJ+Xwmh3+yZS8amf/Creq61RllFwFzDP7Mv+wtXADH92pa96QTa9WjriVl8ZOXIvHa9NTla+kVyOHP7stirFXCyRKl0acaLq17/YZleTxxKsLEb6vj7ALTz0suy+kr3ryOR+5LG9u3fN5LCYe3twvCa/L3vy4GZYxTTyhesMu1zJa6T5Rz58UJVWzZud12NjzUnHkrmx8b5U2lN1LjUyu3t6+0RnBV7nvDiZio2vX0izBPU6yn+kZt5xJjoal5vxpLN8eMUmuN4THVjkj3q7NsicpT2elzKp76tXUg1EwfFQ38wmU/HJ3HdTKnyzfomcqPXrX67HEvOVAVxUZNyVenswlvz5y43i/83D3D/LydzO7Uvz8Vo7i0s7TV4br6T2Ui5elW5QtWDS0cB5FZe2xO6fhWQqu93jANFG4fXfbDWudwKvz2VAFD6NSnNPi+mxYvXava/M9aXSfN8LbmdnqF6uxxPpNWm8/27rb0Bi0B8ZAw3PWGl0q4upF89rH47m+1Aw7vlyMrd81Hru2AY6vq1+m7vf1fp9Q5U2MGXZXx0psQd7C/xgqSmMvtnLoGphUHR6LujD8XwssV7rOf6bRLTVuNEJvEnOLyA6dJUW9IYeMaLwoaAoi4gANg8WaoOYJyALWZbbqD1PJq288KTi16DfW/0xq4ycjyBJulawFVlC2TTFGhKSBOhGZBcRBF38sxtmboxMyAvTCxq11ZeqNO+qNN7HFI0z5ftGrQVB2lOnOv16lWavNWOWFtEJ2ilIQyyIwKQiGHe9oPoikAnhQQPMl9vLC6gJ7kl2sqCHtHrInwYZoyWdNf3dWqIB1YJ96COD44v+ivEvF1ZilTY0o3KlGPSRLPKvXyjfRRZARKFvLTukVZIIoSIhEb0Bz9VW41InoJSFp+G/oSzxCIP+HYBKe3h8+vu///v3X//591//+fu//3t47G25iZQExuNz1ZvmwbQwWY0WtuoBBS1C/pgE2SDmyFhVmvurmI6J9Z9uy9/eWVmbJUj1x/ORfx8bO8szI8IglBxfOL6Xwx/qu0EBE5ls6U+bBnt3laIT5wnjmXmxvMMX0DPfMulYIjO915Jk17s5+jmR5Ea+RGZ6u/HA8osI8n2vtTM3Hk+kRjLk7+zBdUA0MqFcGN/vgga0oPNiMpU9VEBQaYS+kSnaUvUFK3VRUqFkd3M4E0uWa0HZfXtXpSQSL97N8XoeKoXhP+LsSmvUkkqTLL488lKVrW3e/yqBwMQz4/B36uevjqAPFEr1+19UMJKb0J1B0eYrt62dWWH5U0UiVAKv1gI5oQxnttjyQwQPghn6ACwVzzzffxk1SL5w3GIlSqRiSWft0vM7f5anOIyjS9x6DTmq7SU9UazeyJWlcSdeHxtbAT6AauXW80NroXs9KrUQSkeAQzi3dWiiURNO3Yu9gugrRpz102Y1rw2wSDzSC4k2Dg90Jd/eJWo9CS07RwaSjO/WpG52ZPGk7XvXASfpiQ3rOn9ojdNOoPY76IhUMfZ9v3cB44wO4ncAKm1heYW3WMB9YXmld8YA66mZ7FT5tENl9qm2MRNP5LaajAapjNzY1M/9y/tgvBbVeVlVmnexPTPmHFxTqo8nC5O55d9hvSYsXcZVy2d0J/5c31xYPbl+ZM3u4XglnpjZ552Ud7k+lkhnNxptEu51GluLZWJcua/MpWOTPytNyol7fVQu7LWAx+buWCJXPLtnFN1GaTLN1DkJ/Z7IleqMf69ztV/aPKVvsKQWEuS3tiZTY6Vzyobvu7XVXHzuhOnCqIR6fYag4d5cNmr1Ru34YGEqTdqMnrD7u9coJlPftwkI3WOrMaKkwvcfW8Bb/byyWhihXaqcOmIUL0eD5/vK8spOXVTN1ZaTipcarKZ86OACI6LnPsPwqLDflMfC7q/ldHyucs0r8OZoPj65yfUiUBibdLIb5zePfAwORfsxNlVYY/m614fz8cQP0UyiJNBzn5uVadBJhAdGMpoHrcxSoV5CDZLHkw6X56fqcjo2PpOdmt+nkg/inYotnjzTbN2TQiKdP+LjIffudHtlv7shENa643NVNlj03Zuz3YVD4tJir4Xu9ajXgp2OBI7v0/5qYnazRjs0t7U/l46N77Kex/evt3MxqWk/X+5mJ3/YbMCAhee6p6VULFE+hRUs3r2AftK6xKcq9CRBL3q66sST8xXeBQFXifTIIhM5yDSRyjozE7w3aB8p4qRUv73Gybg2CaMNJsaPxAUh6Db7EjAlw1e+DECl/Wv0L1ml/Wv0r955IlgHLZMkvNt3UrHSOa1AEmFGF+iozsuq0nrnyIfalaSBpgzpxMPINqBfoxNK/x6KI5qrlMKrl+VeSQqBxqk5R8CQjTcMgom2FsFSRwQ9Hy9pPi8wl+LdYkRCiTH2aEfjcleMPWOJmeJxi/VQZvrwL+3DmVjiRVM0NpWxeTxCdk/VRT4hSKS+z+3WNE+QPlSazn37qBCjcykIUTo4+GBShtGD5opytz8l/CSJAuDyzzIjAq/OeomMhTrgyBJoW5LtwoNWRrVQZuvrQo2WSGh9iomk+H0fMExwkTYR09ixv6pManF6oGnWY1yrBWttqjXO+iuuS4CLuuR5REZsE6rvKDRMi1sTKwC0NYEM+caykHU82P4tvagYaRlckU4yyQEHspHiZNY4XapRlzqUSuwiEqx0b/HzDlRa0B2wAl5v/xB9hL2rtUHM0XmVSiOjlVzpko+5OVF7J85D+S8zRD2750UxVAe1obReHtm/OXQ0YWVBJEnx9xNYvMR/GGhzL3OYw6Xz240bPi8UNMn0zhrkwXCv9OdBEISH1v4sV70RNAPq7KkbGt5Ds5JPpsbsSxkGOfGBLFeOvWyK1kWliTx837s/LeViSQ4mDemhy5NIwCOz9Lju9aHUHasdHMQzKEO9OwfXSkXAYJxvR7F1zRaBt0Xj5lVFAm3IdONBK6ual8FMN2pqchs/SjMnPn5jpep1h09MNHbsrzAtiE2WK01pOUfENGpBhPRajzSBhY5SOqUgZhLo6BW/M4gClt2woRiZDFlUmqyNSE/SZy9qNGGlFAIc9mDUuG+zPshl7yYSeg4DfB+ASnvtwuNclduBWLlkaOTnoNg2iHnoy1Xaw1l5LJEpqGYwStaQAJ4b/e38KTqZWHJ8Ysoh/3MjQo1RVutqfPIGNGfFOokUgSQZmaSkpL+zmzW2VOU/1A8WZiGXWCIztrheZUuXQCQkiMAymuMcCrKFNb6AGZJQYow/dkGDRCNjz5W+nNeJiau/JJwj8hslFUpE329tjavLm5auSksiXr3rvflvyVRQQWBXE12M0TUYlAG9QFRERTgFttRmULDpAH06GCGBtuTdeBCFpQ8qSwbO3aipyW38aM3cuz0pLTrfwAqY/uas7EjGdY0z5dW7q64uTRAzZzwzs7AnDMyWgYUPlqR+6pHmZNSmVmnJHxsAAA7NSURBVBFaQSCRnASeC2I9kDFv4CkXCrANpAtCzCwgTp+9qJHEqCOZCRuHBgWFMQiNEnKZ+oCfB6DSXuseolaYD8vNP7osstkg5sC8UKVRi1ewgs/J0V+z/qRwWFqML3OjFARI8kGmXNPCMCAlg4GM1T2XztLAGt/1H5x4UgXrY2C642m0IDpLY8u5PI71V0toiROJBo8vt2T+LeqXjs1fPEWzdZTh2RlC0jO3ZLl4Zkts0tK7GKnqafYGZaj3qUr4nlmDgr1ocrRICbQl78aDhpycl2UZsxs1NbmNH7Obphx4j3e1w59jiXSx3ktz4Gx7Tzf1yvKkZOM0aqHvegypTaWx68JA0shZkwkZcbThrDLT+KtnaX32okYTNupIYtDqS2xQUFRaN5GQqQ/4eQAq7TUcEVHWVoFhBK2uAoshMM9q0CrNa+5mk+n84V1YuzHrj7PCFJiitDqVrJil+WSHlmPrwsgqhC7fQJcYus11fClL9RHWwQvMdKeGkCVyGgTTpmT5NKyEWjopoR5irjk8tq4105Tvw5Qr0Xt2xGzeB3smU5aulkTy2s073apHVjgnqO8ApST3Ozba4hvtfKV9Ql6tFD1L29TtHFDvhnlYZCCPh8RHi8DLfRA8h0ugT73+lDNNuvAgMqYPcl4voKYm70elkezvK7Opke0rjaeur2DaGd1l7u+Xei30XY80P4NOfyqNWtYDHxZo7KcgP69SaT7UZn+9qNGhGXUk40u8PRX5MTsBTZ33J2ByZq99fg8qLQ3utk1yeAc71iho8Pbhm6WF+8+3V8Sl7aQ0lYotHpDnqxvuVFZbzcSEU1mnOp2UHAg71XwyFXM2f4FHXPD/4pYv89nqTwKedGqT5VParbut/cVCdkqyn92ChhsrnRDTl/dwe761WCYOih5Ic3J+65K4z3n3F4flAu1ngSXiJEmsCZ4LQVmHHofjXWwUFvYa/CxKr/27DF0kWKQjgoir3lw67mzWqInCc9uXlaIzQw6ViE4olZU8au3hZi8H2wxWq7VbYv9jI2vZlnZfmU2PFP/oqkUQpkckyDpGBPm+V18fSTo73AlWCqGPwtNyfSKRKuyRGrzkagwOPkjFp1Z2jlttYr5qN0/IKTMRtjSvtpqJT3H/WC0/GK+k84fU+cVrn5ULzoy0NETmf5PrtUfuokY8AsC/Eb7Q7YDexWqOeLrSA2uISMwJF1xb52IReDlaNwmkPSl4xPXIg1ZmOS8QJPB46oOaltwy+JCbeft4pSD5Dz83D/JilgYtN2P3Ve6cLMAKPDsDyHdbO3PByNg3a6FLPRo8U0hMOuoQRC4IA1EbLd1W4KQbEMhG7bhSnB3Pr66/0pYG3k/Md1rqRSVrscmV1oQ1xaxVv63GLTt51FyihdzIYXAf3oNKW691TsQOFXlvFiwcH8OOCuECywpuaeF3O5PKHg7qhMkPpqP70vhWJLIvTfiPPRwviZ1hsuumcFGx2kKVKvDu9pdhpxckHy3sNO+qc9ztgsTzbqtgbKMRkuP5PXG8zVNtGxb0adCIUxa7c5QkidSIU+a+/r7/2Ngi28toqnhmPtjJFxEEKu+uQrZDMU5GZ4pH3C8xOqFSWps01w8WHI4AgCBRhrS0dozZNicLjSF8ivb8+2c8mPXyNOKX1CYrEd8rFktI5z+5rerq0pjY+JhIf+vi8UikRXdKFPn5D2frWUYtPVH804bzwMjuMRqlc1KgoVxuPWk/EPeDVeo9lhzPBzsLYSeQNiIm0yxH9fuFxQxODWo2WgLlTWDcDyWCh6Cw5OlqLaku/UlbynqgZpQIRv3KrOL590rQ3LQzOUGW+PIJrWvLQQow3bk+KvN6ARtztqTsZjNrIbIeDZ45JAYdBRzor7RVZZivqOOnx6vKxsr0lDOxWN6vP1mX9XhuxAqjErR3if59VWrack9i7UVhB3fgcO9T63IgTiJ78WDUOFBQV5KUSoSEvQuYyGYAD+9CpdHFAeJ6ZFkXU/bm0yJbVNoAsIggYQxqbHFhn7yF/yBqaATiKmlNSvbeW0P46SHWwMj9/NQvzpqOuczZw0RBwtEIz/e2MqE0IUGslwfvtKT0gL2kscSJAFMbSnvnRa6QLHTIJxDXcJzM8/it8e0yb5F4GxdmtFABY8n74MGWofatD2omqxotXzmfhAZawbk5dHR9r5GKqGXqp6rWmrUUQDKS59BUGjPkNZKS799WJlQFb6OhfAsnGNqThCfhlLvHIF6+Kno8Mfu10rDWo5ZwgK/vSKX1Uar3qdL6KMDHjhqu0sLK5dVWyYERYeHR3zvVabElPDrmi0NVldY+KkSNWF+cCyZ8JQJeozQl9qS/ktZwkj+cHcDMLPjn1lYDb7jgMz69FIF3oNLkRZsei0FUGvWing4xwPRIqVu0u/1ZcLOGZSvDTbZb2k8bDiqNeehSo+AHLunNYQE2NkxmtCPQPnCRkPV3jMADPUFqNDcxu1JcLsCWg6TiQPuOef8YrA1ZpcExRU15zNIjal6bnr1Ub5i+dj2S6DHaQ5M5jFywI7t6TPepo7HDpRo14YXxcYsblIWfcfVxy4KcfwwEvHazcXp0sLZRqdZb/IC6j8H6++dy2Crt/SOEHCICiAAigAh8EARQpX2QikI2EQFEABFABLohgCqtG0IYjgggAogAIvBBEECV9kEqCtlEBBABRAAR6IYAqrRuCGE4IoAIIAKIwAdBAFXaB6koZBMRQAQQAUSgGwKo0rohhOGIACKACCACHwQBVGkfpKKQTUQAEUAEEIFuCKBK64YQhiMCiAAigAh8EARQpX2QikI2EQFEABFABLohgCqtG0IYjgggAogAIvBBEECV1lNFedG3xvREAyMhAogAIoAIvC0CqNJ6wBcO/k+vXVpjksstJ+l909YI+BERQAQQAUTgH0IAVVoPQEddz+Zd7y0V9lr8Yjy4EJlfpd0DZYyCCCACiAAiMDgEUKX1gGWUStOSP1XmUjH7RfJaTHxFBBABRAARGDAC70OlkbvVn0PsVeSe75AwevO6aw0ld5bbggLDGM2Xz7BUaGlyEtZFpcm3k0eotDB+vGfGgHHJehR7KrP4hgggAogAIuD7w1Zp3l2l6MQTqRj9P1rYkm4x95oH+Uw6lsh8I3+ng/U9qLqH+u70KE+YyGRLf9qsRr2bo58TSR6UdJaP7gK1BfppvnLb2pnNsEwTGZWye7FXGOEsjcweXN9W84lUyW5L8+GK59K55/sXG2lOkGU9sn1FOWr/LmdH4Sbob/DXWf59L2QPki+fXNO7biHT9MTGleff/wpgyRSOg/giIT4gAogAIoAIaAgMWaVdb/+ITa7XXMqV176sFDfOn+lbc3cskSue8buG3UZpMp0/Zldge5frY4l0dqNB74T1Oo2txfIvQufheD4uJXw4W59IpvNHXCuASvsxNlVYq1PK7vXhfDzxY6vJkLk5nImpybNTue/RKm2u+gCpvWe3tT8LGu7ZdZ/5BPH590o8Ob/f5IW8reaTubVLpmRBpSXTE6VzWpCH45V44kfWcfKHLYKDW1vNxRJLVZaaMYk/iAAigAggAiYCw1VpEct0bnUx9X31Kphd+b53Vo6N715DIe73nVRs8YQpP6VYV6Vk6vt2S/4GWipZrlFaZBUxe8g1HMRrlBKp/BFRll6jaE3ek0rzfd8sUWtrnBPnPN0cOrHlP5R5otI4bxDhqpRIxZiOJAk61enw3DlJ/EUEEAFEABEY9sLj9XYulpzfqt89yLoLJjznxUSq+PuJTnfY32ZlOjFffWShTAlplXhbmTAd7pu738VHotLUVUTQIoxaaPLIhcdAAxkqDQjO7DRh0hb8PyvHkpsXhHNQaUFym1K0MKyVGV8RAUQAEUAEAIHhztKgB6/trUxPErPWaK6wenJNV9hIPz4y6UxMqf9nN2GVkvbydVsVXq7HEvOVRzVI1gryM4slqbSuyVXCvk9saYFOMlQaEEx/00ox5UwsVqnlD1WagSh+QAQQAUTghQgMXaVxvj233TxZc9IxpwJ9PZ2lnWlzNxEZ5nDTwjzGP8MvzIqMGRXM0ri1LFqlhSY3aPJMVZ1kqDQg6Ozf8tjGr5ocZ2kGQPgBEUAEEIGeEXg3Ko1yXF8HVwiYY4EtLU48CW1lgdCYU7mxhIHtSrOlgROKaksLXXj0LaY4SG6qSZ61qpOeqnMpYScjUYCf7OEdj67/qslRpen44DsigAggAr0jMFSV5l2tza7s1O/Zxizv/lfpB5ul+b7fqeaTxKeR7Drz3PuLw3LW4UdP3VayidRY6eTm0fN97+H2fGuxfCp5PC4ftYh9zr0++jmWCFwl2aKl4pEvLTz6PnWYlJNPODOWmR/HWNNJbe4wSSxnMMskzpk5TtD3Hu9Ot+fHipJ7SLBu2VWlebXVTGxy8yJk+sqZwl9EABFABL4iAkNVaWRvGdl5Rjdypb/N7dYkM5h3Wy06YvdYasQpV7grPKgKOTQ5nt+7Eg6Q7WOyD4ztdZspyvu6Hk/y+kogcUrk2wN8X97Wlp4oVm9uT/Ji3dIQkouNdLzUkFSMtKWM+4A81HfDigm72bj3I6EN8zxllun+WRC+LT4cuBXMOA1m8AMigAggAl8ZgSGrNAZ99DEZJFTSGWp9Qag9kBw7Yg9SSfi+fAAI5wmmWSK1JYJOQ3m3cmUvSA+ke4ii5I4viAAigAh8SQTeh0r7ktBjoREBRAARQAQGiwCqtMHiidQQAUQAEUAEhoYAqrShQY8ZIwKIACKACAwWAVRpg8UTqSECiAAigAgMDQFUaUODHjNGBBABRAARGCwCqNIGiydSQwQQAUQAERgaAqjShgY9ZowIIAKIACIwWARQpQ0WT6SGCCACiAAiMDQEUKUNDXrMGBFABBABRGCwCKBKGyyeSA0RQAQQAURgaAigShsa9JgxIoAIIAKIwGARQJU2WDyRGiKACCACiMDQEECVNjToMWNEABFABBCBwSKAKm2weCI1RAARQAQQgaEhgCptaNBjxogAIoAIIAKDRQBV2mDxRGqIACKACCACQ0MAVdrQoMeMEQFEABFABAaLwP8B1eTLKhikYwUAAAAASUVORK5CYII=)"
      ],
      "metadata": {
        "id": "4CL2sX0AMXV6"
      }
    },
    {
      "cell_type": "code",
      "source": [
        "List = [0,2,3,4,5,6,7,8,9,10]\n",
        "Sliced_List = List[3:8]\n",
        "print(\"\\nSlicing elements in a range 3-8: \")\n",
        "print(Sliced_List)\n",
        "\n",
        "# Print elements from a\n",
        "# pre-defined point to end\n",
        "Sliced_List = List[5:]\n",
        "print(\"\\nElements sliced from 5th \"\n",
        "      \"element till the end: \")\n",
        "print(Sliced_List)\n",
        "\n",
        "# Printing elements from\n",
        "# beginning till end\n",
        "Sliced_List = List[:]\n",
        "print(\"\\nPrinting all elements using slice operation: \")\n",
        "print(Sliced_List)"
      ],
      "metadata": {
        "colab": {
          "base_uri": "https://localhost:8080/"
        },
        "id": "FCyVwoGTTMZO",
        "outputId": "1652a594-904b-498a-c650-ae8f708fbe58"
      },
      "execution_count": null,
      "outputs": [
        {
          "output_type": "stream",
          "name": "stdout",
          "text": [
            "\n",
            "Slicing elements in a range 3-8: \n",
            "[4, 5, 6, 7, 8]\n",
            "\n",
            "Elements sliced from 5th element till the end: \n",
            "[6, 7, 8, 9, 10]\n",
            "\n",
            "Printing all elements using slice operation: \n",
            "[0, 2, 3, 4, 5, 6, 7, 8, 9, 10]\n"
          ]
        }
      ]
    },
    {
      "cell_type": "code",
      "source": [
        "# to a pre-defined point using Slice\n",
        "Sliced_List = List[:-6]\n",
        "print(\"\\nElements sliced till 6th element from last: \")\n",
        "print(Sliced_List)\n",
        "\n",
        "# Print elements of a range\n",
        "# using negative index List slicing\n",
        "Sliced_List = List[-6:-1]\n",
        "print(\"\\nElements sliced from index -6 to -1\")\n",
        "print(Sliced_List)\n",
        "\n",
        "# Printing elements in reverse\n",
        "# using Slice operation\n",
        "Sliced_List = List[::-1]\n",
        "print(\"\\nPrinting List in reverse: \")\n",
        "print(Sliced_List)"
      ],
      "metadata": {
        "colab": {
          "base_uri": "https://localhost:8080/"
        },
        "id": "suvmKzaQTxRx",
        "outputId": "2447d5b4-8a3e-4b6d-cd08-eedcb4bf4b07"
      },
      "execution_count": null,
      "outputs": [
        {
          "output_type": "stream",
          "name": "stdout",
          "text": [
            "\n",
            "Elements sliced till 6th element from last: \n",
            "[0, 2, 3, 4]\n",
            "\n",
            "Elements sliced from index -6 to -1\n",
            "[5, 6, 7, 8, 9]\n",
            "\n",
            "Printing List in reverse: \n",
            "[10, 9, 8, 7, 6, 5, 4, 3, 2, 0]\n"
          ]
        }
      ]
    },
    {
      "cell_type": "markdown",
      "source": [
        "List Comprehension - List = [ expression(element) for element in oldList if condition ]"
      ],
      "metadata": {
        "id": "t9gByl-5URRb"
      }
    },
    {
      "cell_type": "code",
      "source": [
        "# odd numbers from range 1 to 10\n",
        "List=[0,1,2,4,5]\n",
        "Even = [x for x in List if x % 2 == 0]\n",
        "print(Even)"
      ],
      "metadata": {
        "colab": {
          "base_uri": "https://localhost:8080/"
        },
        "id": "YYT4MyywT0EM",
        "outputId": "3ab97a48-c744-4a5d-90b8-32b770ed90b8"
      },
      "execution_count": null,
      "outputs": [
        {
          "output_type": "stream",
          "name": "stdout",
          "text": [
            "[0, 2, 4]\n"
          ]
        }
      ]
    },
    {
      "cell_type": "markdown",
      "source": [
        "sum(), max(), min(), len()"
      ],
      "metadata": {
        "id": "DEQ3_yTqUjIB"
      }
    },
    {
      "cell_type": "markdown",
      "source": [
        "## **Tuple**"
      ],
      "metadata": {
        "id": "yFbD4cQjVIeb"
      }
    },
    {
      "cell_type": "code",
      "source": [
        "Tuple = (5, 'Welcome', 7)\n",
        "Tuple"
      ],
      "metadata": {
        "colab": {
          "base_uri": "https://localhost:8080/"
        },
        "id": "RqeKM2uFUgc6",
        "outputId": "d141136e-a978-4074-8e24-7f6b360e34c8"
      },
      "execution_count": null,
      "outputs": [
        {
          "output_type": "execute_result",
          "data": {
            "text/plain": [
              "(5, 'Welcome', 7)"
            ]
          },
          "metadata": {},
          "execution_count": 61
        }
      ]
    },
    {
      "cell_type": "code",
      "source": [
        "# Concatenation of tuples\n",
        "Tuple1 = (1, 2, 3)\n",
        "Tuple2 = (4, 5, 6)\n",
        "\n",
        "Tuple3 = Tuple1 + Tuple2\n",
        "Tuple3"
      ],
      "metadata": {
        "colab": {
          "base_uri": "https://localhost:8080/"
        },
        "id": "tWtpr2InVnFi",
        "outputId": "833332ed-3285-45c7-9227-d16ca043792c"
      },
      "execution_count": null,
      "outputs": [
        {
          "output_type": "execute_result",
          "data": {
            "text/plain": [
              "(1, 2, 3, 4, 5, 6)"
            ]
          },
          "metadata": {},
          "execution_count": 63
        }
      ]
    },
    {
      "cell_type": "code",
      "source": [
        "del Tuple1\n",
        "\n",
        "print(Tuple1)"
      ],
      "metadata": {
        "colab": {
          "base_uri": "https://localhost:8080/",
          "height": 176
        },
        "id": "mGGxwwZLV1vg",
        "outputId": "90f3a885-9b1d-4bc0-82c6-7cf37346961b"
      },
      "execution_count": null,
      "outputs": [
        {
          "output_type": "error",
          "ename": "NameError",
          "evalue": "name 'Tuple1' is not defined",
          "traceback": [
            "\u001b[0;31m---------------------------------------------------------------------------\u001b[0m",
            "\u001b[0;31mNameError\u001b[0m                                 Traceback (most recent call last)",
            "\u001b[0;32m<ipython-input-64-33b0def5ca44>\u001b[0m in \u001b[0;36m<cell line: 3>\u001b[0;34m()\u001b[0m\n\u001b[1;32m      1\u001b[0m \u001b[0;32mdel\u001b[0m \u001b[0mTuple1\u001b[0m\u001b[0;34m\u001b[0m\u001b[0;34m\u001b[0m\u001b[0m\n\u001b[1;32m      2\u001b[0m \u001b[0;34m\u001b[0m\u001b[0m\n\u001b[0;32m----> 3\u001b[0;31m \u001b[0mprint\u001b[0m\u001b[0;34m(\u001b[0m\u001b[0mTuple1\u001b[0m\u001b[0;34m)\u001b[0m\u001b[0;34m\u001b[0m\u001b[0;34m\u001b[0m\u001b[0m\n\u001b[0m",
            "\u001b[0;31mNameError\u001b[0m: name 'Tuple1' is not defined"
          ]
        }
      ]
    },
    {
      "cell_type": "markdown",
      "source": [
        "## Tuples VS Lists\n",
        "\n",
        "*   used for both lists and tuples:\n",
        "len(), max(), min(), sum(), any(), all(), sorted()\n",
        "*    cannot be used for tuples: append(), insert(), remove(), pop(), clear(), sort(), reverse()\n",
        "*   Iterating through a ‘tuple’ is faster than in a ‘list’.\n",
        "*   Tuples can be stored in lists.\n",
        "*   ‘Lists’ are mutable whereas ‘tuples’ are immutable.\n",
        "*   List item\n",
        "\n",
        "\n",
        "\n"
      ],
      "metadata": {
        "id": "i4Yb9VUUV-5g"
      }
    },
    {
      "cell_type": "code",
      "source": [
        "l=[1,1,2,3,5]\n",
        "s=set(l)\n",
        "s\n"
      ],
      "metadata": {
        "colab": {
          "base_uri": "https://localhost:8080/"
        },
        "id": "QzBBh2Ys9Ja0",
        "outputId": "6ce079eb-348b-4602-bbdb-5b9d981c3b0e"
      },
      "execution_count": null,
      "outputs": [
        {
          "output_type": "execute_result",
          "data": {
            "text/plain": [
              "{1, 2, 3, 5}"
            ]
          },
          "metadata": {},
          "execution_count": 98
        }
      ]
    },
    {
      "cell_type": "markdown",
      "source": [
        "## **Set**"
      ],
      "metadata": {
        "id": "ZCuC-RrvWpGA"
      }
    },
    {
      "cell_type": "code",
      "source": [
        "my_set = {1, 2, 3}\n",
        "my_set"
      ],
      "metadata": {
        "colab": {
          "base_uri": "https://localhost:8080/"
        },
        "id": "r77TOAIIV5wJ",
        "outputId": "b58d123b-4175-44f4-aed6-8b6fa6c134ba"
      },
      "execution_count": null,
      "outputs": [
        {
          "output_type": "execute_result",
          "data": {
            "text/plain": [
              "{1, 2, 3}"
            ]
          },
          "metadata": {},
          "execution_count": 67
        }
      ]
    },
    {
      "cell_type": "code",
      "source": [
        "my_set = set([1, 2, 3, 2, 3])\n",
        "my_set"
      ],
      "metadata": {
        "colab": {
          "base_uri": "https://localhost:8080/"
        },
        "id": "eg72XPZOW8uo",
        "outputId": "d621c7df-2fe9-4029-960d-89e05ef52f96"
      },
      "execution_count": null,
      "outputs": [
        {
          "output_type": "execute_result",
          "data": {
            "text/plain": [
              "{1, 2, 3}"
            ]
          },
          "metadata": {},
          "execution_count": 68
        }
      ]
    },
    {
      "cell_type": "code",
      "source": [
        "#Using add() Method\n",
        "my_set.add(4)\n",
        "print(my_set)\n",
        "#Using update() Method\n",
        "my_set.update([5, 6])\n",
        "print(my_set)"
      ],
      "metadata": {
        "colab": {
          "base_uri": "https://localhost:8080/"
        },
        "id": "LOo8gqg3XNQZ",
        "outputId": "5c398f40-aba6-4b64-aaaa-0cab4c97b866"
      },
      "execution_count": null,
      "outputs": [
        {
          "output_type": "stream",
          "name": "stdout",
          "text": [
            "{1, 2, 3, 4}\n",
            "{1, 2, 3, 4, 5, 6}\n"
          ]
        }
      ]
    },
    {
      "cell_type": "code",
      "source": [
        "# Checking the element\n",
        "# using in keyword\n",
        "print(4 in my_set)"
      ],
      "metadata": {
        "colab": {
          "base_uri": "https://localhost:8080/"
        },
        "id": "19pqtomaX9Gn",
        "outputId": "8bc5f581-6131-48e0-8816-994077d72d86"
      },
      "execution_count": null,
      "outputs": [
        {
          "output_type": "stream",
          "name": "stdout",
          "text": [
            "True\n"
          ]
        }
      ]
    },
    {
      "cell_type": "markdown",
      "source": [
        "**Note:** Lists cannot be added to a set as elements because Lists are not hashable whereas Tuples can be added because tuples are immutable and hence Hashable."
      ],
      "metadata": {
        "id": "k5QSpPgYXrp4"
      }
    },
    {
      "cell_type": "markdown",
      "source": [
        "Removing Elements from the Set\n",
        "*   Using remove() Method or discard() Method\n",
        "*   Using pop() Method\n",
        "*   Using clear() Method"
      ],
      "metadata": {
        "id": "nHZwAKMXYXqv"
      }
    },
    {
      "cell_type": "markdown",
      "source": [
        "add(), remove(), union(), intersection(), issubset()"
      ],
      "metadata": {
        "id": "MKieC5K5ZQOm"
      }
    },
    {
      "cell_type": "code",
      "source": [
        "s={1,2,3,4,5}\n",
        "s1={3,4,5,6,7}\n",
        "s=s.union(s1)\n",
        "s"
      ],
      "metadata": {
        "colab": {
          "base_uri": "https://localhost:8080/"
        },
        "id": "CIM-5wDRDEft",
        "outputId": "d502c800-cd8f-4052-f0cc-84c9ceb48d11"
      },
      "execution_count": null,
      "outputs": [
        {
          "output_type": "execute_result",
          "data": {
            "text/plain": [
              "{1, 2, 3, 4, 5, 6, 7}"
            ]
          },
          "metadata": {},
          "execution_count": 101
        }
      ]
    },
    {
      "cell_type": "code",
      "source": [
        "s={1,2,3,4,5}\n",
        "s1={3,4,5,6,7}\n",
        "s=s.intersection(s1)\n",
        "s"
      ],
      "metadata": {
        "colab": {
          "base_uri": "https://localhost:8080/"
        },
        "id": "MklAxQz3DTud",
        "outputId": "54c787f2-f6b0-477b-d384-30071b6c3910"
      },
      "execution_count": null,
      "outputs": [
        {
          "output_type": "execute_result",
          "data": {
            "text/plain": [
              "{3, 4, 5}"
            ]
          },
          "metadata": {},
          "execution_count": 102
        }
      ]
    },
    {
      "cell_type": "markdown",
      "source": [
        "## **Dictionary**"
      ],
      "metadata": {
        "id": "xS5JHTDPYmTQ"
      }
    },
    {
      "cell_type": "code",
      "source": [
        "dict = {\n",
        "  1: 'Python',\n",
        "  2: 'dictionary',\n",
        "  3: 'example'\n",
        "}\n",
        "dict"
      ],
      "metadata": {
        "colab": {
          "base_uri": "https://localhost:8080/"
        },
        "id": "s3TLXaXbYV4P",
        "outputId": "543242a4-70b5-4d55-a5ab-628747223545"
      },
      "execution_count": null,
      "outputs": [
        {
          "output_type": "execute_result",
          "data": {
            "text/plain": [
              "{1: 'Python', 2: 'dictionary', 3: 'example'}"
            ]
          },
          "metadata": {},
          "execution_count": 72
        }
      ]
    },
    {
      "cell_type": "markdown",
      "source": [
        "![image.png](data:image/png;base64,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)"
      ],
      "metadata": {
        "id": "ov_KDKcEZJqS"
      }
    },
    {
      "cell_type": "code",
      "source": [
        "Dict = {1: 'Cake', 2: 'Halwa',\n",
        "        3: {'A': 'Apple', 'B': 'Orange', 'C': 'Mango'}}\n",
        "\n",
        "Dict"
      ],
      "metadata": {
        "colab": {
          "base_uri": "https://localhost:8080/"
        },
        "id": "8WyX2YHmZLp3",
        "outputId": "e3855cf6-abfb-41fc-f90a-78c168334ad1"
      },
      "execution_count": null,
      "outputs": [
        {
          "output_type": "execute_result",
          "data": {
            "text/plain": [
              "{1: 'Cake', 2: 'Halwa', 3: {'A': 'Apple', 'B': 'Orange', 'C': 'Mango'}}"
            ]
          },
          "metadata": {},
          "execution_count": 75
        }
      ]
    },
    {
      "cell_type": "code",
      "source": [
        "Dict[3]"
      ],
      "metadata": {
        "colab": {
          "base_uri": "https://localhost:8080/"
        },
        "id": "T3JC3-I8Zg_L",
        "outputId": "f1800a4c-6544-4b81-8996-0a15f92dd5ab"
      },
      "execution_count": null,
      "outputs": [
        {
          "output_type": "execute_result",
          "data": {
            "text/plain": [
              "{'A': 'Apple', 'B': 'Orange', 'C': 'Mango'}"
            ]
          },
          "metadata": {},
          "execution_count": 76
        }
      ]
    },
    {
      "cell_type": "code",
      "source": [
        "Dict[3]['C']='Apple'\n",
        "Dict"
      ],
      "metadata": {
        "colab": {
          "base_uri": "https://localhost:8080/"
        },
        "id": "QnAPYf1pZk2K",
        "outputId": "e4f6f368-1ea2-4473-8e98-d52cfcbf9bc4"
      },
      "execution_count": null,
      "outputs": [
        {
          "output_type": "execute_result",
          "data": {
            "text/plain": [
              "{1: 'Cake', 2: 'Halwa', 3: {'A': 'Apple', 'B': 'Orange', 'C': 'Apple'}}"
            ]
          },
          "metadata": {},
          "execution_count": 77
        }
      ]
    },
    {
      "cell_type": "code",
      "source": [
        "Dict.keys()"
      ],
      "metadata": {
        "colab": {
          "base_uri": "https://localhost:8080/"
        },
        "id": "IkJrqHuiZ_-K",
        "outputId": "c5872cc5-dc10-47b8-caca-aa888d5c586a"
      },
      "execution_count": null,
      "outputs": [
        {
          "output_type": "execute_result",
          "data": {
            "text/plain": [
              "dict_keys([1, 2, 3])"
            ]
          },
          "metadata": {},
          "execution_count": 78
        }
      ]
    },
    {
      "cell_type": "code",
      "source": [
        "Dict.values()"
      ],
      "metadata": {
        "colab": {
          "base_uri": "https://localhost:8080/"
        },
        "id": "w_H-DYixaJWr",
        "outputId": "e1b4b544-9663-4f84-aafa-dfe89a5ef736"
      },
      "execution_count": null,
      "outputs": [
        {
          "output_type": "execute_result",
          "data": {
            "text/plain": [
              "dict_values(['Cake', 'Halwa', {'A': 'Apple', 'B': 'Orange', 'C': 'Apple'}])"
            ]
          },
          "metadata": {},
          "execution_count": 79
        }
      ]
    },
    {
      "cell_type": "markdown",
      "source": [
        "## **Functions**"
      ],
      "metadata": {
        "id": "Zf43Jo15ibBj"
      }
    },
    {
      "cell_type": "code",
      "source": [
        "def my_function():\n",
        "  print(\"Hello from a function\")"
      ],
      "metadata": {
        "id": "-SwT1pEoiaQn"
      },
      "execution_count": 27,
      "outputs": []
    },
    {
      "cell_type": "code",
      "source": [
        "my_function()"
      ],
      "metadata": {
        "colab": {
          "base_uri": "https://localhost:8080/"
        },
        "id": "z0xiReUVifaG",
        "outputId": "a30d5dc4-b91e-4aa5-aa62-d2704b6dbe99"
      },
      "execution_count": 28,
      "outputs": [
        {
          "output_type": "stream",
          "name": "stdout",
          "text": [
            "Hello from a function\n"
          ]
        }
      ]
    },
    {
      "cell_type": "code",
      "source": [
        "def my_function(fname):\n",
        "  print(\" Welcome \"+ fname)\n",
        "\n",
        "my_function(\"Python\")\n",
        "my_function(\"ML\")\n",
        "my_function(\"DL\")"
      ],
      "metadata": {
        "colab": {
          "base_uri": "https://localhost:8080/"
        },
        "id": "KkSlL7aOijPf",
        "outputId": "1fea5268-9ba1-4c3e-be5a-ba4fd780b923"
      },
      "execution_count": 31,
      "outputs": [
        {
          "output_type": "stream",
          "name": "stdout",
          "text": [
            " Welcome Python\n",
            " Welcome ML\n",
            " Welcome DL\n"
          ]
        }
      ]
    },
    {
      "cell_type": "code",
      "source": [
        "def my_function(fname, lname):\n",
        "  print(fname + \" is a subset \" + lname)\n",
        "\n",
        "my_function(\"DL\", \"ML\")"
      ],
      "metadata": {
        "colab": {
          "base_uri": "https://localhost:8080/"
        },
        "id": "AgT1ghp7i664",
        "outputId": "05949f0f-04c0-46e0-f1c6-f96e836849da"
      },
      "execution_count": 32,
      "outputs": [
        {
          "output_type": "stream",
          "name": "stdout",
          "text": [
            "DL is a subset ML\n"
          ]
        }
      ]
    },
    {
      "cell_type": "code",
      "source": [
        "def my_function(x):\n",
        "  return 5 * x\n",
        "\n",
        "print(my_function(3))"
      ],
      "metadata": {
        "colab": {
          "base_uri": "https://localhost:8080/"
        },
        "id": "_DnpGus7jH7I",
        "outputId": "1c0f080d-8814-400b-f73e-7338a6572d37"
      },
      "execution_count": 33,
      "outputs": [
        {
          "output_type": "stream",
          "name": "stdout",
          "text": [
            "15\n"
          ]
        }
      ]
    },
    {
      "cell_type": "code",
      "source": [
        "#function definitions cannot be empty, but if you for some reason have a function definition with no content, put in the pass statement to avoid getting an error.\n",
        "def myfunction():\n",
        "  pass"
      ],
      "metadata": {
        "id": "pUrm5bbgjdK3"
      },
      "execution_count": null,
      "outputs": []
    }
  ]
}